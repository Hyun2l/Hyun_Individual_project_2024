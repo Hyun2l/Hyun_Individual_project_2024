{
 "cells": [
  {
   "cell_type": "code",
   "outputs": [
    {
     "name": "stderr",
     "output_type": "stream",
     "text": [
      "/opt/anaconda3/envs/COMS30035_labs/lib/python3.11/site-packages/sklearn/cluster/_kmeans.py:870: FutureWarning: The default value of `n_init` will change from 10 to 'auto' in 1.4. Set the value of `n_init` explicitly to suppress the warning\n",
      "  warnings.warn(\n",
      "/opt/anaconda3/envs/COMS30035_labs/lib/python3.11/site-packages/sklearn/cluster/_kmeans.py:870: FutureWarning: The default value of `n_init` will change from 10 to 'auto' in 1.4. Set the value of `n_init` explicitly to suppress the warning\n",
      "  warnings.warn(\n",
      "/opt/anaconda3/envs/COMS30035_labs/lib/python3.11/site-packages/sklearn/cluster/_kmeans.py:870: FutureWarning: The default value of `n_init` will change from 10 to 'auto' in 1.4. Set the value of `n_init` explicitly to suppress the warning\n",
      "  warnings.warn(\n",
      "/opt/anaconda3/envs/COMS30035_labs/lib/python3.11/site-packages/sklearn/cluster/_kmeans.py:870: FutureWarning: The default value of `n_init` will change from 10 to 'auto' in 1.4. Set the value of `n_init` explicitly to suppress the warning\n",
      "  warnings.warn(\n",
      "/opt/anaconda3/envs/COMS30035_labs/lib/python3.11/site-packages/sklearn/cluster/_kmeans.py:870: FutureWarning: The default value of `n_init` will change from 10 to 'auto' in 1.4. Set the value of `n_init` explicitly to suppress the warning\n",
      "  warnings.warn(\n",
      "/opt/anaconda3/envs/COMS30035_labs/lib/python3.11/site-packages/sklearn/cluster/_kmeans.py:870: FutureWarning: The default value of `n_init` will change from 10 to 'auto' in 1.4. Set the value of `n_init` explicitly to suppress the warning\n",
      "  warnings.warn(\n",
      "/opt/anaconda3/envs/COMS30035_labs/lib/python3.11/site-packages/sklearn/cluster/_kmeans.py:870: FutureWarning: The default value of `n_init` will change from 10 to 'auto' in 1.4. Set the value of `n_init` explicitly to suppress the warning\n",
      "  warnings.warn(\n",
      "/opt/anaconda3/envs/COMS30035_labs/lib/python3.11/site-packages/sklearn/cluster/_kmeans.py:870: FutureWarning: The default value of `n_init` will change from 10 to 'auto' in 1.4. Set the value of `n_init` explicitly to suppress the warning\n",
      "  warnings.warn(\n",
      "/opt/anaconda3/envs/COMS30035_labs/lib/python3.11/site-packages/sklearn/cluster/_kmeans.py:870: FutureWarning: The default value of `n_init` will change from 10 to 'auto' in 1.4. Set the value of `n_init` explicitly to suppress the warning\n",
      "  warnings.warn(\n",
      "/opt/anaconda3/envs/COMS30035_labs/lib/python3.11/site-packages/sklearn/cluster/_kmeans.py:870: FutureWarning: The default value of `n_init` will change from 10 to 'auto' in 1.4. Set the value of `n_init` explicitly to suppress the warning\n",
      "  warnings.warn(\n"
     ]
    },
    {
     "data": {
      "text/plain": "<Figure size 640x480 with 1 Axes>",
      "image/png": "[encoded data removed]"
     },
     "metadata": {},
     "output_type": "display_data"
    },
    {
     "name": "stderr",
     "output_type": "stream",
     "text": [
      "/opt/anaconda3/envs/COMS30035_labs/lib/python3.11/site-packages/sklearn/cluster/_kmeans.py:870: FutureWarning: The default value of `n_init` will change from 10 to 'auto' in 1.4. Set the value of `n_init` explicitly to suppress the warning\n",
      "  warnings.warn(\n"
     ]
    },
    {
     "name": "stdout",
     "output_type": "stream",
     "text": [
      "Cluster Centers (original scale): [[25.55858463]\n",
      " [47.06403796]\n",
      " [35.66379565]]\n",
      "Silhouette Score: 0.5315661195893135\n"
     ]
    }
   ],
   "source": [
    "import pandas as pd\n",
    "from sklearn.cluster import KMeans\n",
    "from sklearn.preprocessing import StandardScaler\n",
    "from sklearn.metrics import silhouette_score\n",
    "\n",
    "# Load dataset\n",
    "df = pd.read_csv('f1_2019_to_2023_all_drivers_all_data.csv', low_memory=False)\n",
    "\n",
    "# Scale the TrackTemp data\n",
    "scaler = StandardScaler()\n",
    "df['TrackTemp_scaled'] = scaler.fit_transform(df[['TrackTemp']])\n",
    "\n",
    "# Use the elbow method to find the optimal number of clusters\n",
    "sse = []\n",
    "for k in range(1, 11):\n",
    "    kmeans = KMeans(n_clusters=k, random_state=42)\n",
    "    kmeans.fit(df[['TrackTemp_scaled']])\n",
    "    sse.append(kmeans.inertia_)\n",
    "\n",
    "# Plot SSE to find the elbow\n",
    "import matplotlib.pyplot as plt\n",
    "plt.plot(range(1, 11), sse, marker='o')\n",
    "plt.xlabel('Number of clusters')\n",
    "plt.ylabel('SSE')\n",
    "plt.show()\n",
    "\n",
    "# Assuming the elbow is at k = 3 for instance\n",
    "kmeans = KMeans(n_clusters=3, random_state=42)\n",
    "df['TrackTempCluster'] = kmeans.fit_predict(df[['TrackTemp_scaled']])\n",
    "print(\"Cluster Centers (original scale):\", scaler.inverse_transform(kmeans.cluster_centers_))\n",
    "\n",
    "# Evaluate silhouette score\n",
    "score = silhouette_score(df[['TrackTemp_scaled']], df['TrackTempCluster'])\n",
    "print(\"Silhouette Score:\", score)\n"
   ],
   "metadata": {
    "collapsed": false,
    "ExecuteTime": {
     "end_time": "2024-05-03T14:23:25.489921Z",
     "start_time": "2024-05-03T14:22:04.231335Z"
    }
   },
   "id": "2fa2b81fceacb039",
   "execution_count": 4
  },
  {
   "cell_type": "code",
   "outputs": [
    {
     "name": "stderr",
     "output_type": "stream",
     "text": [
      "/opt/anaconda3/envs/COMS30035_labs/lib/python3.11/site-packages/sklearn/cluster/_kmeans.py:870: FutureWarning: The default value of `n_init` will change from 10 to 'auto' in 1.4. Set the value of `n_init` explicitly to suppress the warning\n",
      "  warnings.warn(\n"
     ]
    },
    {
     "name": "stdout",
     "output_type": "stream",
     "text": [
      "Cluster Centers (original scale): [[32.56661739]\n",
      " [50.45227637]\n",
      " [43.16390257]\n",
      " [17.80163754]\n",
      " [27.242491  ]\n",
      " [37.67602556]]\n",
      "Silhouette Score: 0.5533903423538764\n"
     ]
    }
   ],
   "source": [
    "import pandas as pd\n",
    "from sklearn.cluster import KMeans\n",
    "from sklearn.preprocessing import StandardScaler\n",
    "from sklearn.metrics import silhouette_score\n",
    "\n",
    "# Load dataset\n",
    "df = pd.read_csv('f1_2019_to_2023_all_drivers_all_data.csv', low_memory=False)\n",
    "\n",
    "# Check and handle missing values\n",
    "df['TrackTemp'].fillna(df['TrackTemp'].mean(), inplace=True)\n",
    "\n",
    "# Scale the TrackTemp data\n",
    "scaler = StandardScaler()\n",
    "df['TrackTemp_scaled'] = scaler.fit_transform(df[['TrackTemp']])\n",
    "\n",
    "# Apply k-means clustering with 4 clusters\n",
    "kmeans = KMeans(n_clusters=10, random_state=42)\n",
    "df['TrackTempCluster'] = kmeans.fit_predict(df[['TrackTemp_scaled']])\n",
    "\n",
    "# Output the cluster centers in the original scale\n",
    "cluster_centers_original_scale = scaler.inverse_transform(kmeans.cluster_centers_)\n",
    "print(\"Cluster Centers (original scale):\", cluster_centers_original_scale)\n",
    "\n",
    "# Evaluate silhouette score\n",
    "score = silhouette_score(df[['TrackTemp_scaled']], df['TrackTempCluster'])\n",
    "print(\"Silhouette Score:\", score)\n"
   ],
   "metadata": {
    "collapsed": false,
    "ExecuteTime": {
     "end_time": "2024-05-03T14:45:30.314671Z",
     "start_time": "2024-05-03T14:44:10.694048Z"
    }
   },
   "id": "a7bc448ef3b753c2",
   "execution_count": 12
  },
  {
   "cell_type": "code",
   "outputs": [
    {
     "name": "stderr",
     "output_type": "stream",
     "text": [
      "/opt/anaconda3/envs/COMS30035_labs/lib/python3.11/site-packages/sklearn/cluster/_kmeans.py:870: FutureWarning: The default value of `n_init` will change from 10 to 'auto' in 1.4. Set the value of `n_init` explicitly to suppress the warning\n",
      "  warnings.warn(\n",
      "/opt/anaconda3/envs/COMS30035_labs/lib/python3.11/site-packages/sklearn/cluster/_kmeans.py:870: FutureWarning: The default value of `n_init` will change from 10 to 'auto' in 1.4. Set the value of `n_init` explicitly to suppress the warning\n",
      "  warnings.warn(\n",
      "/opt/anaconda3/envs/COMS30035_labs/lib/python3.11/site-packages/sklearn/cluster/_kmeans.py:870: FutureWarning: The default value of `n_init` will change from 10 to 'auto' in 1.4. Set the value of `n_init` explicitly to suppress the warning\n",
      "  warnings.warn(\n",
      "/opt/anaconda3/envs/COMS30035_labs/lib/python3.11/site-packages/sklearn/cluster/_kmeans.py:870: FutureWarning: The default value of `n_init` will change from 10 to 'auto' in 1.4. Set the value of `n_init` explicitly to suppress the warning\n",
      "  warnings.warn(\n",
      "/opt/anaconda3/envs/COMS30035_labs/lib/python3.11/site-packages/sklearn/cluster/_kmeans.py:870: FutureWarning: The default value of `n_init` will change from 10 to 'auto' in 1.4. Set the value of `n_init` explicitly to suppress the warning\n",
      "  warnings.warn(\n",
      "/opt/anaconda3/envs/COMS30035_labs/lib/python3.11/site-packages/sklearn/cluster/_kmeans.py:870: FutureWarning: The default value of `n_init` will change from 10 to 'auto' in 1.4. Set the value of `n_init` explicitly to suppress the warning\n",
      "  warnings.warn(\n",
      "/opt/anaconda3/envs/COMS30035_labs/lib/python3.11/site-packages/sklearn/cluster/_kmeans.py:870: FutureWarning: The default value of `n_init` will change from 10 to 'auto' in 1.4. Set the value of `n_init` explicitly to suppress the warning\n",
      "  warnings.warn(\n",
      "/opt/anaconda3/envs/COMS30035_labs/lib/python3.11/site-packages/sklearn/cluster/_kmeans.py:870: FutureWarning: The default value of `n_init` will change from 10 to 'auto' in 1.4. Set the value of `n_init` explicitly to suppress the warning\n",
      "  warnings.warn(\n",
      "/opt/anaconda3/envs/COMS30035_labs/lib/python3.11/site-packages/sklearn/cluster/_kmeans.py:870: FutureWarning: The default value of `n_init` will change from 10 to 'auto' in 1.4. Set the value of `n_init` explicitly to suppress the warning\n",
      "  warnings.warn(\n",
      "/opt/anaconda3/envs/COMS30035_labs/lib/python3.11/site-packages/sklearn/cluster/_kmeans.py:870: FutureWarning: The default value of `n_init` will change from 10 to 'auto' in 1.4. Set the value of `n_init` explicitly to suppress the warning\n",
      "  warnings.warn(\n"
     ]
    },
    {
     "data": {
      "text/plain": "<Figure size 640x480 with 1 Axes>",
      "image/png": "[encoded data removed]"
     },
     "metadata": {},
     "output_type": "display_data"
    },
    {
     "name": "stderr",
     "output_type": "stream",
     "text": [
      "/opt/anaconda3/envs/COMS30035_labs/lib/python3.11/site-packages/sklearn/cluster/_kmeans.py:870: FutureWarning: The default value of `n_init` will change from 10 to 'auto' in 1.4. Set the value of `n_init` explicitly to suppress the warning\n",
      "  warnings.warn(\n"
     ]
    },
    {
     "name": "stdout",
     "output_type": "stream",
     "text": [
      "Cluster Centers (original scale): [[28.31487626]\n",
      " [16.8149051 ]\n",
      " [22.02289423]]\n",
      "Silhouette Score: 1.0\n"
     ]
    }
   ],
   "source": [],
   "metadata": {
    "collapsed": false,
    "ExecuteTime": {
     "end_time": "2024-05-08T17:48:32.676137Z",
     "start_time": "2024-05-08T17:38:12.471559Z"
    }
   },
   "id": "20fcca37b89e7682",
   "execution_count": 1
  },
  {
   "cell_type": "code",
   "execution_count": null,
   "id": "initial_id",
   "metadata": {
    "collapsed": true
   },
   "outputs": [],
   "source": [
    "from sklearn.model_selection import train_test_split, KFold, GridSearchCV\n",
    "from sklearn.metrics import mean_squared_error, mean_absolute_error, r2_score\n",
    "from xgboost import XGBRegressor\n",
    "import shap\n",
    "import matplotlib.pyplot as plt\n",
    "from sklearn.model_selection import train_test_split, KFold, GridSearchCV\n",
    "from sklearn.metrics import make_scorer, mean_squared_error, mean_absolute_error, r2_score\n",
    "from sklearn.preprocessing import RobustScaler\n",
    "from xgboost import XGBRegressor\n",
    "import pandas as pd\n",
    "\n",
    "\n",
    "# Load dataset\n",
    "df = pd.read_csv('f1_2019_to_2023_all_drivers_all_data.csv', low_memory=False)\n",
    "\n",
    "# Convert time columns to seconds\n",
    "time_columns = ['LapTime', 'Sector1Time', 'Sector2Time', 'Sector3Time']\n",
    "for col in time_columns:\n",
    "    df[col] = pd.to_timedelta(df[col]).dt.total_seconds()\n",
    "\n",
    "# Convert binary columns to integer type\n",
    "df['Rainfall'] = df['Rainfall'].astype(int)\n",
    "df['FreshTyre'] = df['FreshTyre'].astype(int)\n",
    "df['IsAccurate'] = df['IsAccurate'].astype(int)\n",
    "\n",
    "\n",
    "# Categorize weather condition based on centroid values of Kmeans clustering\n",
    "def categorize_weather(row):\n",
    "    if row['Rainfall'] > 0:\n",
    "        return 'Rainy'\n",
    "    elif row['AirTemp'] > 28.43213126:\n",
    "        return 'high'\n",
    "    elif row['AirTemp'] > 21.31279265:\n",
    "        return 'medium'\n",
    "    elif row['AirTemp'] > 12.84901403:\n",
    "        return 'low'\n",
    "    else:\n",
    "        return 'very_low'\n",
    "\n",
    "df['Weather_Category'] = df.apply(categorize_weather, axis=1)\n",
    "df['Original_Weather_Category'] = df['Weather_Category']\n",
    "df = pd.get_dummies(df, columns=['Weather_Category'])\n",
    "\n",
    "\n",
    "# Keep the original Driver and Circuit for EDA\n",
    "df['Original_Driver'] = df['Driver']\n",
    "\n",
    "# Create Track temperature category based on the result of Kmeans clustering \n",
    "df['TrackTemp_Cat'] = pd.cut(df['TrackTemp'], bins=[0, 18.96764999, 27.87457484, 35.04425766, 41.75142602, 50.51006013], labels=['VERY_LOW', 'Low', 'Medium', 'Warm', 'High'])\n",
    "df['Original_TrackTemp_Cat'] = df['TrackTemp_Cat']\n",
    "df = pd.get_dummies(df, columns=['TrackTemp_Cat'])\n",
    "\n",
    "\n",
    "#Feature Engineering with weather condition features\n",
    "df['TrackConditionIndex'] = ( df['TrackTemp'] + df['Humidity'] + df['Pressure'] +\n",
    "                             df['WindDirection']) / 4\n",
    "\n",
    "\n",
    "# One-hot encoding\n",
    "df = pd.get_dummies(df, columns=['Driver', 'Compound', 'Team','TrackStatus'])\n",
    "\n",
    "# Drop irrelevant columns\n",
    "columns_to_drop = ['Time', 'Sector1SessionTime', 'Sector2SessionTime', 'Sector3SessionTime',\n",
    "                   'PitOutTime', 'PitInTime', 'LapStartDate', 'Deleted', 'DeletedReason', 'FastF1Generated',\n",
    "                   'IsPersonalBest', 'Sector3Time','LapStartTime','Sector2Time','Sector1Time','Circuit']\n",
    "df.drop(columns=columns_to_drop, inplace=True)\n",
    "\n",
    "\n",
    "# Select numerical values for scaling and imputation\n",
    "numeric_features = ['Humidity', 'Pressure', 'WindDirection', 'WindSpeed','TrackTemp','AirTemp','TrackConditionIndex','Rainfall','SpeedI1', 'SpeedI2', 'SpeedFL', 'SpeedST']\n",
    "\n",
    "# Example for forward fill\n",
    "#time_series_features = ['WindDirection', 'WindSpeed', 'TrackTemp', 'AirTemp', 'Rainfall', 'SpeedI1', 'SpeedI2', 'SpeedFL', 'SpeedST']\n",
    "\n",
    "df[numeric_features] = df[numeric_features].fillna(method='ffill')\n",
    "\n",
    "\n",
    "## Separate Rainy / dry days ##\n",
    "# 1. Separate LapTime as dry or wet(rainy) condition ( since lapTime of rainy day would be recognized as outliers)\n",
    "# 2. Remove Outliers for dry condition LapTime\n",
    "# 3. Build Combined LapTime df (Outliers for dry days are deleted)\n",
    "\n",
    "# Flag for rainy conditions\n",
    "df['IsRainy'] = df['Rainfall'].apply(lambda x: 1 if x > 0 else 0)\n",
    "\n",
    "# Separate dataframes for dry and wet conditions\n",
    "df_dry = df[df['IsRainy'] == 0]\n",
    "df_wet = df[df['IsRainy'] == 1]\n",
    "\n",
    "# Remove Outliers for dry days using the IQR method that effective to removes extreme outliers\n",
    "Q1_dry = df_dry['LapTime'].quantile(0.25)\n",
    "Q3_dry = df_dry['LapTime'].quantile(0.75)\n",
    "IQR_dry = Q3_dry - Q1_dry\n",
    "lower_bound_dry = Q1_dry - 1.5 * IQR_dry\n",
    "upper_bound_dry = Q3_dry + 1.5 * IQR_dry\n",
    "df_dry_filtered = df_dry[(df_dry['LapTime'] >= lower_bound_dry) & (df_dry['LapTime'] <= upper_bound_dry)]\n",
    "df_dry_filtered = df_dry_filtered.copy()\n",
    "df_wet = df_wet.copy()\n",
    "\n",
    "\n",
    "## Scaling to the selected numeric features ##\n",
    "robust_scaler = RobustScaler()\n",
    "\n",
    "# Applying scaling to the numeric features\n",
    "df_dry_filtered[numeric_features] = robust_scaler.fit_transform(df_dry_filtered[numeric_features])\n",
    "df_wet[numeric_features] = robust_scaler.transform(df_wet[numeric_features])  # Use transform, not fit_transform\n",
    "\n",
    "# Combining the datasets after scaling\n",
    "df_combined = pd.concat([df_dry_filtered, df_wet], ignore_index=True)\n",
    "df_combined.info(verbose=True)"
   ]
  },
  {
   "cell_type": "code",
   "outputs": [],
   "source": [
    "# 1. Separate LapTime as dry or wet(rainy) condition ( since lapTime of rainy day would be recognized as outliers)\n",
    "# 2. Remove Outliers for dry condition LapTime\n",
    "# 3. Build Combine\n",
    "\n",
    "import pandas as pd\n",
    "import matplotlib.pyplot as plt\n",
    "\n",
    "\n",
    "correlation_matrix= df_combined[numeric_features + ['LapTime']].corr(method='spearman')\n",
    "\n",
    "# Focus on 'LapTime' correlations\n",
    "laptime_correlations = correlation_matrix['LapTime'].drop('LapTime')  # drop self-correlation\n",
    "\n",
    "# Convert correlations to percentage and sort in descending order\n",
    "laptime_correlations_percentage = laptime_correlations * 100\n",
    "laptime_correlations_sorted = laptime_correlations_percentage.sort_values(ascending=False)\n",
    "\n",
    "# Convert to list and format the output\n",
    "laptime_correlations_list = [(f\"{index}: {value:.2f}%\") for index, value in laptime_correlations_sorted.items()]\n",
    "\n",
    "# Print the formatted list\n",
    "for item in laptime_correlations_list:\n",
    "    print(item)\n",
    "\n",
    "# Optionally, visualize the correlations in descending order\n",
    "plt.figure(figsize=(10, 8))\n",
    "laptime_correlations_sorted.plot(kind='bar')\n",
    "plt.title('Percentage Correlation of LapTime with Other Variables')\n",
    "plt.ylabel('Correlation Percentage')\n",
    "plt.xlabel('Variables')\n",
    "plt.grid(True)\n",
    "plt.show()\n"
   ],
   "metadata": {
    "collapsed": false
   },
   "id": "bbd352c385d196a3",
   "execution_count": null
  },
  {
   "cell_type": "code",
   "outputs": [],
   "source": [
    "from sklearn.cluster import KMeans\n",
    "import matplotlib.pyplot as plt\n",
    "import seaborn as sns\n",
    "import numpy as np\n",
    "\n",
    "# Step 1: Prepare the data (assuming df_combined is already loaded and cleaned)\n",
    "humidity_data = df_combined[['Humidity']].dropna()  # Ensuring there are no NaN values\n",
    "\n",
    "# Step 2: Perform K-Means Clustering\n",
    "kmeans = KMeans(n_clusters=3, n_init=10, random_state=42)  # Explicitly setting n_init\n",
    "\n",
    "clusters = kmeans.fit_predict(humidity_data)\n",
    "\n",
    "# Step 3: Create a new categorical feature\n",
    "df_combined['HumidityCat'] = clusters\n",
    "\n",
    "# Optionally add more descriptive labels based on the cluster characteristics\n",
    "# For example, after inspecting cluster centers:\n",
    "cluster_centers = kmeans.cluster_centers_\n",
    "sorted_indices = np.argsort(cluster_centers.squeeze())  # Sort clusters by humidity level\n",
    "labels = ['Low', 'Medium', 'High']\n",
    "df_combined['HumidityCat'] = df_combined['HumidityCat'].map({idx: labels[i] for i, idx in enumerate(sorted_indices)})\n",
    "\n",
    "# Step 4: Visualize the Results\n",
    "# Plotting histograms for each cluster to visualize distribution\n",
    "plt.figure(figsize=(10, 6))\n",
    "sns.histplot(data=df_combined, x='Humidity', hue='HumidityCat', element='step', palette='viridis')\n",
    "plt.title('Humidity Distribution Across Clusters')\n",
    "plt.xlabel('Humidity (%)')\n",
    "plt.ylabel('Frequency')\n",
    "plt.show()\n"
   ],
   "metadata": {
    "collapsed": false
   },
   "id": "c76ff42a4753d742",
   "execution_count": null
  },
  {
   "cell_type": "code",
   "outputs": [],
   "source": [],
   "metadata": {
    "collapsed": false
   },
   "id": "273e861bcb563145",
   "execution_count": null
  },
  {
   "cell_type": "code",
   "outputs": [],
   "source": [],
   "metadata": {
    "collapsed": false
   },
   "id": "3e48888bd2756831"
  },
  {
   "cell_type": "code",
   "outputs": [],
   "source": [],
   "metadata": {
    "collapsed": false
   },
   "id": "185d3bd9b35dbf83",
   "execution_count": null
  },
  {
   "cell_type": "code",
   "outputs": [],
   "source": [
    "import seaborn as sns\n",
    "\n",
    "plt.figure(figsize=(10, 6))\n",
    "sns.histplot(data=df_combined, x='LapTime', hue='Rainfall', element='step', stat='density', common_norm=False)\n",
    "plt.title('Lap Time Distribution by Rainfall Condition')\n",
    "plt.xlabel('Lap Time (seconds)')\n",
    "plt.ylabel('Density')\n",
    "plt.show()\n"
   ],
   "metadata": {
    "collapsed": false
   },
   "id": "7fa57fde2e45b4e1",
   "execution_count": null
  },
  {
   "cell_type": "code",
   "outputs": [],
   "source": [
    "import seaborn as sns\n",
    "import matplotlib.pyplot as plt\n",
    "\n",
    "# Set plot size\n",
    "plt.figure(figsize=(10, 6))\n",
    "\n",
    "# Create histogram\n",
    "sns.histplot(\n",
    "    data=df_combined,\n",
    "    x='LapTime',\n",
    "    hue='Rainfall',\n",
    "    element='step',\n",
    "    stat='density',\n",
    "    common_norm=False,\n",
    "    palette='coolwarm',  # Improved color palette\n",
    "    edgecolor='black'    # Adding edge color for clarity\n",
    ")\n",
    "\n",
    "# Add a grid\n",
    "plt.grid(True, which='both', linestyle='--', linewidth=0.5)\n",
    "\n",
    "# Add titles and labels\n",
    "plt.title('Lap Time Distribution by Rainfall Condition')\n",
    "plt.xlabel('Lap Time (seconds)')\n",
    "plt.ylabel('Density')\n",
    "\n",
    "# Optional: Add vertical lines for mean or median\n",
    "mean_laptime = df_combined['LapTime'].mean()\n",
    "plt.axvline(mean_laptime, color='red', linestyle='dashed', linewidth=2)\n",
    "plt.text(mean_laptime*1.01, plt.ylim()[1]*0.95, 'Mean', color='red')\n",
    "\n",
    "# Show the plot\n",
    "plt.show()\n"
   ],
   "metadata": {
    "collapsed": false
   },
   "id": "cee1fbb5cb0b46c4",
   "execution_count": null
  },
  {
   "cell_type": "code",
   "outputs": [],
   "source": [
    "# Example analysis: Comparing average lap times in dry vs. wet conditions\n",
    "average_laptime_dry = df_dry_filtered['LapTime'].mean()\n",
    "average_laptime_wet = df_wet['LapTime'].mean()\n",
    "average_Combined = df_combined['LapTime'].mean()\n",
    "\n",
    "print(f\"Average dry lap time: {average_laptime_dry} seconds\")\n",
    "print(f\"Average wet lap time: {average_laptime_wet} seconds\")\n",
    "print(f\"Combined lap time: {average_Combined} seconds\")\n",
    "\n"
   ],
   "metadata": {
    "collapsed": false
   },
   "id": "230c6d6d2eb3fdcb",
   "execution_count": null
  },
  {
   "cell_type": "code",
   "outputs": [],
   "source": [
    "import matplotlib.pyplot as plt\n",
    "import seaborn as sns\n",
    "\n",
    "# EDA - Visualization: Histogram\n",
    "plt.figure(figsize=(10, 6))\n",
    "\n",
    "# Plot histogram for dry days\n",
    "sns.histplot(df_dry_filtered['LapTime'], kde=True, label='Dry (Outliers Removed)', color='blue')\n",
    "\n",
    "# Plot histogram for wet days\n",
    "sns.histplot(df_wet['LapTime'], kde=True, label='Wet', color='green')\n",
    "\n",
    "# Plotting details\n",
    "plt.title('Lap Times by Dry and Wet Conditions')\n",
    "plt.xlabel('Lap Time (seconds)')\n",
    "plt.ylabel('Frequency')\n",
    "plt.legend(title='Condition')\n",
    "plt.show()\n",
    "\n",
    "# EDA - Visualization: Box Plot\n",
    "plt.figure(figsize=(10, 6))\n",
    "\n",
    "# Create a temporary DataFrame to combine dry and wet data for the box plot\n",
    "temp_df = pd.concat([\n",
    "    df_dry_filtered.assign(Condition='Dry (Outliers Removed)'),\n",
    "    df_wet.assign(Condition='Wet')\n",
    "], ignore_index=True)\n",
    "\n",
    "sns.boxplot(x='Condition', y='LapTime', data=temp_df)\n",
    "\n",
    "plt.title('Lap Times Under Dry and Wet Conditions')\n",
    "plt.xlabel('Condition')\n",
    "plt.ylabel('Lap Time (seconds)')\n",
    "plt.show()\n"
   ],
   "metadata": {
    "collapsed": false
   },
   "id": "14c6ab0b91939c07",
   "execution_count": null
  },
  {
   "cell_type": "code",
   "outputs": [],
   "source": [],
   "metadata": {
    "collapsed": false
   },
   "id": "1b5d5c2fcf473d89",
   "execution_count": null
  },
  {
   "cell_type": "code",
   "execution_count": null,
   "id": "4c2285b0989e7a64",
   "metadata": {
    "collapsed": false
   },
   "outputs": [],
   "source": [
    "#EDA - Visualization\n",
    "\n",
    "plt.figure(figsize=(10, 6))\n",
    "\n",
    "# Unique categories in the 'Original_Weather_Category' column\n",
    "weather_categories = df['Original_Weather_Category'].unique()\n",
    "# Plot histogram for each weather category\n",
    "for category in weather_categories:\n",
    "    # Select lap times for the current category\n",
    "    category_lap_times = df[df['Original_Weather_Category'] == category]['LapTime']\n",
    "    # Plot the distribution of lap times for the category\n",
    "    sns.histplot(category_lap_times, kde=True, label=category)\n",
    "    \n",
    "# Plotting\n",
    "plt.title('Lap Times by Weather Condition')\n",
    "plt.xlabel('Lap Time (seconds)')\n",
    "plt.ylabel('Frequency')\n",
    "plt.legend(title='Weather Condition')\n",
    "plt.show()\n",
    "\n",
    "\n",
    "# Second graph with box plot\n",
    "plt.figure(figsize=(10, 6))\n",
    "sns.boxplot(x='Original_Weather_Category', y='LapTime', data=df)\n",
    "plt.title('Lap Times Under Different Weather Conditions')\n",
    "plt.xlabel('Weather Condition')\n",
    "plt.ylabel('Lap Time (seconds)')\n",
    "plt.show()"
   ]
  },
  {
   "cell_type": "code",
   "outputs": [],
   "source": [],
   "metadata": {
    "collapsed": false
   },
   "id": "f054440d932d08e6",
   "execution_count": null
  },
  {
   "cell_type": "markdown",
   "source": [],
   "metadata": {
    "collapsed": false
   },
   "id": "ae1ff3435d85efed"
  },
  {
   "cell_type": "code",
   "outputs": [],
   "source": [],
   "metadata": {
    "collapsed": false
   },
   "id": "64ecd2b142cb4542",
   "execution_count": null
  },
  {
   "cell_type": "code",
   "outputs": [],
   "source": [],
   "metadata": {
    "collapsed": false
   },
   "id": "2f9347ee5f8dcdc",
   "execution_count": null
  },
  {
   "cell_type": "code",
   "execution_count": null,
   "id": "45fe0165dc6a1d26",
   "metadata": {
    "collapsed": false
   },
   "outputs": [],
   "source": [
    "plt.figure(figsize=(10, 6))\n",
    "sns.boxplot(x='Original_TrackTemp_Cat', y='LapTime', data=df_combined)\n",
    "plt.title('Lap Times Across Different Track Temperatures')\n",
    "plt.xlabel('Track Temperature Category')\n",
    "plt.ylabel('Lap Time (seconds)')\n",
    "plt.show()"
   ]
  },
  {
   "cell_type": "code",
   "outputs": [],
   "source": [
    "some_string = df_combined['some_column'].iloc[0]  # Example of fetching a string from a DataFrame column\n",
    "if some_string is not None:\n",
    "    parts = some_string.split()  # This will safely execute only if `some_string` is not None\n",
    "else:\n",
    "    parts = []  # or any other fallback value\n"
   ],
   "metadata": {
    "collapsed": false
   },
   "id": "3fb1d8c7116be224",
   "execution_count": null
  },
  {
   "cell_type": "code",
   "outputs": [],
   "source": [
    "from sklearn.cluster import KMeans\n",
    "# Initialize KMeans\n",
    "kmeans = KMeans(n_clusters=3, random_state=42)\n",
    "\n",
    "\n",
    "\n",
    "# Fit KMeans on the 'Humidity' column and create a new column for the cluster labels\n",
    "df_combined['HumidityCluster'] = kmeans.fit_predict(df_combined[['Humidity']])\n",
    "\n",
    "# Optionally, add the cluster centroids as a new feature for further analysis or to interpret clusters\n",
    "centroids = kmeans.cluster_centers_\n",
    "df_combined['HumidityCentroid'] = df_combined['HumidityCluster'].apply(lambda x: centroids[x][0])\n",
    "\n",
    "# Visualize the results\n",
    "plt.figure(figsize=(10, 6))\n",
    "sns.scatterplot(data=df_combined, x='Humidity', y='LapTime', hue='HumidityCluster', palette='viridis')\n",
    "plt.title('Lap Time vs. Humidity with K-Means Clustering')\n",
    "plt.xlabel('Humidity (%)')\n",
    "plt.ylabel('Lap Time (seconds)')\n",
    "plt.show()\n"
   ],
   "metadata": {
    "collapsed": false
   },
   "id": "1c69b33054014204",
   "execution_count": null
  },
  {
   "cell_type": "code",
   "execution_count": null,
   "id": "cdb93b1f4330fc23",
   "metadata": {
    "collapsed": false
   },
   "outputs": [],
   "source": [
    "from sklearn.cluster import KMeans\n",
    "\n",
    "#K-Means to determine thresholds, The centroids of these clusters could reflect potential thresholds.\n",
    "\n",
    "kmeans = KMeans(n_clusters=3)\n",
    "df['AirTempCluster'] = kmeans.fit_predict(df[['AirTemp']])\n",
    "\n",
    "# Check the cluster centers for AirTemp\n",
    "print(kmeans.cluster_centers_)\n",
    "\n",
    "kmeans = KMeans(n_clusters=7)  \n",
    "\n",
    "df['TrackTempCluster'] = kmeans.fit_predict(df[['TrackTemp']])\n",
    "\n",
    "print(kmeans.cluster_centers_)"
   ]
  },
  {
   "cell_type": "code",
   "outputs": [],
   "source": [],
   "metadata": {
    "collapsed": false
   },
   "id": "c6154f3a5476b462",
   "execution_count": null
  },
  {
   "cell_type": "code",
   "execution_count": null,
   "id": "3e71feaf24d50a0c",
   "metadata": {
    "collapsed": false
   },
   "outputs": [],
   "source": []
  },
  {
   "cell_type": "code",
   "execution_count": null,
   "id": "7b8bc8d40e6b7b28",
   "metadata": {
    "collapsed": false
   },
   "outputs": [],
   "source": []
  },
  {
   "cell_type": "code",
   "execution_count": null,
   "id": "580e5112b6d7d057",
   "metadata": {
    "collapsed": false
   },
   "outputs": [],
   "source": []
  },
  {
   "cell_type": "code",
   "execution_count": null,
   "id": "9c80f09dd4f20b19",
   "metadata": {
    "collapsed": false
   },
   "outputs": [],
   "source": []
  },
  {
   "cell_type": "code",
   "outputs": [],
   "source": [],
   "metadata": {
    "collapsed": false
   },
   "id": "6700140bc3abce31",
   "execution_count": null
  },
  {
   "cell_type": "code",
   "outputs": [],
   "source": [],
   "metadata": {
    "collapsed": false
   },
   "id": "c6c56f4d509d7c16",
   "execution_count": null
  }
 ],
 "metadata": {
  "kernelspec": {
   "display_name": "Python 3",
   "language": "python",
   "name": "python3"
  },
  "language_info": {
   "codemirror_mode": {
    "name": "ipython",
    "version": 3
   },
   "file_extension": ".py",
   "mimetype": "text/x-python",
   "name": "python",
   "nbconvert_exporter": "python",
   "pygments_lexer": "ipython3",
   "version": "3.11.3"
  }
 },
 "nbformat": 4,
 "nbformat_minor": 5
}
