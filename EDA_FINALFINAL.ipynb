{
 "cells": [
  {
   "cell_type": "code",
   "execution_count": 1,
   "id": "initial_id",
   "metadata": {
    "ExecuteTime": {
     "end_time": "2024-03-30T02:35:35.807684Z",
     "start_time": "2024-03-30T02:35:34.559796Z"
    }
   },
   "outputs": [
    {
     "name": "stdout",
     "output_type": "stream",
     "text": [
      "<class 'pandas.core.frame.DataFrame'>\n",
      "Int64Index: 80808 entries, 0 to 82417\n",
      "Data columns (total 110 columns):\n",
      " #    Column                               Dtype  \n",
      "---   ------                               -----  \n",
      " 0    DriverNumber                         int64  \n",
      " 1    LapNumber                            float64\n",
      " 2    Stint                                float64\n",
      " 3    Sector1Time                          float64\n",
      " 4    Sector2Time                          float64\n",
      " 5    Sector3Time                          float64\n",
      " 6    SpeedI1                              float64\n",
      " 7    SpeedI2                              float64\n",
      " 8    SpeedFL                              float64\n",
      " 9    SpeedST                              float64\n",
      " 10   IsPersonalBest                       int64  \n",
      " 11   TyreLife                             float64\n",
      " 12   FreshTyre                            int64  \n",
      " 13   TrackStatus                          float64\n",
      " 14   Position                             float64\n",
      " 15   IsAccurate                           int64  \n",
      " 16   AirTemp                              float64\n",
      " 17   Humidity                             float64\n",
      " 18   Pressure                             float64\n",
      " 19   Rainfall                             int64  \n",
      " 20   TrackTemp                            float64\n",
      " 21   WindDirection                        int64  \n",
      " 22   WindSpeed                            float64\n",
      " 23   Year                                 int64  \n",
      " 24   Original_Driver                      object \n",
      " 25   Original_Circuit                     object \n",
      " 26   Driver_AIT                           uint8  \n",
      " 27   Driver_ALB                           uint8  \n",
      " 28   Driver_ALO                           uint8  \n",
      " 29   Driver_BOT                           uint8  \n",
      " 30   Driver_DEV                           uint8  \n",
      " 31   Driver_FIT                           uint8  \n",
      " 32   Driver_GAS                           uint8  \n",
      " 33   Driver_GIO                           uint8  \n",
      " 34   Driver_GRO                           uint8  \n",
      " 35   Driver_HAM                           uint8  \n",
      " 36   Driver_HUL                           uint8  \n",
      " 37   Driver_KUB                           uint8  \n",
      " 38   Driver_KVY                           uint8  \n",
      " 39   Driver_LAT                           uint8  \n",
      " 40   Driver_LEC                           uint8  \n",
      " 41   Driver_MAG                           uint8  \n",
      " 42   Driver_MAZ                           uint8  \n",
      " 43   Driver_MSC                           uint8  \n",
      " 44   Driver_NOR                           uint8  \n",
      " 45   Driver_OCO                           uint8  \n",
      " 46   Driver_PER                           uint8  \n",
      " 47   Driver_RAI                           uint8  \n",
      " 48   Driver_RIC                           uint8  \n",
      " 49   Driver_RUS                           uint8  \n",
      " 50   Driver_SAI                           uint8  \n",
      " 51   Driver_STR                           uint8  \n",
      " 52   Driver_TSU                           uint8  \n",
      " 53   Driver_VER                           uint8  \n",
      " 54   Driver_VET                           uint8  \n",
      " 55   Driver_ZHO                           uint8  \n",
      " 56   Circuit_70th Anniversary Grand Prix  uint8  \n",
      " 57   Circuit_Abu Dhabi Grand Prix         uint8  \n",
      " 58   Circuit_Australian Grand Prix        uint8  \n",
      " 59   Circuit_Austrian Grand Prix          uint8  \n",
      " 60   Circuit_Azerbaijan Grand Prix        uint8  \n",
      " 61   Circuit_Bahrain Grand Prix           uint8  \n",
      " 62   Circuit_Belgian Grand Prix           uint8  \n",
      " 63   Circuit_Brazilian Grand Prix         uint8  \n",
      " 64   Circuit_British Grand Prix           uint8  \n",
      " 65   Circuit_Canadian Grand Prix          uint8  \n",
      " 66   Circuit_Chinese Grand Prix           uint8  \n",
      " 67   Circuit_Dutch Grand Prix             uint8  \n",
      " 68   Circuit_Eifel Grand Prix             uint8  \n",
      " 69   Circuit_Emilia Romagna Grand Prix    uint8  \n",
      " 70   Circuit_French Grand Prix            uint8  \n",
      " 71   Circuit_German Grand Prix            uint8  \n",
      " 72   Circuit_Hungarian Grand Prix         uint8  \n",
      " 73   Circuit_Italian Grand Prix           uint8  \n",
      " 74   Circuit_Japanese Grand Prix          uint8  \n",
      " 75   Circuit_Mexican Grand Prix           uint8  \n",
      " 76   Circuit_Mexico City Grand Prix       uint8  \n",
      " 77   Circuit_Miami Grand Prix             uint8  \n",
      " 78   Circuit_Monaco Grand Prix            uint8  \n",
      " 79   Circuit_Portuguese Grand Prix        uint8  \n",
      " 80   Circuit_Qatar Grand Prix             uint8  \n",
      " 81   Circuit_Russian Grand Prix           uint8  \n",
      " 82   Circuit_Sakhir Grand Prix            uint8  \n",
      " 83   Circuit_Saudi Arabian Grand Prix     uint8  \n",
      " 84   Circuit_Singapore Grand Prix         uint8  \n",
      " 85   Circuit_Spanish Grand Prix           uint8  \n",
      " 86   Circuit_Styrian Grand Prix           uint8  \n",
      " 87   Circuit_Turkish Grand Prix           uint8  \n",
      " 88   Circuit_Tuscan Grand Prix            uint8  \n",
      " 89   Circuit_United States Grand Prix     uint8  \n",
      " 90   Compound_HARD                        uint8  \n",
      " 91   Compound_INTERMEDIATE                uint8  \n",
      " 92   Compound_MEDIUM                      uint8  \n",
      " 93   Compound_SOFT                        uint8  \n",
      " 94   Compound_UNKNOWN                     uint8  \n",
      " 95   Compound_WET                         uint8  \n",
      " 96   Team_Alfa Romeo                      uint8  \n",
      " 97   Team_Alfa Romeo Racing               uint8  \n",
      " 98   Team_AlphaTauri                      uint8  \n",
      " 99   Team_Alpine                          uint8  \n",
      " 100  Team_Aston Martin                    uint8  \n",
      " 101  Team_Ferrari                         uint8  \n",
      " 102  Team_Haas F1 Team                    uint8  \n",
      " 103  Team_McLaren                         uint8  \n",
      " 104  Team_Mercedes                        uint8  \n",
      " 105  Team_Racing Point                    uint8  \n",
      " 106  Team_Red Bull Racing                 uint8  \n",
      " 107  Team_Renault                         uint8  \n",
      " 108  Team_Toro Rosso                      uint8  \n",
      " 109  Team_Williams                        uint8  \n",
      "dtypes: float64(17), int64(7), object(2), uint8(84)\n",
      "memory usage: 23.1+ MB\n",
      "None\n"
     ]
    }
   ],
   "source": [
    "import pandas as pd\n",
    "import matplotlib.pyplot as plt\n",
    "import seaborn as sns\n",
    "import numpy as np\n",
    "\n",
    "df = pd.read_csv('f1_2019_to_2022_all_drivers_all_data.csv',low_memory=False) # it's for 2019 to 2022 <- Train \n",
    "\n",
    "#Change to numerical values\n",
    "df['LapTime'] = pd.to_timedelta(df['LapTime']).dt.total_seconds()\n",
    "\n",
    "\n",
    "columns_to_check = ['Position', 'IsPersonalBest', 'TrackStatus']\n",
    "df = df.dropna(subset=columns_to_check)\n",
    "\n",
    "\n",
    "# Change strings to integer\n",
    "df['Sector1Time'] = pd.to_timedelta(df['Sector1Time']).dt.total_seconds()\n",
    "df['Sector2Time'] = pd.to_timedelta(df['Sector2Time']).dt.total_seconds()\n",
    "df['Sector3Time'] = pd.to_timedelta(df['Sector3Time']).dt.total_seconds()\n",
    "\n",
    "\n",
    "df['Rainfall'] = df['Rainfall'].astype(int) # Encode Rainfall To integer\n",
    "df['FreshTyre'] = df['FreshTyre'].astype(int) # Encode FreshTyre To integer\n",
    "df['IsAccurate'] = df['IsAccurate'].astype(int)\n",
    "df[\"IsPersonalBest\"] = df['IsPersonalBest'].astype(int)\n",
    "\n",
    "\n",
    "\n",
    "#Drop non-related features \n",
    "columns_to_drop = [\n",
    "    'Time', 'LapStartTime',\n",
    "    'Sector1SessionTime', 'Sector2SessionTime', 'Sector3SessionTime',\n",
    "    'PitOutTime', 'PitInTime',\n",
    "    'LapStartDate', 'Deleted', 'DeletedReason',\n",
    "    'FastF1Generated'\n",
    "]\n",
    "df = df.drop(columns=columns_to_drop)\n",
    "\n",
    "\n",
    "\n",
    "# TO use imputation method\n",
    "df['Original_Driver'] = df['Driver']\n",
    "df['Original_Circuit'] = df['Circuit']\n",
    "\n",
    "\n",
    "#One hot encoding\n",
    "df = pd.get_dummies(df, columns=['Driver', 'Circuit','Compound','Team'])\n",
    "\n",
    "# In case of Standardization\n",
    "numeric_features = ['SpeedI1', 'SpeedI2', 'SpeedFL', 'SpeedST', 'AirTemp', 'Humidity', 'Pressure', 'TrackTemp', 'WindDirection', 'WindSpeed',]\n",
    "\n",
    "\n",
    "df = df.dropna(subset=['LapTime'])\n",
    "\n",
    "X = df.drop(['LapTime'], axis=1) # Exclude response variable ('LapTime') \n",
    "\n",
    "y = df['LapTime']\n",
    "\n",
    "\n",
    "print(X.info(verbose=True))\n",
    "\n",
    "\n"
   ]
  },
  {
   "cell_type": "code",
   "outputs": [],
   "source": [],
   "metadata": {
    "collapsed": false,
    "ExecuteTime": {
     "end_time": "2024-03-30T02:35:35.809682Z",
     "start_time": "2024-03-30T02:35:35.808344Z"
    }
   },
   "id": "ce68cea48848f1cf",
   "execution_count": 1
  },
  {
   "cell_type": "code",
   "execution_count": 2,
   "id": "e7136b28dac82662",
   "metadata": {
    "collapsed": false,
    "ExecuteTime": {
     "end_time": "2024-03-30T02:35:36.008280Z",
     "start_time": "2024-03-30T02:35:35.810172Z"
    }
   },
   "outputs": [],
   "source": [
    "# It could be deleted if I use RandomForest\n",
    "from sklearn.preprocessing import StandardScaler\n",
    "from sklearn.decomposition import PCA\n",
    "scaler = StandardScaler()\n",
    "\n",
    "X[numeric_features] = scaler.fit_transform(X[numeric_features])\n"
   ]
  },
  {
   "cell_type": "code",
   "outputs": [
    {
     "name": "stdout",
     "output_type": "stream",
     "text": [
      "Sector1Time     1507\n",
      "Sector2Time       28\n",
      "Sector3Time       31\n",
      "SpeedI1        11665\n",
      "SpeedI2           77\n",
      "SpeedFL         2510\n",
      "SpeedST         6268\n",
      "dtype: int64\n"
     ]
    }
   ],
   "source": [
    "# Check for NaN values in each column\n",
    "nan_counts = X.isna().sum()\n",
    "\n",
    "# Print columns with NaN count more than 0\n",
    "print(nan_counts[nan_counts > 0])\n"
   ],
   "metadata": {
    "collapsed": false,
    "ExecuteTime": {
     "end_time": "2024-03-30T02:35:36.027263Z",
     "start_time": "2024-03-30T02:35:36.008819Z"
    }
   },
   "id": "ad65ded94c806ab7",
   "execution_count": 3
  },
  {
   "cell_type": "code",
   "outputs": [],
   "source": [],
   "metadata": {
    "collapsed": false,
    "ExecuteTime": {
     "end_time": "2024-03-30T02:35:36.029225Z",
     "start_time": "2024-03-30T02:35:36.027930Z"
    }
   },
   "id": "ef4a4b90367eb486",
   "execution_count": 3
  },
  {
   "cell_type": "code",
   "outputs": [],
   "source": [
    "\n",
    "means_sector1 = X.groupby(['Original_Driver', 'Original_Circuit'])['Sector1Time'].mean()\n",
    "\n",
    "# Map the means back to the original dataframe to fill missing values\n",
    "X['Sector1Time'] = X.apply(lambda row: means_sector1[(row['Original_Driver'], row['Original_Circuit'])] if pd.isnull(row['Sector1Time']) else row['Sector1Time'], axis=1)\n",
    "\n",
    "#  for Sector2Time\n",
    "means_sector2 = X.groupby(['Original_Driver', 'Original_Circuit'])['Sector2Time'].mean()\n",
    "\n",
    "X['Sector2Time'] = X.apply(lambda row: means_sector2[(row['Original_Driver'], row['Original_Circuit'])] if pd.isnull(row['Sector2Time']) else row['Sector2Time'], axis=1)\n",
    "\n",
    "#  for Sector3Time\n",
    "means_sector3 = X.groupby(['Original_Driver', 'Original_Circuit'])['Sector3Time'].mean()\n",
    "X['Sector3Time'] = X.apply(lambda row: means_sector3[(row['Original_Driver'], row['Original_Circuit'])] if pd.isnull(row['Sector3Time']) else row['Sector3Time'], axis=1)\n",
    "\n",
    "#  for SpeedI1\n",
    "means_speedI1 = X.groupby(['Original_Driver', 'Original_Circuit'])['SpeedI1'].mean()\n",
    "X['SpeedI1'] = X.apply(lambda row: means_speedI1[(row['Original_Driver'], row['Original_Circuit'])] if pd.isnull(row['SpeedI1']) else row['SpeedI1'], axis=1)\n",
    "\n",
    "\n",
    "means_speedI2 = X.groupby(['Original_Driver', 'Original_Circuit'])['SpeedI2'].transform('mean')\n",
    "X['SpeedI2'] = X['SpeedI2'].fillna(means_speedI2)\n",
    "\n",
    "#  for SpeedFL\n",
    "means_speedFL = X.groupby(['Original_Driver', 'Original_Circuit'])['SpeedFL'].transform('mean')\n",
    "X['SpeedFL'] = X['SpeedFL'].fillna(means_speedFL)\n",
    "\n",
    "#  for SpeedST\n",
    "means_speedST = X.groupby(['Original_Driver', 'Original_Circuit'])['SpeedST'].transform('mean')\n",
    "X['SpeedST'] = X['SpeedST'].fillna(means_speedST)\n"
   ],
   "metadata": {
    "collapsed": false,
    "ExecuteTime": {
     "end_time": "2024-03-30T02:35:37.395643Z",
     "start_time": "2024-03-30T02:35:36.031540Z"
    }
   },
   "id": "b7e1be8b46aa9cf0",
   "execution_count": 4
  },
  {
   "cell_type": "code",
   "outputs": [],
   "source": [],
   "metadata": {
    "collapsed": false,
    "ExecuteTime": {
     "end_time": "2024-03-30T02:35:37.397327Z",
     "start_time": "2024-03-30T02:35:37.396126Z"
    }
   },
   "id": "a1dbecf401b77c0e",
   "execution_count": 4
  },
  {
   "cell_type": "code",
   "outputs": [
    {
     "name": "stdout",
     "output_type": "stream",
     "text": [
      "Sector1Time    3\n",
      "SpeedFL        1\n",
      "dtype: int64\n"
     ]
    }
   ],
   "source": [
    "# Check for NaN values in each column\n",
    "nan_counts = X.isna().sum()\n",
    "\n",
    "# Print columns with NaN count more than 0\n",
    "print(nan_counts[nan_counts >0])\n"
   ],
   "metadata": {
    "collapsed": false,
    "ExecuteTime": {
     "end_time": "2024-03-30T02:35:37.415681Z",
     "start_time": "2024-03-30T02:35:37.398010Z"
    }
   },
   "id": "125b08b78d7aa78c",
   "execution_count": 5
  },
  {
   "cell_type": "code",
   "outputs": [
    {
     "name": "stdout",
     "output_type": "stream",
     "text": [
      "80808 80808\n"
     ]
    }
   ],
   "source": [
    "\n",
    "print(len(X), len(y))"
   ],
   "metadata": {
    "collapsed": false,
    "ExecuteTime": {
     "end_time": "2024-03-30T02:35:37.418069Z",
     "start_time": "2024-03-30T02:35:37.416307Z"
    }
   },
   "id": "9cd51aac19f4e358",
   "execution_count": 6
  },
  {
   "cell_type": "code",
   "execution_count": 7,
   "id": "8dc8c77c8d18b759",
   "metadata": {
    "collapsed": false,
    "ExecuteTime": {
     "end_time": "2024-03-30T02:35:37.439909Z",
     "start_time": "2024-03-30T02:35:37.418651Z"
    }
   },
   "outputs": [
    {
     "name": "stdout",
     "output_type": "stream",
     "text": [
      "Series([], dtype: int64)\n"
     ]
    }
   ],
   "source": [
    "# After attempting to fill NaNs with group means\n",
    "X['Sector1Time'].fillna(X['Sector1Time'].mean(), inplace=True)\n",
    "X['Sector2Time'].fillna(X['Sector2Time'].mean(), inplace=True)\n",
    "X['Sector3Time'].fillna(X['Sector3Time'].mean(), inplace=True)\n",
    "X['SpeedI1'].fillna(X['SpeedI1'].mean(), inplace=True)\n",
    "X['SpeedI2'].fillna(X['SpeedI2'].mean(), inplace=True)\n",
    "X['SpeedFL'].fillna(X['SpeedFL'].mean(), inplace=True)\n",
    "X['SpeedST'].fillna(X['SpeedST'].mean(), inplace=True)\n",
    "\n",
    "\n",
    "# Check for NaN values in each column\n",
    "nan_counts = X.isna().sum()\n",
    "\n",
    "# Print columns with NaN count more than 0\n",
    "print(nan_counts[nan_counts >0])"
   ]
  },
  {
   "cell_type": "code",
   "outputs": [
    {
     "name": "stdout",
     "output_type": "stream",
     "text": [
      "80808 80808\n"
     ]
    }
   ],
   "source": [
    "\n",
    "print(len(X), len(y))\n",
    "\n"
   ],
   "metadata": {
    "collapsed": false,
    "ExecuteTime": {
     "end_time": "2024-03-30T02:35:37.442817Z",
     "start_time": "2024-03-30T02:35:37.440519Z"
    }
   },
   "id": "1965954a4e408a7c",
   "execution_count": 8
  },
  {
   "cell_type": "code",
   "outputs": [
    {
     "name": "stdout",
     "output_type": "stream",
     "text": [
      "Explained Variance Ratio: 0.9713348251582974\n"
     ]
    }
   ],
   "source": [
    "from sklearn.decomposition import PCA\n",
    "\n",
    "# Assuming df_encoded already excludes 'LapTime' and has standardized numeric features and one-hot encoded categorical variables\n",
    "\n",
    "#Deleted String Columns\n",
    "X = X.drop(['Original_Driver', 'Original_Circuit'], axis= 1)\n",
    "\n",
    "# Initialize PCA, choose the number of components e.g., 95% of variance\n",
    "pca = PCA(n_components=0.95)\n",
    "X_pca = pca.fit_transform(X)\n",
    "\n",
    "# Explained variance ratio can be helpful to understand the coverage\n",
    "print(f\"Explained Variance Ratio: {pca.explained_variance_ratio_.sum()}\")\n",
    "\n"
   ],
   "metadata": {
    "collapsed": false,
    "ExecuteTime": {
     "end_time": "2024-03-30T02:35:37.975210Z",
     "start_time": "2024-03-30T02:35:37.443350Z"
    }
   },
   "id": "9ae8eeac730d5fc5",
   "execution_count": 9
  },
  {
   "cell_type": "code",
   "outputs": [
    {
     "name": "stdout",
     "output_type": "stream",
     "text": [
      "[]\n"
     ]
    }
   ],
   "source": [
    "nan_counts = y.isna().sum()\n",
    "\n",
    "# Print columns with NaN count more than 0\n",
    "print(nan_counts[nan_counts >0])"
   ],
   "metadata": {
    "collapsed": false,
    "ExecuteTime": {
     "end_time": "2024-03-30T02:35:38.027711Z",
     "start_time": "2024-03-30T02:35:37.983372Z"
    }
   },
   "id": "256aa465f01176c5",
   "execution_count": 10
  },
  {
   "cell_type": "code",
   "outputs": [],
   "source": [
    "from sklearn.model_selection import train_test_split\n",
    "\n",
    "X_train, X_test, y_train, y_test = train_test_split(X_pca, y, test_size=0.2, random_state=42)"
   ],
   "metadata": {
    "collapsed": false,
    "ExecuteTime": {
     "end_time": "2024-03-30T02:35:38.085169Z",
     "start_time": "2024-03-30T02:35:38.049636Z"
    }
   },
   "id": "3de1b3a83fd07a18",
   "execution_count": 11
  },
  {
   "cell_type": "code",
   "outputs": [
    {
     "data": {
      "text/plain": "RandomForestRegressor(random_state=42)",
      "text/html": "<style>#sk-container-id-1 {color: black;background-color: white;}#sk-container-id-1 pre{padding: 0;}#sk-container-id-1 div.sk-toggleable {background-color: white;}#sk-container-id-1 label.sk-toggleable__label {cursor: pointer;display: block;width: 100%;margin-bottom: 0;padding: 0.3em;box-sizing: border-box;text-align: center;}#sk-container-id-1 label.sk-toggleable__label-arrow:before {content: \"▸\";float: left;margin-right: 0.25em;color: #696969;}#sk-container-id-1 label.sk-toggleable__label-arrow:hover:before {color: black;}#sk-container-id-1 div.sk-estimator:hover label.sk-toggleable__label-arrow:before {color: black;}#sk-container-id-1 div.sk-toggleable__content {max-height: 0;max-width: 0;overflow: hidden;text-align: left;background-color: #f0f8ff;}#sk-container-id-1 div.sk-toggleable__content pre {margin: 0.2em;color: black;border-radius: 0.25em;background-color: #f0f8ff;}#sk-container-id-1 input.sk-toggleable__control:checked~div.sk-toggleable__content {max-height: 200px;max-width: 100%;overflow: auto;}#sk-container-id-1 input.sk-toggleable__control:checked~label.sk-toggleable__label-arrow:before {content: \"▾\";}#sk-container-id-1 div.sk-estimator input.sk-toggleable__control:checked~label.sk-toggleable__label {background-color: #d4ebff;}#sk-container-id-1 div.sk-label input.sk-toggleable__control:checked~label.sk-toggleable__label {background-color: #d4ebff;}#sk-container-id-1 input.sk-hidden--visually {border: 0;clip: rect(1px 1px 1px 1px);clip: rect(1px, 1px, 1px, 1px);height: 1px;margin: -1px;overflow: hidden;padding: 0;position: absolute;width: 1px;}#sk-container-id-1 div.sk-estimator {font-family: monospace;background-color: #f0f8ff;border: 1px dotted black;border-radius: 0.25em;box-sizing: border-box;margin-bottom: 0.5em;}#sk-container-id-1 div.sk-estimator:hover {background-color: #d4ebff;}#sk-container-id-1 div.sk-parallel-item::after {content: \"\";width: 100%;border-bottom: 1px solid gray;flex-grow: 1;}#sk-container-id-1 div.sk-label:hover label.sk-toggleable__label {background-color: #d4ebff;}#sk-container-id-1 div.sk-serial::before {content: \"\";position: absolute;border-left: 1px solid gray;box-sizing: border-box;top: 0;bottom: 0;left: 50%;z-index: 0;}#sk-container-id-1 div.sk-serial {display: flex;flex-direction: column;align-items: center;background-color: white;padding-right: 0.2em;padding-left: 0.2em;position: relative;}#sk-container-id-1 div.sk-item {position: relative;z-index: 1;}#sk-container-id-1 div.sk-parallel {display: flex;align-items: stretch;justify-content: center;background-color: white;position: relative;}#sk-container-id-1 div.sk-item::before, #sk-container-id-1 div.sk-parallel-item::before {content: \"\";position: absolute;border-left: 1px solid gray;box-sizing: border-box;top: 0;bottom: 0;left: 50%;z-index: -1;}#sk-container-id-1 div.sk-parallel-item {display: flex;flex-direction: column;z-index: 1;position: relative;background-color: white;}#sk-container-id-1 div.sk-parallel-item:first-child::after {align-self: flex-end;width: 50%;}#sk-container-id-1 div.sk-parallel-item:last-child::after {align-self: flex-start;width: 50%;}#sk-container-id-1 div.sk-parallel-item:only-child::after {width: 0;}#sk-container-id-1 div.sk-dashed-wrapped {border: 1px dashed gray;margin: 0 0.4em 0.5em 0.4em;box-sizing: border-box;padding-bottom: 0.4em;background-color: white;}#sk-container-id-1 div.sk-label label {font-family: monospace;font-weight: bold;display: inline-block;line-height: 1.2em;}#sk-container-id-1 div.sk-label-container {text-align: center;}#sk-container-id-1 div.sk-container {/* jupyter's `normalize.less` sets `[hidden] { display: none; }` but bootstrap.min.css set `[hidden] { display: none !important; }` so we also need the `!important` here to be able to override the default hidden behavior on the sphinx rendered scikit-learn.org. See: https://github.com/scikit-learn/scikit-learn/issues/21755 */display: inline-block !important;position: relative;}#sk-container-id-1 div.sk-text-repr-fallback {display: none;}</style><div id=\"sk-container-id-1\" class=\"sk-top-container\"><div class=\"sk-text-repr-fallback\"><pre>RandomForestRegressor(random_state=42)</pre><b>In a Jupyter environment, please rerun this cell to show the HTML representation or trust the notebook. <br />On GitHub, the HTML representation is unable to render, please try loading this page with nbviewer.org.</b></div><div class=\"sk-container\" hidden><div class=\"sk-item\"><div class=\"sk-estimator sk-toggleable\"><input class=\"sk-toggleable__control sk-hidden--visually\" id=\"sk-estimator-id-1\" type=\"checkbox\" checked><label for=\"sk-estimator-id-1\" class=\"sk-toggleable__label sk-toggleable__label-arrow\">RandomForestRegressor</label><div class=\"sk-toggleable__content\"><pre>RandomForestRegressor(random_state=42)</pre></div></div></div></div></div>"
     },
     "execution_count": 12,
     "metadata": {},
     "output_type": "execute_result"
    }
   ],
   "source": [
    "from sklearn.ensemble import RandomForestRegressor\n",
    "\n",
    "model = RandomForestRegressor(n_estimators=100,random_state=42)\n",
    "\n",
    "model.fit(X_train, y_train)"
   ],
   "metadata": {
    "collapsed": false,
    "ExecuteTime": {
     "end_time": "2024-03-30T02:35:52.675476Z",
     "start_time": "2024-03-30T02:35:38.090804Z"
    }
   },
   "id": "bb0cdff89a35f708",
   "execution_count": 12
  },
  {
   "cell_type": "code",
   "outputs": [
    {
     "name": "stdout",
     "output_type": "stream",
     "text": [
      "RMSE: 4.827832652188716\n"
     ]
    }
   ],
   "source": [
    "from sklearn.metrics import mean_squared_error\n",
    "\n",
    "predictions = model.predict(X_test)\n",
    "mse = mean_squared_error(y_test, predictions)\n",
    "rmse = mse ** 0.5\n",
    "print(f\"RMSE: {rmse}\")\n"
   ],
   "metadata": {
    "collapsed": false,
    "ExecuteTime": {
     "end_time": "2024-03-30T02:35:53.137235Z",
     "start_time": "2024-03-30T02:35:52.676196Z"
    }
   },
   "id": "b2e098545a9faf14",
   "execution_count": 13
  },
  {
   "cell_type": "code",
   "outputs": [],
   "source": [],
   "metadata": {
    "collapsed": false,
    "ExecuteTime": {
     "end_time": "2024-03-30T02:35:53.140034Z",
     "start_time": "2024-03-30T02:35:53.137945Z"
    }
   },
   "id": "5064f484090e3213",
   "execution_count": 13
  }
 ],
 "metadata": {
  "kernelspec": {
   "display_name": "Python 3 (ipykernel)",
   "language": "python",
   "name": "python3"
  },
  "language_info": {
   "codemirror_mode": {
    "name": "ipython",
    "version": 3
   },
   "file_extension": ".py",
   "mimetype": "text/x-python",
   "name": "python",
   "nbconvert_exporter": "python",
   "pygments_lexer": "ipython3",
   "version": "3.11.3"
  }
 },
 "nbformat": 4,
 "nbformat_minor": 5
}
