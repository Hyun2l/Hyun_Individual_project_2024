{
 "cells": [
  {
   "cell_type": "code",
   "execution_count": 4,
   "id": "initial_id",
   "metadata": {
    "collapsed": true,
    "ExecuteTime": {
     "end_time": "2024-02-28T17:40:15.407153Z",
     "start_time": "2024-02-28T17:40:15.403013Z"
    }
   },
   "outputs": [],
   "source": [
    "import pandas as pd"
   ]
  },
  {
   "cell_type": "code",
   "outputs": [],
   "source": [
    "df = pd.read_csv('2019/3_2019_Australian Grand Prix_data.csv')"
   ],
   "metadata": {
    "collapsed": false,
    "ExecuteTime": {
     "end_time": "2024-02-28T18:48:08.594006Z",
     "start_time": "2024-02-28T18:48:08.583310Z"
    }
   },
   "id": "808b21bcc04b448a",
   "execution_count": 27
  },
  {
   "cell_type": "code",
   "outputs": [
    {
     "data": {
      "text/plain": "(29, 38)"
     },
     "execution_count": 28,
     "metadata": {},
     "output_type": "execute_result"
    }
   ],
   "source": [
    "df.shape\n"
   ],
   "metadata": {
    "collapsed": false,
    "ExecuteTime": {
     "end_time": "2024-02-28T18:48:09.938291Z",
     "start_time": "2024-02-28T18:48:09.932007Z"
    }
   },
   "id": "b8ba771dc6e5ef5b",
   "execution_count": 28
  },
  {
   "cell_type": "code",
   "outputs": [
    {
     "data": {
      "text/plain": "                     Time Driver  DriverNumber                 LapTime  \\\n0  0 days 00:34:16.110000    RIC             3  0 days 00:02:28.213000   \n1  0 days 00:36:16.132000    RIC             3  0 days 00:01:38.185000   \n2  0 days 00:38:16.346000    RIC             3  0 days 00:01:32.091000   \n3  0 days 00:39:16.170000    RIC             3  0 days 00:01:30.480000   \n4  0 days 00:41:16.345000    RIC             3  0 days 00:01:30.631000   \n\n   LapNumber  Stint              PitOutTime               PitInTime  \\\n0        1.0    1.0                     NaN  0 days 00:35:30.863000   \n1        2.0    2.0  0 days 00:36:04.147000                     NaN   \n2        3.0    2.0                     NaN                     NaN   \n3        4.0    2.0                     NaN                     NaN   \n4        5.0    2.0                     NaN                     NaN   \n\n              Sector1Time             Sector2Time  ... DeletedReason  \\\n0                     NaN  0 days 00:00:28.939000  ...           NaN   \n1  0 days 00:00:36.939000  0 days 00:00:24.241000  ...           NaN   \n2  0 days 00:00:30.864000  0 days 00:00:24.154000  ...           NaN   \n3  0 days 00:00:30.192000  0 days 00:00:24.106000  ...           NaN   \n4  0 days 00:00:30.460000  0 days 00:00:24.066000  ...           NaN   \n\n  FastF1Generated IsAccurate AirTemp  Humidity  Pressure  Rainfall  TrackTemp  \\\n0           False      False    23.7      70.3    1015.4     False       43.6   \n1           False      False    23.6      70.1    1015.3     False       43.3   \n2           False       True    23.6      70.3    1015.4     False       43.4   \n3           False       True    23.7      69.1    1015.3     False       43.4   \n4           False       True    23.6      69.4    1015.3     False       43.0   \n\n   WindDirection WindSpeed  \n0            176       1.4  \n1            191       1.3  \n2            194       0.8  \n3            328       1.8  \n4            184       1.6  \n\n[5 rows x 38 columns]",
      "text/html": "<div>\n<style scoped>\n    .dataframe tbody tr th:only-of-type {\n        vertical-align: middle;\n    }\n\n    .dataframe tbody tr th {\n        vertical-align: top;\n    }\n\n    .dataframe thead th {\n        text-align: right;\n    }\n</style>\n<table border=\"1\" class=\"dataframe\">\n  <thead>\n    <tr style=\"text-align: right;\">\n      <th></th>\n      <th>Time</th>\n      <th>Driver</th>\n      <th>DriverNumber</th>\n      <th>LapTime</th>\n      <th>LapNumber</th>\n      <th>Stint</th>\n      <th>PitOutTime</th>\n      <th>PitInTime</th>\n      <th>Sector1Time</th>\n      <th>Sector2Time</th>\n      <th>...</th>\n      <th>DeletedReason</th>\n      <th>FastF1Generated</th>\n      <th>IsAccurate</th>\n      <th>AirTemp</th>\n      <th>Humidity</th>\n      <th>Pressure</th>\n      <th>Rainfall</th>\n      <th>TrackTemp</th>\n      <th>WindDirection</th>\n      <th>WindSpeed</th>\n    </tr>\n  </thead>\n  <tbody>\n    <tr>\n      <th>0</th>\n      <td>0 days 00:34:16.110000</td>\n      <td>RIC</td>\n      <td>3</td>\n      <td>0 days 00:02:28.213000</td>\n      <td>1.0</td>\n      <td>1.0</td>\n      <td>NaN</td>\n      <td>0 days 00:35:30.863000</td>\n      <td>NaN</td>\n      <td>0 days 00:00:28.939000</td>\n      <td>...</td>\n      <td>NaN</td>\n      <td>False</td>\n      <td>False</td>\n      <td>23.7</td>\n      <td>70.3</td>\n      <td>1015.4</td>\n      <td>False</td>\n      <td>43.6</td>\n      <td>176</td>\n      <td>1.4</td>\n    </tr>\n    <tr>\n      <th>1</th>\n      <td>0 days 00:36:16.132000</td>\n      <td>RIC</td>\n      <td>3</td>\n      <td>0 days 00:01:38.185000</td>\n      <td>2.0</td>\n      <td>2.0</td>\n      <td>0 days 00:36:04.147000</td>\n      <td>NaN</td>\n      <td>0 days 00:00:36.939000</td>\n      <td>0 days 00:00:24.241000</td>\n      <td>...</td>\n      <td>NaN</td>\n      <td>False</td>\n      <td>False</td>\n      <td>23.6</td>\n      <td>70.1</td>\n      <td>1015.3</td>\n      <td>False</td>\n      <td>43.3</td>\n      <td>191</td>\n      <td>1.3</td>\n    </tr>\n    <tr>\n      <th>2</th>\n      <td>0 days 00:38:16.346000</td>\n      <td>RIC</td>\n      <td>3</td>\n      <td>0 days 00:01:32.091000</td>\n      <td>3.0</td>\n      <td>2.0</td>\n      <td>NaN</td>\n      <td>NaN</td>\n      <td>0 days 00:00:30.864000</td>\n      <td>0 days 00:00:24.154000</td>\n      <td>...</td>\n      <td>NaN</td>\n      <td>False</td>\n      <td>True</td>\n      <td>23.6</td>\n      <td>70.3</td>\n      <td>1015.4</td>\n      <td>False</td>\n      <td>43.4</td>\n      <td>194</td>\n      <td>0.8</td>\n    </tr>\n    <tr>\n      <th>3</th>\n      <td>0 days 00:39:16.170000</td>\n      <td>RIC</td>\n      <td>3</td>\n      <td>0 days 00:01:30.480000</td>\n      <td>4.0</td>\n      <td>2.0</td>\n      <td>NaN</td>\n      <td>NaN</td>\n      <td>0 days 00:00:30.192000</td>\n      <td>0 days 00:00:24.106000</td>\n      <td>...</td>\n      <td>NaN</td>\n      <td>False</td>\n      <td>True</td>\n      <td>23.7</td>\n      <td>69.1</td>\n      <td>1015.3</td>\n      <td>False</td>\n      <td>43.4</td>\n      <td>328</td>\n      <td>1.8</td>\n    </tr>\n    <tr>\n      <th>4</th>\n      <td>0 days 00:41:16.345000</td>\n      <td>RIC</td>\n      <td>3</td>\n      <td>0 days 00:01:30.631000</td>\n      <td>5.0</td>\n      <td>2.0</td>\n      <td>NaN</td>\n      <td>NaN</td>\n      <td>0 days 00:00:30.460000</td>\n      <td>0 days 00:00:24.066000</td>\n      <td>...</td>\n      <td>NaN</td>\n      <td>False</td>\n      <td>True</td>\n      <td>23.6</td>\n      <td>69.4</td>\n      <td>1015.3</td>\n      <td>False</td>\n      <td>43.0</td>\n      <td>184</td>\n      <td>1.6</td>\n    </tr>\n  </tbody>\n</table>\n<p>5 rows × 38 columns</p>\n</div>"
     },
     "execution_count": 29,
     "metadata": {},
     "output_type": "execute_result"
    }
   ],
   "source": [
    "df.head()"
   ],
   "metadata": {
    "collapsed": false,
    "ExecuteTime": {
     "end_time": "2024-02-28T18:48:12.264709Z",
     "start_time": "2024-02-28T18:48:12.261237Z"
    }
   },
   "id": "38991636e2eb9189",
   "execution_count": 29
  },
  {
   "cell_type": "code",
   "outputs": [
    {
     "name": "stdout",
     "output_type": "stream",
     "text": [
      "<class 'pandas.core.frame.DataFrame'>\n",
      "RangeIndex: 29 entries, 0 to 28\n",
      "Data columns (total 38 columns):\n",
      " #   Column              Non-Null Count  Dtype  \n",
      "---  ------              --------------  -----  \n",
      " 0   Time                29 non-null     object \n",
      " 1   Driver              29 non-null     object \n",
      " 2   DriverNumber        29 non-null     int64  \n",
      " 3   LapTime             28 non-null     object \n",
      " 4   LapNumber           29 non-null     float64\n",
      " 5   Stint               29 non-null     float64\n",
      " 6   PitOutTime          1 non-null      object \n",
      " 7   PitInTime           2 non-null      object \n",
      " 8   Sector1Time         28 non-null     object \n",
      " 9   Sector2Time         29 non-null     object \n",
      " 10  Sector3Time         28 non-null     object \n",
      " 11  Sector1SessionTime  28 non-null     object \n",
      " 12  Sector2SessionTime  29 non-null     object \n",
      " 13  Sector3SessionTime  28 non-null     object \n",
      " 14  SpeedI1             22 non-null     float64\n",
      " 15  SpeedI2             28 non-null     float64\n",
      " 16  SpeedFL             27 non-null     float64\n",
      " 17  SpeedST             23 non-null     float64\n",
      " 18  IsPersonalBest      29 non-null     bool   \n",
      " 19  Compound            29 non-null     object \n",
      " 20  TyreLife            29 non-null     float64\n",
      " 21  FreshTyre           29 non-null     bool   \n",
      " 22  Team                29 non-null     object \n",
      " 23  LapStartTime        29 non-null     object \n",
      " 24  LapStartDate        29 non-null     object \n",
      " 25  TrackStatus         29 non-null     int64  \n",
      " 26  Position            29 non-null     float64\n",
      " 27  Deleted             29 non-null     bool   \n",
      " 28  DeletedReason       0 non-null      float64\n",
      " 29  FastF1Generated     29 non-null     bool   \n",
      " 30  IsAccurate          29 non-null     bool   \n",
      " 31  AirTemp             29 non-null     float64\n",
      " 32  Humidity            29 non-null     float64\n",
      " 33  Pressure            29 non-null     float64\n",
      " 34  Rainfall            29 non-null     bool   \n",
      " 35  TrackTemp           29 non-null     float64\n",
      " 36  WindDirection       29 non-null     int64  \n",
      " 37  WindSpeed           29 non-null     float64\n",
      "dtypes: bool(6), float64(14), int64(3), object(15)\n",
      "memory usage: 7.5+ KB\n"
     ]
    }
   ],
   "source": [
    "df.info()"
   ],
   "metadata": {
    "collapsed": false,
    "ExecuteTime": {
     "end_time": "2024-02-28T18:48:16.125414Z",
     "start_time": "2024-02-28T18:48:16.118411Z"
    }
   },
   "id": "37cd8c92e773b201",
   "execution_count": 30
  },
  {
   "cell_type": "code",
   "outputs": [
    {
     "data": {
      "text/plain": "    Time  Driver  DriverNumber  LapTime  LapNumber  Stint  PitOutTime  \\\n0  False   False         False    False      False  False        True   \n1  False   False         False    False      False  False        True   \n2  False   False         False    False      False  False        True   \n3  False   False         False    False      False  False        True   \n4  False   False         False    False      False  False        True   \n\n   PitInTime  Sector1Time  Sector2Time  ...  Circuit_Name  Circuit_Corners  \\\n0       True         True        False  ...         False            False   \n1       True        False        False  ...         False            False   \n2       True        False        False  ...         False            False   \n3       True        False        False  ...         False            False   \n4       True        False        False  ...         False            False   \n\n   Circuit_Rotation  AirTemp  Humidity  Pressure  Rainfall  TrackTemp  \\\n0             False    False     False     False     False      False   \n1             False    False     False     False     False      False   \n2             False    False     False     False     False      False   \n3             False    False     False     False     False      False   \n4             False    False     False     False     False      False   \n\n   WindDirection  WindSpeed  \n0          False      False  \n1          False      False  \n2          False      False  \n3          False      False  \n4          False      False  \n\n[5 rows x 41 columns]",
      "text/html": "<div>\n<style scoped>\n    .dataframe tbody tr th:only-of-type {\n        vertical-align: middle;\n    }\n\n    .dataframe tbody tr th {\n        vertical-align: top;\n    }\n\n    .dataframe thead th {\n        text-align: right;\n    }\n</style>\n<table border=\"1\" class=\"dataframe\">\n  <thead>\n    <tr style=\"text-align: right;\">\n      <th></th>\n      <th>Time</th>\n      <th>Driver</th>\n      <th>DriverNumber</th>\n      <th>LapTime</th>\n      <th>LapNumber</th>\n      <th>Stint</th>\n      <th>PitOutTime</th>\n      <th>PitInTime</th>\n      <th>Sector1Time</th>\n      <th>Sector2Time</th>\n      <th>...</th>\n      <th>Circuit_Name</th>\n      <th>Circuit_Corners</th>\n      <th>Circuit_Rotation</th>\n      <th>AirTemp</th>\n      <th>Humidity</th>\n      <th>Pressure</th>\n      <th>Rainfall</th>\n      <th>TrackTemp</th>\n      <th>WindDirection</th>\n      <th>WindSpeed</th>\n    </tr>\n  </thead>\n  <tbody>\n    <tr>\n      <th>0</th>\n      <td>False</td>\n      <td>False</td>\n      <td>False</td>\n      <td>False</td>\n      <td>False</td>\n      <td>False</td>\n      <td>True</td>\n      <td>True</td>\n      <td>True</td>\n      <td>False</td>\n      <td>...</td>\n      <td>False</td>\n      <td>False</td>\n      <td>False</td>\n      <td>False</td>\n      <td>False</td>\n      <td>False</td>\n      <td>False</td>\n      <td>False</td>\n      <td>False</td>\n      <td>False</td>\n    </tr>\n    <tr>\n      <th>1</th>\n      <td>False</td>\n      <td>False</td>\n      <td>False</td>\n      <td>False</td>\n      <td>False</td>\n      <td>False</td>\n      <td>True</td>\n      <td>True</td>\n      <td>False</td>\n      <td>False</td>\n      <td>...</td>\n      <td>False</td>\n      <td>False</td>\n      <td>False</td>\n      <td>False</td>\n      <td>False</td>\n      <td>False</td>\n      <td>False</td>\n      <td>False</td>\n      <td>False</td>\n      <td>False</td>\n    </tr>\n    <tr>\n      <th>2</th>\n      <td>False</td>\n      <td>False</td>\n      <td>False</td>\n      <td>False</td>\n      <td>False</td>\n      <td>False</td>\n      <td>True</td>\n      <td>True</td>\n      <td>False</td>\n      <td>False</td>\n      <td>...</td>\n      <td>False</td>\n      <td>False</td>\n      <td>False</td>\n      <td>False</td>\n      <td>False</td>\n      <td>False</td>\n      <td>False</td>\n      <td>False</td>\n      <td>False</td>\n      <td>False</td>\n    </tr>\n    <tr>\n      <th>3</th>\n      <td>False</td>\n      <td>False</td>\n      <td>False</td>\n      <td>False</td>\n      <td>False</td>\n      <td>False</td>\n      <td>True</td>\n      <td>True</td>\n      <td>False</td>\n      <td>False</td>\n      <td>...</td>\n      <td>False</td>\n      <td>False</td>\n      <td>False</td>\n      <td>False</td>\n      <td>False</td>\n      <td>False</td>\n      <td>False</td>\n      <td>False</td>\n      <td>False</td>\n      <td>False</td>\n    </tr>\n    <tr>\n      <th>4</th>\n      <td>False</td>\n      <td>False</td>\n      <td>False</td>\n      <td>False</td>\n      <td>False</td>\n      <td>False</td>\n      <td>True</td>\n      <td>True</td>\n      <td>False</td>\n      <td>False</td>\n      <td>...</td>\n      <td>False</td>\n      <td>False</td>\n      <td>False</td>\n      <td>False</td>\n      <td>False</td>\n      <td>False</td>\n      <td>False</td>\n      <td>False</td>\n      <td>False</td>\n      <td>False</td>\n    </tr>\n  </tbody>\n</table>\n<p>5 rows × 41 columns</p>\n</div>"
     },
     "execution_count": 13,
     "metadata": {},
     "output_type": "execute_result"
    }
   ],
   "source": [
    "df_null = df.isnull()\n",
    "df_null.head()"
   ],
   "metadata": {
    "collapsed": false,
    "ExecuteTime": {
     "end_time": "2024-02-28T17:44:08.859035Z",
     "start_time": "2024-02-28T17:44:08.855751Z"
    }
   },
   "id": "8e58a00bf735cb03",
   "execution_count": 13
  },
  {
   "cell_type": "code",
   "outputs": [
    {
     "data": {
      "text/plain": "Time                      0\nDriver                    0\nDriverNumber              0\nLapTime                 285\nLapNumber                 0\nStint                     0\nPitOutTime            23018\nPitInTime             22987\nSector1Time             454\nSector2Time              41\nSector3Time              44\nSector1SessionTime      508\nSector2SessionTime       41\nSector3SessionTime       44\nSpeedI1                3306\nSpeedI2                  94\nSpeedFL                 745\nSpeedST                1803\nIsPersonalBest           27\nCompound                  0\nTyreLife                  0\nFreshTyre                 0\nTeam                      0\nLapStartTime              0\nLapStartDate             27\nTrackStatus              27\nPosition                 27\nDeleted                   0\nDeletedReason         23662\nFastF1Generated           0\nIsAccurate                0\nCircuit_Name              0\nCircuit_Corners           0\nCircuit_Rotation          0\nAirTemp                   0\nHumidity                  0\nPressure                  0\nRainfall                  0\nTrackTemp                 0\nWindDirection             0\nWindSpeed                 0\ndtype: int64"
     },
     "execution_count": 14,
     "metadata": {},
     "output_type": "execute_result"
    }
   ],
   "source": [
    "df_null.sum()"
   ],
   "metadata": {
    "collapsed": false,
    "ExecuteTime": {
     "end_time": "2024-02-28T17:44:26.751431Z",
     "start_time": "2024-02-28T17:44:26.745778Z"
    }
   },
   "id": "de9a8db440646996",
   "execution_count": 14
  },
  {
   "cell_type": "code",
   "outputs": [
    {
     "data": {
      "text/plain": "                          Time Driver                 LapTime  \\\ncount                    23677  23677                   23392   \nunique                    1888     20                   18140   \ntop     0 days 01:51:32.730000    HAM  0 days 00:01:23.948000   \nfreq                        25   1263                       6   \n\n                    PitOutTime               PitInTime  \\\ncount                      659                     690   \nunique                     658                     690   \ntop     0 days 01:29:16.671000  0 days 01:29:16.003000   \nfreq                         2                       1   \n\n                   Sector1Time             Sector2Time  \\\ncount                    23223                   23636   \nunique                   13020                   13711   \ntop     0 days 00:00:28.850000  0 days 00:00:29.486000   \nfreq                        12                       9   \n\n                   Sector3Time      Sector1SessionTime  \\\ncount                    23633                   23169   \nunique                   14059                   23131   \ntop     0 days 00:00:21.162000  0 days 01:50:53.483000   \nfreq                        11                       3   \n\n            Sector2SessionTime      Sector3SessionTime IsPersonalBest  \\\ncount                    23636                   23633          23650   \nunique                   23589                   23585              2   \ntop     0 days 00:56:03.977000  0 days 00:39:15.942000          False   \nfreq                         2                       2          18695   \n\n       Compound      Team            LapStartTime             LapStartDate  \\\ncount     23677     23677                   23677                    23650   \nunique        5        10                   23250                    23251   \ntop      MEDIUM  Mercedes  0 days 00:33:32.727000  2019-03-17 05:13:33.030   \nfreq       9201      2499                      20                       20   \n\n                  DeletedReason       Circuit_Name  \ncount                        15              23677  \nunique                        2                 21  \ntop     TRACK LIMITS AT TURN 19  Monaco Grand Prix  \nfreq                         13               1490  ",
      "text/html": "<div>\n<style scoped>\n    .dataframe tbody tr th:only-of-type {\n        vertical-align: middle;\n    }\n\n    .dataframe tbody tr th {\n        vertical-align: top;\n    }\n\n    .dataframe thead th {\n        text-align: right;\n    }\n</style>\n<table border=\"1\" class=\"dataframe\">\n  <thead>\n    <tr style=\"text-align: right;\">\n      <th></th>\n      <th>Time</th>\n      <th>Driver</th>\n      <th>LapTime</th>\n      <th>PitOutTime</th>\n      <th>PitInTime</th>\n      <th>Sector1Time</th>\n      <th>Sector2Time</th>\n      <th>Sector3Time</th>\n      <th>Sector1SessionTime</th>\n      <th>Sector2SessionTime</th>\n      <th>Sector3SessionTime</th>\n      <th>IsPersonalBest</th>\n      <th>Compound</th>\n      <th>Team</th>\n      <th>LapStartTime</th>\n      <th>LapStartDate</th>\n      <th>DeletedReason</th>\n      <th>Circuit_Name</th>\n    </tr>\n  </thead>\n  <tbody>\n    <tr>\n      <th>count</th>\n      <td>23677</td>\n      <td>23677</td>\n      <td>23392</td>\n      <td>659</td>\n      <td>690</td>\n      <td>23223</td>\n      <td>23636</td>\n      <td>23633</td>\n      <td>23169</td>\n      <td>23636</td>\n      <td>23633</td>\n      <td>23650</td>\n      <td>23677</td>\n      <td>23677</td>\n      <td>23677</td>\n      <td>23650</td>\n      <td>15</td>\n      <td>23677</td>\n    </tr>\n    <tr>\n      <th>unique</th>\n      <td>1888</td>\n      <td>20</td>\n      <td>18140</td>\n      <td>658</td>\n      <td>690</td>\n      <td>13020</td>\n      <td>13711</td>\n      <td>14059</td>\n      <td>23131</td>\n      <td>23589</td>\n      <td>23585</td>\n      <td>2</td>\n      <td>5</td>\n      <td>10</td>\n      <td>23250</td>\n      <td>23251</td>\n      <td>2</td>\n      <td>21</td>\n    </tr>\n    <tr>\n      <th>top</th>\n      <td>0 days 01:51:32.730000</td>\n      <td>HAM</td>\n      <td>0 days 00:01:23.948000</td>\n      <td>0 days 01:29:16.671000</td>\n      <td>0 days 01:29:16.003000</td>\n      <td>0 days 00:00:28.850000</td>\n      <td>0 days 00:00:29.486000</td>\n      <td>0 days 00:00:21.162000</td>\n      <td>0 days 01:50:53.483000</td>\n      <td>0 days 00:56:03.977000</td>\n      <td>0 days 00:39:15.942000</td>\n      <td>False</td>\n      <td>MEDIUM</td>\n      <td>Mercedes</td>\n      <td>0 days 00:33:32.727000</td>\n      <td>2019-03-17 05:13:33.030</td>\n      <td>TRACK LIMITS AT TURN 19</td>\n      <td>Monaco Grand Prix</td>\n    </tr>\n    <tr>\n      <th>freq</th>\n      <td>25</td>\n      <td>1263</td>\n      <td>6</td>\n      <td>2</td>\n      <td>1</td>\n      <td>12</td>\n      <td>9</td>\n      <td>11</td>\n      <td>3</td>\n      <td>2</td>\n      <td>2</td>\n      <td>18695</td>\n      <td>9201</td>\n      <td>2499</td>\n      <td>20</td>\n      <td>20</td>\n      <td>13</td>\n      <td>1490</td>\n    </tr>\n  </tbody>\n</table>\n</div>"
     },
     "execution_count": 15,
     "metadata": {},
     "output_type": "execute_result"
    }
   ],
   "source": [
    "df.describe(include=\"object\")"
   ],
   "metadata": {
    "collapsed": false,
    "ExecuteTime": {
     "end_time": "2024-02-28T17:45:06.609407Z",
     "start_time": "2024-02-28T17:45:06.544189Z"
    }
   },
   "id": "69c77b4816d6ebc4",
   "execution_count": 15
  },
  {
   "cell_type": "code",
   "outputs": [],
   "source": [],
   "metadata": {
    "collapsed": false
   },
   "id": "c5e8a9a8f968d793"
  }
 ],
 "metadata": {
  "kernelspec": {
   "display_name": "Python 3",
   "language": "python",
   "name": "python3"
  },
  "language_info": {
   "codemirror_mode": {
    "name": "ipython",
    "version": 2
   },
   "file_extension": ".py",
   "mimetype": "text/x-python",
   "name": "python",
   "nbconvert_exporter": "python",
   "pygments_lexer": "ipython2",
   "version": "2.7.6"
  }
 },
 "nbformat": 4,
 "nbformat_minor": 5
}
