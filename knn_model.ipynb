{
 "cells": [
  {
   "cell_type": "code",
   "execution_count": 3,
   "id": "initial_id",
   "metadata": {
    "collapsed": true
   },
   "outputs": [],
   "source": [
    "## Impute LapTime with KNN (Sequential data) ##\n",
    "\n",
    "\n",
    "from matplotlib import pyplot as plt\n",
    "import pandas as pd\n",
    "import numpy as np\n",
    "from sklearn.preprocessing import StandardScaler\n",
    "import seaborn as sns\n",
    "\n",
    "# Load dataset\n",
    "df = pd.read_csv('f1_2019_to_2022_all_drivers_all_data.csv', low_memory=False)\n",
    "\n",
    "# Convert 'LapTime' and sector times to seconds\n",
    "time_columns = ['LapTime', 'Sector1Time', 'Sector2Time', 'Sector3Time']\n",
    "for col in time_columns:\n",
    "    df[col] = pd.to_timedelta(df[col]).dt.total_seconds()\n",
    "\n",
    "# Keep the original 'Driver' and 'Circuit' for EDA, Preprocessing be for one hot encoding\n",
    "df['Original_Driver'] = df['Driver']\n",
    "df['Original_Circuit'] = df['Circuit']\n",
    "\n",
    "# Encode Rainfall, FreshTyre, IsAccurate, and IsPersonalBest to integer\n",
    "df['Rainfall'] = df['Rainfall'].astype(int)\n",
    "df['FreshTyre'] = df['FreshTyre'].astype(int)\n",
    "df['IsAccurate'] = df['IsAccurate'].astype(int)\n",
    "\n",
    "# Drop columns not related to lap time prediction\n",
    "columns_to_drop = ['Time', 'LapStartTime', 'Sector1SessionTime', 'Sector2SessionTime', 'Sector3SessionTime',\n",
    "                   'PitOutTime', 'PitInTime', 'LapStartDate', 'Deleted', 'DeletedReason', 'FastF1Generated','IsPersonalBest', 'Sector3Time','Sector2Time','Sector1Time']\n",
    "df.drop(columns=columns_to_drop, inplace=True) # Sector 3 times are deleted since it could shadow impact of weather features\n",
    "\n",
    "# One-hot encoding\n",
    "df = pd.get_dummies(df, columns=['Driver', 'Circuit', 'Compound', 'Team'])\n",
    "\n",
    "# Feature Engineering: \n",
    "\n",
    "# Categorize weather and return numerical labels for models Initial: 0 , 25 , 19 \n",
    "def categorize_weather(row):\n",
    "    if row['Rainfall'] > 0:\n",
    "        return 'Rainy'\n",
    "    elif row['AirTemp'] > 27:\n",
    "        return 'Hot'\n",
    "    elif row['AirTemp'] > 20:\n",
    "        return 'Warm'\n",
    "    else:\n",
    "        return 'Cool'\n",
    "df['Weather_Category'] = df.apply(categorize_weather, axis=1)\n",
    "\n",
    "# Keep for further steps \n",
    "df['Original_Weather_Category'] = df['Weather_Category']\n",
    "# Apply one-hot encoding to the 'Weather_Category' column\n",
    "df = pd.get_dummies(df, columns=['Weather_Category'])\n",
    "\n",
    "# Create Track temperature category based on the result of clustering \n",
    "df['TrackTemp_Cat'] = pd.cut(df['TrackTemp'], bins=[18, 27, 34, 41, 50, np.inf], labels=['VERY_LOW', 'Low', 'Medium', 'High', 'VERY_HIGH'])\n",
    "# Initial values : [10, 20, 30, 40, 45, np.inf], labels=['VERY_LOW', 'Low', 'Medium', 'High', 'VERY_HIGH'])\n",
    "df['Original_TrackTemp_Cat'] = df['TrackTemp_Cat']\n",
    "\n",
    "# One hot encoding for TrackTemp_cat\n",
    "df = pd.get_dummies(df, columns=['TrackTemp_Cat'])\n",
    "\n",
    "# Tyre Age Interaction with TrackTemp \n",
    "df['TyreAge_TrackTemp'] = df['TyreLife'] * df['TrackTemp']\n",
    "\n",
    "df.info(verbose=True)\n"
   ]
  },
  {
   "cell_type": "code",
   "outputs": [],
   "source": [
    "import pandas as pd\n",
    "from sklearn.preprocessing import StandardScaler\n",
    "from sklearn.impute import KNNImputer\n",
    "\n",
    "# List of numeric features to be standardized, excluding 'LapTime'\n",
    "numeric_features = ['SpeedI1', 'SpeedI2', 'SpeedFL', 'SpeedST', 'AirTemp', 'Humidity', 'Pressure', 'TrackTemp', 'WindDirection', 'WindSpeed', 'TrackStatus', 'Position']\n",
    "\n",
    "# Assuming df['LapTime'] might benefit from forward fill\n",
    "df['LapTime'] = df['LapTime'].fillna(method='ffill')\n",
    "\n",
    "# Initialize imputer for other numeric features\n",
    "imputer = KNNImputer(n_neighbors=5)\n",
    "# Impute missing values only for selected features\n",
    "df[numeric_features] = imputer.fit_transform(df[numeric_features])\n",
    "\n",
    "# Initialize scaler\n",
    "scaler = StandardScaler()\n",
    "# Fit and transform the scaler only on the numeric features, excluding 'LapTime'\n",
    "df[numeric_features] = scaler.fit_transform(df[numeric_features])\n",
    "\n",
    "# Drop non-numeric features that won't be used in the model\n",
    "df = df.drop(['Original_Driver', 'Original_Circuit', 'Original_Weather_Category', 'Original_TrackTemp_Cat'], axis=1)\n"
   ],
   "metadata": {
    "collapsed": false
   },
   "id": "3c9a8fd847253c82",
   "execution_count": 4
  },
  {
   "cell_type": "code",
   "outputs": [],
   "source": [
    "# 1. Separate LapTime as dry or wet(rainy) condition ( since lapTime of rainy day would be recognized as outliers)\n",
    "# 2. Remove Outliers for dry condition LapTime\n",
    "# 3. Build Combined LapTime df (Outliers for dry days are deleted)\n",
    "\n",
    "# Flag for rainy conditions\n",
    "df['IsRainy'] = df['Rainfall'].apply(lambda x: 1 if x > 0 else 0)\n",
    "\n",
    "df_dry = df[df['IsRainy'] == 0]\n",
    "#df for rainy days \n",
    "df_wet = df[df['IsRainy'] == 1]\n",
    "\n",
    "# Remove Outliers for dry days\n",
    "Q1_dry = df_dry['LapTime'].quantile(0.25)\n",
    "Q3_dry = df_dry['LapTime'].quantile(0.75)\n",
    "IQR_dry = Q3_dry - Q1_dry\n",
    "lower_bound_dry = Q1_dry - 1.5 * IQR_dry\n",
    "upper_bound_dry = Q3_dry + 1.5 * IQR_dry\n",
    "#Only dry days (Outliers Removed)\n",
    "df_dry_filtered = df_dry[(df_dry['LapTime'] >= lower_bound_dry) & (df_dry['LapTime'] <= upper_bound_dry)]\n",
    "\n",
    "\n",
    "\n",
    "# Build combined df for both dry-rainy days (Outliers are removed with rainy days lapTimes) \n",
    "df_combined = pd.concat([df_dry_filtered, df_wet], ignore_index=True)\n",
    "\n",
    "df_combined.info(verbose=True)\n"
   ],
   "metadata": {
    "collapsed": false
   },
   "id": "d1c4eaef795879b6",
   "execution_count": 5
  },
  {
   "cell_type": "code",
   "outputs": [],
   "source": [
    "nan_counts = df_dry_filtered.isna().sum()\n",
    "# Print columns with NaN count more than 0\n",
    "print(nan_counts[nan_counts >0])"
   ],
   "metadata": {
    "collapsed": false
   },
   "id": "c34576e187414061",
   "execution_count": 6
  },
  {
   "cell_type": "code",
   "outputs": [],
   "source": [
    "nan_counts = df_wet.isna().sum()\n",
    "# Print columns with NaN count more than 0\n",
    "print(nan_counts[nan_counts >0])"
   ],
   "metadata": {
    "collapsed": false
   },
   "id": "110cdcce1820c18c",
   "execution_count": 7
  },
  {
   "cell_type": "code",
   "outputs": [],
   "source": [
    "nan_counts = df_combined.isna().sum()\n",
    "# Print columns with NaN count more than 0\n",
    "print(nan_counts[nan_counts >0])"
   ],
   "metadata": {
    "collapsed": false
   },
   "id": "696c1ea001c1137e",
   "execution_count": 8
  },
  {
   "cell_type": "code",
   "outputs": [],
   "source": [
    "# 1. df_dry_filtered lapTime\n",
    "\n",
    "from sklearn.metrics import mean_squared_error\n",
    "from sklearn.ensemble import RandomForestRegressor\n",
    "from sklearn.model_selection import train_test_split\n",
    "\n",
    "X = df_dry_filtered.drop(['LapTime'], axis=1)\n",
    "y = df_dry_filtered['LapTime']\n",
    "\n",
    "# Split Train and test set for a model\n",
    "X_train, X_test, y_train, y_test = train_test_split(X, y, test_size=0.2, random_state=42)\n",
    "\n",
    "#Fitting a RandomForest model\n",
    "model = RandomForestRegressor(n_estimators=100,max_depth=20,min_samples_split=5,random_state=42)\n",
    "# Best Parameters: {'max_depth': 20, 'min_samples_split': 5, 'n_estimators': 300}\n",
    "\n",
    "model.fit(X_train, y_train)\n",
    "\n",
    "# Print RMSE value of the model\n",
    "predictions = model.predict(X_test)\n",
    "mse = mean_squared_error(y_test, predictions)\n",
    "rmse = mse ** 0.5\n",
    "print(f\"RMSE: {rmse}\")\n",
    "\n"
   ],
   "metadata": {
    "collapsed": false
   },
   "id": "bcd60ce11c694b63",
   "execution_count": 9
  },
  {
   "cell_type": "code",
   "outputs": [],
   "source": [
    "# Shows Important features\n",
    "\n",
    "importance = model.feature_importances_\n",
    "\n",
    "# Sort the feature importance\n",
    "sorted_indices = np.argsort(importance)[::-1]\n",
    "\n",
    "for index in sorted_indices:\n",
    "    print(f\"{X_train.columns[index]}: {importance[index]}\")"
   ],
   "metadata": {
    "collapsed": false
   },
   "id": "6a6991be747f0f6e",
   "execution_count": 10
  },
  {
   "cell_type": "code",
   "outputs": [],
   "source": [
    "# 2. wet days lapTime\n",
    "\n",
    "X = df_wet.drop(['LapTime'], axis=1)\n",
    "y = df_wet['LapTime']\n",
    "\n",
    "# Correctly filling NaN values\n",
    "y.fillna(y.mean(), inplace=True)\n",
    "\n",
    "\n",
    "# Split Train and test set for a model\n",
    "X_train, X_test, y_train, y_test = train_test_split(X, y, test_size=0.2, random_state=42)\n",
    "\n",
    "#Fitting a RandomForest model\n",
    "model = RandomForestRegressor(n_estimators=100,max_depth=20,min_samples_split=5,random_state=42)\n",
    "# Best Parameters: {'max_depth': 20, 'min_samples_split': 5, 'n_estimators': 300}\n",
    "\n",
    "model.fit(X_train, y_train)\n",
    "\n",
    "# Print RMSE value of the model\n",
    "predictions = model.predict(X_test)\n",
    "mse = mean_squared_error(y_test, predictions)\n",
    "rmse = mse ** 0.5\n",
    "print(f\"RMSE: {rmse}\")\n",
    "\n",
    "# Shows Important features\n",
    "\n",
    "importance = model.feature_importances_\n",
    "\n",
    "# Sort the feature importance\n",
    "sorted_indices = np.argsort(importance)[::-1]\n",
    "\n",
    "for index in sorted_indices:\n",
    "    print(f\"{X_train.columns[index]}: {importance[index]}\")\n",
    "\n"
   ],
   "metadata": {
    "collapsed": false
   },
   "id": "c0b92ef9be4d334",
   "execution_count": 11
  },
  {
   "cell_type": "code",
   "outputs": [],
   "source": [
    "# 3. Combined lapTime\n",
    "\n",
    "X = df_combined.drop(['LapTime'], axis=1)\n",
    "y = df_combined['LapTime']\n",
    "\n",
    "# y.fillna(y.mean(), inplace=True)\n",
    "\n",
    "# Split Train and test set for a model\n",
    "X_train, X_test, y_train, y_test = train_test_split(X, y, test_size=0.2, random_state=42)\n",
    "\n",
    "#Fitting a RandomForest model\n",
    "model = RandomForestRegressor(n_estimators=100,max_depth=20,min_samples_split=5,random_state=42)\n",
    "# Best Parameters: {'max_depth': 20, 'min_samples_split': 5, 'n_estimators': 300}\n",
    "\n",
    "model.fit(X_train, y_train)\n",
    "\n",
    "# Print RMSE value of the model\n",
    "predictions = model.predict(X_test)\n",
    "mse = mean_squared_error(y_test, predictions)\n",
    "rmse = mse ** 0.5\n",
    "print(f\"RMSE: {rmse}\")\n",
    "\n",
    "# Shows Important features\n",
    "importance = model.feature_importances_\n",
    "\n",
    "# Sort the feature importance\n",
    "sorted_indices = np.argsort(importance)[::-1]\n",
    "\n",
    "for index in sorted_indices:\n",
    "    print(f\"{X_train.columns[index]}: {importance[index]}\")"
   ],
   "metadata": {
    "collapsed": false
   },
   "id": "41c2900fe7924be6",
   "execution_count": 12
  },
  {
   "cell_type": "code",
   "outputs": [],
   "source": [],
   "metadata": {
    "collapsed": false
   },
   "id": "cc39778b70e0e0c5",
   "execution_count": 12
  },
  {
   "cell_type": "code",
   "outputs": [],
   "source": [
    "from sklearn.ensemble import RandomForestRegressor\n",
    "from xgboost import XGBRegressor\n",
    "\n",
    "# XGBoost\n",
    "xgb = XGBRegressor(n_estimators=100, learning_rate=0.1)\n",
    "xgb.fit(X_train, y_train)\n",
    "\n",
    "predictions = xgb.predict(X_test)\n",
    "mse = mean_squared_error(y_test, predictions)\n",
    "rmse = mse ** 0.5\n",
    "print(f\"RMSE: {rmse}\")\n"
   ],
   "metadata": {
    "collapsed": false
   },
   "id": "eb8baa86e0320497",
   "execution_count": 13
  },
  {
   "cell_type": "code",
   "outputs": [],
   "source": [
    "\n",
    "X = df_dry_filtered.drop(['LapTime'], axis=1)\n",
    "y = df_dry_filtered['LapTime']\n",
    "\n",
    "# Split Train and test set for a model\n",
    "X_train, X_test, y_train, y_test = train_test_split(X, y, test_size=0.2, random_state=42)\n",
    "\n",
    "\n"
   ],
   "metadata": {
    "collapsed": false
   },
   "id": "63a1b2514a93e653",
   "execution_count": 14
  },
  {
   "cell_type": "code",
   "outputs": [],
   "source": [
    "from sklearn.model_selection import GridSearchCV\n",
    "from xgboost import XGBRegressor\n",
    "\n",
    "# Define the model\n",
    "xgb = XGBRegressor()\n",
    "\n",
    "# Set up the hyperparameters to test\n",
    "param_grid = {\n",
    "    'n_estimators': [100, 300, 500],\n",
    "    'learning_rate': [0.01, 0.05, 0.1],\n",
    "    'max_depth': [3, 5, 7]\n",
    "}\n",
    "\n",
    "# Setup the grid search\n",
    "grid_search = GridSearchCV(estimator=xgb, param_grid=param_grid, cv=3, scoring='neg_mean_squared_error')\n",
    "grid_search.fit(X_train, y_train)\n",
    "\n",
    "# Get the best model\n",
    "best_model = grid_search.best_estimator_\n"
   ],
   "metadata": {
    "collapsed": false
   },
   "id": "1e28b4a97deb6d",
   "execution_count": 15
  },
  {
   "cell_type": "code",
   "outputs": [],
   "source": [],
   "metadata": {
    "collapsed": false
   },
   "id": "8502c9d63be8cb6f",
   "execution_count": 15
  },
  {
   "cell_type": "code",
   "outputs": [],
   "source": [
    "predictions = best_model.predict(X_test)\n",
    "mse = mean_squared_error(y_test, predictions)\n",
    "rmse = mse ** 0.5\n",
    "print(f\"RMSE: {rmse}\")"
   ],
   "metadata": {
    "collapsed": false
   },
   "id": "f51f0db039607810",
   "execution_count": 16
  },
  {
   "cell_type": "code",
   "outputs": [],
   "source": [],
   "metadata": {
    "collapsed": false
   },
   "id": "441fdbaaee30abcb",
   "execution_count": 16
  }
 ],
 "metadata": {
  "kernelspec": {
   "display_name": "Python 3",
   "language": "python",
   "name": "python3"
  },
  "language_info": {
   "codemirror_mode": {
    "name": "ipython",
    "version": 2
   },
   "file_extension": ".py",
   "mimetype": "text/x-python",
   "name": "python",
   "nbconvert_exporter": "python",
   "pygments_lexer": "ipython2",
   "version": "2.7.6"
  }
 },
 "nbformat": 4,
 "nbformat_minor": 5
}
