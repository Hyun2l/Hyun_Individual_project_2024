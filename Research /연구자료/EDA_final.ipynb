{
 "cells": [
  {
   "cell_type": "code",
   "execution_count": 1,
   "id": "initial_id",
   "metadata": {
    "collapsed": true,
    "jupyter": {
     "outputs_hidden": true
    },
    "ExecuteTime": {
     "end_time": "2024-03-27T02:07:57.116760Z",
     "start_time": "2024-03-27T02:07:57.071679Z"
    }
   },
   "outputs": [
    {
     "name": "stdout",
     "output_type": "stream",
     "text": [
      "<class 'pandas.core.frame.DataFrame'>\n",
      "Int64Index: 5630 entries, 0 to 5632\n",
      "Data columns (total 40 columns):\n",
      " #   Column              Non-Null Count  Dtype  \n",
      "---  ------              --------------  -----  \n",
      " 0   Time                5630 non-null   object \n",
      " 1   Driver              5630 non-null   object \n",
      " 2   DriverNumber        5630 non-null   int64  \n",
      " 3   LapTime             5499 non-null   object \n",
      " 4   LapNumber           5630 non-null   float64\n",
      " 5   Stint               5606 non-null   float64\n",
      " 6   PitOutTime          166 non-null    object \n",
      " 7   PitInTime           167 non-null    object \n",
      " 8   Sector1Time         5522 non-null   object \n",
      " 9   Sector2Time         5628 non-null   object \n",
      " 10  Sector3Time         5624 non-null   object \n",
      " 11  Sector1SessionTime  5502 non-null   object \n",
      " 12  Sector2SessionTime  5628 non-null   object \n",
      " 13  Sector3SessionTime  5624 non-null   object \n",
      " 14  SpeedI1             4940 non-null   float64\n",
      " 15  SpeedI2             5622 non-null   float64\n",
      " 16  SpeedFL             5461 non-null   float64\n",
      " 17  SpeedST             5223 non-null   float64\n",
      " 18  IsPersonalBest      5630 non-null   int64  \n",
      " 19  Compound            5606 non-null   object \n",
      " 20  TyreLife            5606 non-null   float64\n",
      " 21  FreshTyre           5630 non-null   int64  \n",
      " 22  Team                5630 non-null   object \n",
      " 23  LapStartTime        5630 non-null   object \n",
      " 24  LapStartDate        0 non-null      float64\n",
      " 25  TrackStatus         5630 non-null   float64\n",
      " 26  Position            5630 non-null   float64\n",
      " 27  Deleted             5630 non-null   bool   \n",
      " 28  DeletedReason       21 non-null     object \n",
      " 29  FastF1Generated     5630 non-null   int64  \n",
      " 30  IsAccurate          5630 non-null   int64  \n",
      " 31  AirTemp             5630 non-null   float64\n",
      " 32  Humidity            5630 non-null   float64\n",
      " 33  Pressure            5630 non-null   float64\n",
      " 34  Rainfall            5630 non-null   int64  \n",
      " 35  TrackTemp           5630 non-null   float64\n",
      " 36  WindDirection       5630 non-null   int64  \n",
      " 37  WindSpeed           5630 non-null   float64\n",
      " 38  Circuit             5630 non-null   object \n",
      " 39  Year                5630 non-null   int64  \n",
      "dtypes: bool(1), float64(15), int64(8), object(16)\n",
      "memory usage: 1.7+ MB\n"
     ]
    }
   ],
   "source": [
    "import pandas as pd\n",
    "import matplotlib.pyplot as plt\n",
    "import seaborn as sns\n",
    "import numpy as np\n",
    "\n",
    "df = pd.read_csv('f1_2014_to_2022_HAM_all_data.csv') # it's for 2018 to 2022\n",
    "\n",
    "\n",
    "df.dropna(subset=['IsPersonalBest'], inplace=True) # To Handle Nan values\n",
    "\n",
    "df['Rainfall'] = df['Rainfall'].astype(int) # Encode Rainfall To integer\n",
    "df['FreshTyre'] = df['FreshTyre'].astype(int) # Encode FreshTyre To integer\n",
    "df['FastF1Generated'] = df['FastF1Generated'].astype(int)\n",
    "df['IsPersonalBest'] = df['IsPersonalBest'].astype(int)\n",
    "df['IsAccurate'] = df['IsAccurate'].astype(int)\n",
    "\n",
    "\n",
    "df.info()\n"
   ]
  },
  {
   "cell_type": "markdown",
   "id": "a35a02ff9f5780",
   "metadata": {
    "collapsed": false
   },
   "source": []
  },
  {
   "cell_type": "code",
   "execution_count": 2,
   "id": "d03a658490c05b49",
   "metadata": {
    "collapsed": false,
    "ExecuteTime": {
     "end_time": "2024-03-27T02:07:57.125179Z",
     "start_time": "2024-03-27T02:07:57.117843Z"
    }
   },
   "outputs": [
    {
     "data": {
      "text/plain": "           count\nTrackTemp       \n13.8           3\n13.9          12\n14.0           3\n14.1           3\n14.2           2\n...          ...\n56.8           1\n56.9           2\n57.0           2\n57.1           1\n57.2           2\n\n[411 rows x 1 columns]",
      "text/html": "<div>\n<style scoped>\n    .dataframe tbody tr th:only-of-type {\n        vertical-align: middle;\n    }\n\n    .dataframe tbody tr th {\n        vertical-align: top;\n    }\n\n    .dataframe thead th {\n        text-align: right;\n    }\n</style>\n<table border=\"1\" class=\"dataframe\">\n  <thead>\n    <tr style=\"text-align: right;\">\n      <th></th>\n      <th>count</th>\n    </tr>\n    <tr>\n      <th>TrackTemp</th>\n      <th></th>\n    </tr>\n  </thead>\n  <tbody>\n    <tr>\n      <th>13.8</th>\n      <td>3</td>\n    </tr>\n    <tr>\n      <th>13.9</th>\n      <td>12</td>\n    </tr>\n    <tr>\n      <th>14.0</th>\n      <td>3</td>\n    </tr>\n    <tr>\n      <th>14.1</th>\n      <td>3</td>\n    </tr>\n    <tr>\n      <th>14.2</th>\n      <td>2</td>\n    </tr>\n    <tr>\n      <th>...</th>\n      <td>...</td>\n    </tr>\n    <tr>\n      <th>56.8</th>\n      <td>1</td>\n    </tr>\n    <tr>\n      <th>56.9</th>\n      <td>2</td>\n    </tr>\n    <tr>\n      <th>57.0</th>\n      <td>2</td>\n    </tr>\n    <tr>\n      <th>57.1</th>\n      <td>1</td>\n    </tr>\n    <tr>\n      <th>57.2</th>\n      <td>2</td>\n    </tr>\n  </tbody>\n</table>\n<p>411 rows × 1 columns</p>\n</div>"
     },
     "execution_count": 2,
     "metadata": {},
     "output_type": "execute_result"
    }
   ],
   "source": [
    "df.groupby(['TrackTemp'])['LapTime'].agg([\"count\"])"
   ]
  },
  {
   "cell_type": "code",
   "execution_count": 3,
   "id": "a82be3fcffa975fe",
   "metadata": {
    "collapsed": false,
    "ExecuteTime": {
     "end_time": "2024-03-27T02:07:57.128583Z",
     "start_time": "2024-03-27T02:07:57.125893Z"
    }
   },
   "outputs": [
    {
     "data": {
      "text/plain": "\"\\n# Scatter plot for Track Temperature vs. Lap Time\\nplt.figure(figsize=(12, 6))\\nsns.scatterplot(x='TrackTemp', y='LapTime', data=df)\\nplt.title('Track Temperature vs. Lap Time')\\nplt.show() \""
     },
     "execution_count": 3,
     "metadata": {},
     "output_type": "execute_result"
    }
   ],
   "source": [
    "# df['LapTime'] = pd.to_timedelta(df['LapTime'])\n",
    "\"\"\" \n",
    "df['LapTime'] = pd.to_timedelta(df['LapTime'])\n",
    "df['LapTime'] = df['LapTime'].dt.total_seconds()\n",
    "# Change LapTime to numerical value\n",
    "\n",
    "corr_matrix = df.corr(numeric_only=True)\n",
    "\n",
    "# Heatmap to visualize correlations\n",
    "plt.figure(figsize=(20, 12))\n",
    "sns.heatmap(corr_matrix, annot=True, cmap='coolwarm')\n",
    "plt.show()\n",
    "\"\"\"\n",
    "\n",
    "\"\"\"\n",
    "# Scatter plot for Track Temperature vs. Lap Time\n",
    "plt.figure(figsize=(12, 6))\n",
    "sns.scatterplot(x='TrackTemp', y='LapTime', data=df)\n",
    "plt.title('Track Temperature vs. Lap Time')\n",
    "plt.show() \"\"\"\n"
   ]
  },
  {
   "cell_type": "code",
   "execution_count": 4,
   "id": "b73d1ffa5a838f1d",
   "metadata": {
    "collapsed": false,
    "ExecuteTime": {
     "end_time": "2024-03-27T02:07:57.131341Z",
     "start_time": "2024-03-27T02:07:57.129870Z"
    }
   },
   "outputs": [],
   "source": [
    "# sns.histplot(x='LapTime', data=df)"
   ]
  },
  {
   "cell_type": "code",
   "execution_count": 5,
   "id": "462d68bdfeb69102",
   "metadata": {
    "collapsed": false,
    "ExecuteTime": {
     "end_time": "2024-03-27T02:07:57.146731Z",
     "start_time": "2024-03-27T02:07:57.131903Z"
    }
   },
   "outputs": [
    {
     "name": "stdout",
     "output_type": "stream",
     "text": [
      "<class 'pandas.core.frame.DataFrame'>\n",
      "Int64Index: 5630 entries, 0 to 5632\n",
      "Data columns (total 70 columns):\n",
      " #   Column                               Non-Null Count  Dtype  \n",
      "---  ------                               --------------  -----  \n",
      " 0   Time                                 5630 non-null   object \n",
      " 1   DriverNumber                         5630 non-null   int64  \n",
      " 2   LapTime                              5499 non-null   object \n",
      " 3   LapNumber                            5630 non-null   float64\n",
      " 4   Stint                                5606 non-null   float64\n",
      " 5   PitOutTime                           166 non-null    object \n",
      " 6   PitInTime                            167 non-null    object \n",
      " 7   Sector1Time                          5522 non-null   object \n",
      " 8   Sector2Time                          5628 non-null   object \n",
      " 9   Sector3Time                          5624 non-null   object \n",
      " 10  Sector1SessionTime                   5502 non-null   object \n",
      " 11  Sector2SessionTime                   5628 non-null   object \n",
      " 12  Sector3SessionTime                   5624 non-null   object \n",
      " 13  SpeedI1                              4940 non-null   float64\n",
      " 14  SpeedI2                              5622 non-null   float64\n",
      " 15  SpeedFL                              5461 non-null   float64\n",
      " 16  SpeedST                              5223 non-null   float64\n",
      " 17  IsPersonalBest                       5630 non-null   int64  \n",
      " 18  Compound                             5606 non-null   object \n",
      " 19  TyreLife                             5606 non-null   float64\n",
      " 20  FreshTyre                            5630 non-null   int64  \n",
      " 21  LapStartTime                         5630 non-null   object \n",
      " 22  TrackStatus                          5630 non-null   float64\n",
      " 23  Position                             5630 non-null   float64\n",
      " 24  Deleted                              5630 non-null   bool   \n",
      " 25  DeletedReason                        21 non-null     object \n",
      " 26  FastF1Generated                      5630 non-null   int64  \n",
      " 27  IsAccurate                           5630 non-null   int64  \n",
      " 28  AirTemp                              5630 non-null   float64\n",
      " 29  Humidity                             5630 non-null   float64\n",
      " 30  Pressure                             5630 non-null   float64\n",
      " 31  Rainfall                             5630 non-null   int64  \n",
      " 32  TrackTemp                            5630 non-null   float64\n",
      " 33  WindDirection                        5630 non-null   int64  \n",
      " 34  WindSpeed                            5630 non-null   float64\n",
      " 35  Circuit                              5630 non-null   object \n",
      " 36  Year                                 5630 non-null   int64  \n",
      " 37  Circuit_70th Anniversary Grand Prix  5630 non-null   uint8  \n",
      " 38  Circuit_Abu Dhabi Grand Prix         5630 non-null   uint8  \n",
      " 39  Circuit_Australian Grand Prix        5630 non-null   uint8  \n",
      " 40  Circuit_Austrian Grand Prix          5630 non-null   uint8  \n",
      " 41  Circuit_Azerbaijan Grand Prix        5630 non-null   uint8  \n",
      " 42  Circuit_Bahrain Grand Prix           5630 non-null   uint8  \n",
      " 43  Circuit_Belgian Grand Prix           5630 non-null   uint8  \n",
      " 44  Circuit_Brazilian Grand Prix         5630 non-null   uint8  \n",
      " 45  Circuit_British Grand Prix           5630 non-null   uint8  \n",
      " 46  Circuit_Canadian Grand Prix          5630 non-null   uint8  \n",
      " 47  Circuit_Chinese Grand Prix           5630 non-null   uint8  \n",
      " 48  Circuit_Dutch Grand Prix             5630 non-null   uint8  \n",
      " 49  Circuit_Eifel Grand Prix             5630 non-null   uint8  \n",
      " 50  Circuit_Emilia Romagna Grand Prix    5630 non-null   uint8  \n",
      " 51  Circuit_French Grand Prix            5630 non-null   uint8  \n",
      " 52  Circuit_German Grand Prix            5630 non-null   uint8  \n",
      " 53  Circuit_Hungarian Grand Prix         5630 non-null   uint8  \n",
      " 54  Circuit_Italian Grand Prix           5630 non-null   uint8  \n",
      " 55  Circuit_Japanese Grand Prix          5630 non-null   uint8  \n",
      " 56  Circuit_Mexican Grand Prix           5630 non-null   uint8  \n",
      " 57  Circuit_Mexico City Grand Prix       5630 non-null   uint8  \n",
      " 58  Circuit_Miami Grand Prix             5630 non-null   uint8  \n",
      " 59  Circuit_Monaco Grand Prix            5630 non-null   uint8  \n",
      " 60  Circuit_Portuguese Grand Prix        5630 non-null   uint8  \n",
      " 61  Circuit_Qatar Grand Prix             5630 non-null   uint8  \n",
      " 62  Circuit_Russian Grand Prix           5630 non-null   uint8  \n",
      " 63  Circuit_Saudi Arabian Grand Prix     5630 non-null   uint8  \n",
      " 64  Circuit_Singapore Grand Prix         5630 non-null   uint8  \n",
      " 65  Circuit_Spanish Grand Prix           5630 non-null   uint8  \n",
      " 66  Circuit_Styrian Grand Prix           5630 non-null   uint8  \n",
      " 67  Circuit_Turkish Grand Prix           5630 non-null   uint8  \n",
      " 68  Circuit_Tuscan Grand Prix            5630 non-null   uint8  \n",
      " 69  Circuit_United States Grand Prix     5630 non-null   uint8  \n",
      "dtypes: bool(1), float64(14), int64(8), object(14), uint8(33)\n",
      "memory usage: 1.9+ MB\n"
     ]
    }
   ],
   "source": [
    "import pandas as pd\n",
    "\n",
    "# Use pd.get_dummies to convert 'Circuit' column to one-hot encoded variables\n",
    "one_hot_encoded_data = pd.get_dummies(df['Circuit'], prefix='Circuit')\n",
    "\n",
    "# Join the one-hot encoded columns back with the original DataFrame\n",
    "df= df.join(one_hot_encoded_data)\n",
    "\n",
    "# Now df_one_hot contains the original data along with the one-hot encoded circuit columns\n",
    "\n",
    "df = df.drop(columns=['Team','Driver','LapStartDate']) # Remove non-related features\n",
    "\n",
    "\n",
    "df.info()\n"
   ]
  },
  {
   "cell_type": "code",
   "execution_count": null,
   "id": "60ca5c5753db0e32",
   "metadata": {
    "collapsed": false,
    "is_executing": true,
    "ExecuteTime": {
     "start_time": "2024-03-27T02:07:57.147525Z"
    }
   },
   "outputs": [
    {
     "data": {
      "text/plain": "<Axes: xlabel='TrackTemp', ylabel='LapTime'>"
     },
     "execution_count": 6,
     "metadata": {},
     "output_type": "execute_result"
    }
   ],
   "source": [
    "\n",
    "plt.figure(figsize=(20, 12))\n",
    "\n",
    "sns.scatterplot(x='TrackTemp', y='LapTime', data=df, hue='Circuit')\n"
   ]
  },
  {
   "cell_type": "code",
   "execution_count": null,
   "id": "316478de2831305b",
   "metadata": {
    "collapsed": false,
    "is_executing": true
   },
   "outputs": [],
   "source": []
  },
  {
   "cell_type": "code",
   "execution_count": null,
   "id": "7fbbf202dadd2850",
   "metadata": {
    "collapsed": false,
    "is_executing": true
   },
   "outputs": [],
   "source": [
    "# Handling Outliers\n",
    "\n",
    "# Calculate Q1, Q3, and IQR\n",
    "\n",
    "Q1 = df['LapTime'].quantile(0.25)\n",
    "Q3 = df['LapTime'].quantile(0.75)\n",
    "IQR = Q3 - Q1\n",
    "\n",
    "# Determine bounds for outliers\n",
    "lower_bound = Q1 - 1.5 * IQR  \n",
    "upper_bound = Q3 + 1.5 * IQR\n",
    "\n",
    "# Identify outliers\n",
    "outliers = df[(df['LapTime'] < lower_bound) | (df['LapTime'] > upper_bound)]\n",
    "\n",
    "#  Remove outliers from the DataFrame\n",
    "\n",
    "df = df[(df['LapTime'] >= lower_bound) & (df['LapTime'] <= upper_bound)]\n",
    "\n",
    "plt.figure(figsize=(20, 12))\n",
    "sns.scatterplot(x='TrackTemp', y='LapTime', data=df,hue='Circuit')\n",
    "\n",
    "\n",
    "plt.title('Track Temperature vs. Lap Time (Outliers Removed)')\n",
    "plt.show()\n"
   ]
  },
  {
   "cell_type": "markdown",
   "id": "7d315a0fe805a8e8",
   "metadata": {
    "collapsed": false
   },
   "source": []
  },
  {
   "cell_type": "code",
   "execution_count": null,
   "id": "7baa6763db215a6c",
   "metadata": {
    "collapsed": false,
    "is_executing": true
   },
   "outputs": [],
   "source": [
    "from sklearn.model_selection import train_test_split\n",
    "from sklearn.ensemble import RandomForestRegressor\n",
    "from sklearn.metrics import mean_squared_error\n",
    "import numpy as np\n",
    "\n",
    "df['LapTime'] = pd.to_timedelta(df['LapTime'])\n",
    "\n",
    "df['LapTime'] = df['LapTime'].dt.total_seconds()\n",
    "\n",
    "# Assuming LapTime is your target variable and is already in a numeric format\n",
    "X = df.drop('LapTime', axis=1)\n",
    "y = df['LapTime']\n",
    "\n",
    "# Split data\n",
    "X_train, X_test, y_train, y_test = train_test_split(X, y, test_size=0.2, random_state=42)\n",
    "\n",
    "# Train a model\n",
    "model = RandomForestRegressor(n_estimators=100, random_state=42)\n",
    "model.fit(X_train, y_train)\n",
    "\n",
    "# Predict and evaluate\n",
    "predictions = model.predict(X_test)\n",
    "rmse = np.sqrt(mean_squared_error(y_test, predictions))\n",
    "print(f\"RMSE: {rmse}\")\n"
   ]
  },
  {
   "cell_type": "code",
   "execution_count": null,
   "id": "7442c843ea7731eb",
   "metadata": {
    "collapsed": false,
    "is_executing": true
   },
   "outputs": [],
   "source": []
  },
  {
   "cell_type": "code",
   "execution_count": null,
   "id": "a844b5c30ff5eac",
   "metadata": {
    "collapsed": false,
    "is_executing": true
   },
   "outputs": [],
   "source": [
    "# sns.regplot(x='TrackTemp', y='LapTime', data=df)"
   ]
  },
  {
   "cell_type": "code",
   "execution_count": null,
   "id": "7d23658f21b5968d",
   "metadata": {
    "collapsed": false,
    "is_executing": true
   },
   "outputs": [],
   "source": [
    "# Handling missing values\n",
    "# You might decide to fill missing values with a median or mean, or drop them\n",
    "# df.fillna(df.median(), inplace=True ) # For numerical columns\n"
   ]
  },
  {
   "cell_type": "code",
   "execution_count": null,
   "id": "f0fe1c424fc41a24",
   "metadata": {
    "collapsed": false,
    "is_executing": true
   },
   "outputs": [],
   "source": [
    "\"\"\" from sklearn.preprocessing import StandardScaler\n",
    "\n",
    "# Fit the scaler on the selected columns\n",
    "scaler = StandardScaler().fit(df[['LapTime', 'TrackTemp']])\n",
    "\n",
    "# Transform the selected columns and store in a new DataFrame\n",
    "scaled_columns = scaler.transform(df[['LapTime', 'TrackTemp']])\n",
    "\n",
    "# Create a DataFrame from the scaled columns with the same index as df\n",
    "scaled_df = pd.DataFrame(scaled_columns, index=df.index, columns=['LapTime_scaled', 'TrackTemp_scaled'])\n",
    "\n",
    "# Now you can merge the scaled columns back into the original DataFrame\n",
    "df = df.drop(['LapTime', 'TrackTemp'], axis=1)\n",
    "df = pd.concat([df, scaled_df], axis=1)\n",
    "\"\"\""
   ]
  },
  {
   "cell_type": "markdown",
   "id": "a9c626a2d944bb6c",
   "metadata": {
    "collapsed": false
   },
   "source": []
  },
  {
   "cell_type": "code",
   "execution_count": null,
   "id": "e9106b8c04a93431",
   "metadata": {
    "collapsed": false,
    "is_executing": true
   },
   "outputs": [],
   "source": [
    "\"\"\" from sklearn.preprocessing import RobustScaler\n",
    "import pandas as pd\n",
    "\n",
    "scaler = RobustScaler()\n",
    "\n",
    "# Fit and transform the columns\n",
    "scaled_data = scaler.fit_transform(df[['LapTime', 'TrackTemp']])\n",
    "\n",
    "# Create a DataFrame from the scaled data with the same index as 'df' and new column names\n",
    "scaled_df = pd.DataFrame(scaled_data, index=df.index, columns=['LapTime_scaled1', 'TrackTemp_scaled2'])\n",
    "\n",
    "# Drop the original 'LapTime' and 'TrackTemp' columns from 'df' if you no longer need them\n",
    "\n",
    "df = df.drop(['LapTime', 'TrackTemp'], axis=1)\n",
    "\n",
    "\n",
    "df = df.drop(['LapTime_scaled', 'TrackTemp_scaled'], axis=1)\n",
    "\n",
    "# merge the scaled columns back into the original DataFrame\n",
    "df = pd.concat([df, scaled_df], axis=1)\n",
    "\"\"\""
   ]
  }
 ],
 "metadata": {
  "kernelspec": {
   "display_name": "Python 3 (ipykernel)",
   "language": "python",
   "name": "python3"
  },
  "language_info": {
   "codemirror_mode": {
    "name": "ipython",
    "version": 3
   },
   "file_extension": ".py",
   "mimetype": "text/x-python",
   "name": "python",
   "nbconvert_exporter": "python",
   "pygments_lexer": "ipython3",
   "version": "3.11.3"
  }
 },
 "nbformat": 4,
 "nbformat_minor": 5
}
