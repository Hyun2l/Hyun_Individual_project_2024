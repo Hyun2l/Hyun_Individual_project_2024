{
 "cells": [
  {
   "cell_type": "code",
   "execution_count": 2,
   "id": "initial_id",
   "metadata": {
    "collapsed": true,
    "ExecuteTime": {
     "end_time": "2024-04-16T11:41:48.806224Z",
     "start_time": "2024-04-16T11:41:47.177625Z"
    }
   },
   "outputs": [
    {
     "name": "stdout",
     "output_type": "stream",
     "text": [
      "<class 'pandas.core.frame.DataFrame'>\n",
      "RangeIndex: 82418 entries, 0 to 82417\n",
      "Data columns (total 136 columns):\n",
      " #    Column                               Dtype  \n",
      "---   ------                               -----  \n",
      " 0    DriverNumber                         int64  \n",
      " 1    LapTime                              float64\n",
      " 2    LapNumber                            float64\n",
      " 3    Stint                                float64\n",
      " 4    SpeedI1                              float64\n",
      " 5    SpeedI2                              float64\n",
      " 6    SpeedFL                              float64\n",
      " 7    SpeedST                              float64\n",
      " 8    TyreLife                             float64\n",
      " 9    FreshTyre                            int64  \n",
      " 10   Position                             float64\n",
      " 11   IsAccurate                           int64  \n",
      " 12   AirTemp                              float64\n",
      " 13   Humidity                             float64\n",
      " 14   Pressure                             float64\n",
      " 15   Rainfall                             int64  \n",
      " 16   TrackTemp                            float64\n",
      " 17   WindDirection                        int64  \n",
      " 18   WindSpeed                            float64\n",
      " 19   Year                                 int64  \n",
      " 20   TrackConditionIndex                  float64\n",
      " 21   Weather_Category_Cool                uint8  \n",
      " 22   Weather_Category_Hot                 uint8  \n",
      " 23   Weather_Category_Rainy               uint8  \n",
      " 24   Weather_Category_Warm                uint8  \n",
      " 25   TrackTemp_Cat_VERY_LOW               uint8  \n",
      " 26   TrackTemp_Cat_Low                    uint8  \n",
      " 27   TrackTemp_Cat_Medium                 uint8  \n",
      " 28   TrackTemp_Cat_High                   uint8  \n",
      " 29   TrackTemp_Cat_VERY_HIGH              uint8  \n",
      " 30   TyreAge_TrackTemp                    float64\n",
      " 31   Driver_AIT                           uint8  \n",
      " 32   Driver_ALB                           uint8  \n",
      " 33   Driver_ALO                           uint8  \n",
      " 34   Driver_BOT                           uint8  \n",
      " 35   Driver_DEV                           uint8  \n",
      " 36   Driver_FIT                           uint8  \n",
      " 37   Driver_GAS                           uint8  \n",
      " 38   Driver_GIO                           uint8  \n",
      " 39   Driver_GRO                           uint8  \n",
      " 40   Driver_HAM                           uint8  \n",
      " 41   Driver_HUL                           uint8  \n",
      " 42   Driver_KUB                           uint8  \n",
      " 43   Driver_KVY                           uint8  \n",
      " 44   Driver_LAT                           uint8  \n",
      " 45   Driver_LEC                           uint8  \n",
      " 46   Driver_MAG                           uint8  \n",
      " 47   Driver_MAZ                           uint8  \n",
      " 48   Driver_MSC                           uint8  \n",
      " 49   Driver_NOR                           uint8  \n",
      " 50   Driver_OCO                           uint8  \n",
      " 51   Driver_PER                           uint8  \n",
      " 52   Driver_RAI                           uint8  \n",
      " 53   Driver_RIC                           uint8  \n",
      " 54   Driver_RUS                           uint8  \n",
      " 55   Driver_SAI                           uint8  \n",
      " 56   Driver_STR                           uint8  \n",
      " 57   Driver_TSU                           uint8  \n",
      " 58   Driver_VER                           uint8  \n",
      " 59   Driver_VET                           uint8  \n",
      " 60   Driver_ZHO                           uint8  \n",
      " 61   Circuit_70th Anniversary Grand Prix  uint8  \n",
      " 62   Circuit_Abu Dhabi Grand Prix         uint8  \n",
      " 63   Circuit_Australian Grand Prix        uint8  \n",
      " 64   Circuit_Austrian Grand Prix          uint8  \n",
      " 65   Circuit_Azerbaijan Grand Prix        uint8  \n",
      " 66   Circuit_Bahrain Grand Prix           uint8  \n",
      " 67   Circuit_Belgian Grand Prix           uint8  \n",
      " 68   Circuit_Brazilian Grand Prix         uint8  \n",
      " 69   Circuit_British Grand Prix           uint8  \n",
      " 70   Circuit_Canadian Grand Prix          uint8  \n",
      " 71   Circuit_Chinese Grand Prix           uint8  \n",
      " 72   Circuit_Dutch Grand Prix             uint8  \n",
      " 73   Circuit_Eifel Grand Prix             uint8  \n",
      " 74   Circuit_Emilia Romagna Grand Prix    uint8  \n",
      " 75   Circuit_French Grand Prix            uint8  \n",
      " 76   Circuit_German Grand Prix            uint8  \n",
      " 77   Circuit_Hungarian Grand Prix         uint8  \n",
      " 78   Circuit_Italian Grand Prix           uint8  \n",
      " 79   Circuit_Japanese Grand Prix          uint8  \n",
      " 80   Circuit_Mexican Grand Prix           uint8  \n",
      " 81   Circuit_Mexico City Grand Prix       uint8  \n",
      " 82   Circuit_Miami Grand Prix             uint8  \n",
      " 83   Circuit_Monaco Grand Prix            uint8  \n",
      " 84   Circuit_Portuguese Grand Prix        uint8  \n",
      " 85   Circuit_Qatar Grand Prix             uint8  \n",
      " 86   Circuit_Russian Grand Prix           uint8  \n",
      " 87   Circuit_Sakhir Grand Prix            uint8  \n",
      " 88   Circuit_Saudi Arabian Grand Prix     uint8  \n",
      " 89   Circuit_Singapore Grand Prix         uint8  \n",
      " 90   Circuit_Spanish Grand Prix           uint8  \n",
      " 91   Circuit_Styrian Grand Prix           uint8  \n",
      " 92   Circuit_Turkish Grand Prix           uint8  \n",
      " 93   Circuit_Tuscan Grand Prix            uint8  \n",
      " 94   Circuit_United States Grand Prix     uint8  \n",
      " 95   Compound_HARD                        uint8  \n",
      " 96   Compound_INTERMEDIATE                uint8  \n",
      " 97   Compound_MEDIUM                      uint8  \n",
      " 98   Compound_SOFT                        uint8  \n",
      " 99   Compound_UNKNOWN                     uint8  \n",
      " 100  Compound_WET                         uint8  \n",
      " 101  Team_Alfa Romeo                      uint8  \n",
      " 102  Team_Alfa Romeo Racing               uint8  \n",
      " 103  Team_AlphaTauri                      uint8  \n",
      " 104  Team_Alpine                          uint8  \n",
      " 105  Team_Aston Martin                    uint8  \n",
      " 106  Team_Ferrari                         uint8  \n",
      " 107  Team_Haas F1 Team                    uint8  \n",
      " 108  Team_McLaren                         uint8  \n",
      " 109  Team_Mercedes                        uint8  \n",
      " 110  Team_Racing Point                    uint8  \n",
      " 111  Team_Red Bull Racing                 uint8  \n",
      " 112  Team_Renault                         uint8  \n",
      " 113  Team_Toro Rosso                      uint8  \n",
      " 114  Team_Williams                        uint8  \n",
      " 115  TrackStatus_1.0                      uint8  \n",
      " 116  TrackStatus_2.0                      uint8  \n",
      " 117  TrackStatus_4.0                      uint8  \n",
      " 118  TrackStatus_5.0                      uint8  \n",
      " 119  TrackStatus_6.0                      uint8  \n",
      " 120  TrackStatus_7.0                      uint8  \n",
      " 121  TrackStatus_24.0                     uint8  \n",
      " 122  TrackStatus_25.0                     uint8  \n",
      " 123  TrackStatus_26.0                     uint8  \n",
      " 124  TrackStatus_42.0                     uint8  \n",
      " 125  TrackStatus_45.0                     uint8  \n",
      " 126  TrackStatus_52.0                     uint8  \n",
      " 127  TrackStatus_64.0                     uint8  \n",
      " 128  TrackStatus_67.0                     uint8  \n",
      " 129  TrackStatus_72.0                     uint8  \n",
      " 130  TrackStatus_245.0                    uint8  \n",
      " 131  TrackStatus_264.0                    uint8  \n",
      " 132  TrackStatus_267.0                    uint8  \n",
      " 133  TrackStatus_672.0                    uint8  \n",
      " 134  TrackStatus_724.0                    uint8  \n",
      " 135  TrackStatus_6724.0                   uint8  \n",
      "dtypes: float64(16), int64(6), uint8(114)\n",
      "memory usage: 22.8 MB\n"
     ]
    }
   ],
   "source": [
    "import pandas as pd\n",
    "import numpy as np\n",
    "from sklearn.experimental import enable_iterative_imputer\n",
    "from sklearn.impute import IterativeImputer\n",
    "from sklearn.ensemble import RandomForestRegressor\n",
    "from sklearn.preprocessing import RobustScaler\n",
    "\n",
    "# Load dataset\n",
    "df = pd.read_csv('f1_2019_to_2022_all_drivers_all_data.csv', low_memory=False)\n",
    "\n",
    "# Convert time columns to seconds\n",
    "time_columns = ['LapTime', 'Sector1Time', 'Sector2Time', 'Sector3Time']\n",
    "for col in time_columns:\n",
    "    df[col] = pd.to_timedelta(df[col]).dt.total_seconds()\n",
    "\n",
    "# Convert binary columns to integer type\n",
    "df['Rainfall'] = df['Rainfall'].astype(int)\n",
    "df['FreshTyre'] = df['FreshTyre'].astype(int)\n",
    "df['IsAccurate'] = df['IsAccurate'].astype(int)\n",
    "\n",
    "\n",
    "\n",
    "# Feature Engineering: \n",
    "\n",
    "# Environmental condition index\n",
    "df['TrackConditionIndex'] = (df['AirTemp'] + df['TrackTemp'] + df['Humidity'] + df['Pressure'] +\n",
    "                             df['WindSpeed'] + df['Rainfall']) / 6\n",
    "\n",
    "\n",
    "# Categorize weather and return numerical labels for models Initial: 0 , 25 , 19 \n",
    "def categorize_weather(row):\n",
    "    if row['Rainfall'] > 0:\n",
    "        return 'Rainy'\n",
    "    elif row['AirTemp'] > 27:\n",
    "        return 'Hot'\n",
    "    elif row['AirTemp'] > 20:\n",
    "        return 'Warm'\n",
    "    else:\n",
    "        return 'Cool'\n",
    "df['Weather_Category'] = df.apply(categorize_weather, axis=1)\n",
    "\n",
    "\n",
    "df = pd.get_dummies(df, columns=['Weather_Category'])\n",
    "\n",
    "\n",
    "\n",
    "# Create Track temperature category based on the result of clustering \n",
    "df['TrackTemp_Cat'] = pd.cut(df['TrackTemp'], bins=[18, 27, 34, 41, 50, np.inf], labels=['VERY_LOW', 'Low', 'Medium', 'High', 'VERY_HIGH'])\n",
    "\n",
    "# Initial values : [10, 20, 30, 40, 45, np.inf], labels=['VERY_LOW', 'Low', 'Medium', 'High', 'VERY_HIGH'])\n",
    "df = pd.get_dummies(df, columns=['TrackTemp_Cat'])\n",
    "\n",
    "# Tyre Age Interaction with TrackTemp \n",
    "df['TyreAge_TrackTemp'] = df['TyreLife'] * df['TrackTemp']\n",
    "\n",
    "# One-hot encoding\n",
    "df = pd.get_dummies(df, columns=['Driver', 'Circuit', 'Compound', 'Team','TrackStatus'])\n",
    "\n",
    "# Drop irrelevant columns\n",
    "columns_to_drop = ['Time', 'Sector1SessionTime', 'Sector2SessionTime', 'Sector3SessionTime',\n",
    "                   'PitOutTime', 'PitInTime', 'LapStartDate', 'Deleted', 'DeletedReason', 'FastF1Generated',\n",
    "                   'IsPersonalBest', 'Sector3Time', 'Sector2Time', 'Sector1Time','LapStartTime']\n",
    "df.drop(columns=columns_to_drop, inplace=True)\n",
    "\n",
    "df.info(verbose=True)\n"
   ]
  },
  {
   "cell_type": "code",
   "outputs": [
    {
     "name": "stdout",
     "output_type": "stream",
     "text": [
      "[[21.31279265]\n",
      " [28.43213126]\n",
      " [12.84901403]]\n"
     ]
    },
    {
     "name": "stderr",
     "output_type": "stream",
     "text": [
      "/opt/anaconda3/envs/COMS30035_labs/lib/python3.11/site-packages/sklearn/cluster/_kmeans.py:870: FutureWarning: The default value of `n_init` will change from 10 to 'auto' in 1.4. Set the value of `n_init` explicitly to suppress the warning\n",
      "  warnings.warn(\n"
     ]
    }
   ],
   "source": [
    "from sklearn.cluster import KMeans\n",
    "\n",
    "#K-Means to determine thresholds, The centroids of these clusters could reflect potential thresholds.\n",
    "\n",
    "kmeans = KMeans(n_clusters=3)\n",
    "df['AirTempCluster'] = kmeans.fit_predict(df[['AirTemp']])\n",
    "\n",
    "# Check the cluster centers for AirTemp\n",
    "print(kmeans.cluster_centers_)\n"
   ],
   "metadata": {
    "collapsed": false,
    "ExecuteTime": {
     "end_time": "2024-04-16T11:41:51.051334Z",
     "start_time": "2024-04-16T11:41:50.864293Z"
    }
   },
   "id": "8aa69bda7e3d1560",
   "execution_count": 3
  },
  {
   "cell_type": "code",
   "outputs": [
    {
     "name": "stdout",
     "output_type": "stream",
     "text": [
      "[[41.75142602]\n",
      " [27.87457484]\n",
      " [18.96764999]\n",
      " [35.04425766]\n",
      " [50.51006013]]\n"
     ]
    },
    {
     "name": "stderr",
     "output_type": "stream",
     "text": [
      "/opt/anaconda3/envs/COMS30035_labs/lib/python3.11/site-packages/sklearn/cluster/_kmeans.py:870: FutureWarning: The default value of `n_init` will change from 10 to 'auto' in 1.4. Set the value of `n_init` explicitly to suppress the warning\n",
      "  warnings.warn(\n"
     ]
    }
   ],
   "source": [
    "\n",
    "kmeans = KMeans(n_clusters=5)\n",
    "\n",
    "df['TrackTempCluster'] = kmeans.fit_predict(df[['TrackTemp']])\n",
    "\n",
    "print(kmeans.cluster_centers_)\n"
   ],
   "metadata": {
    "collapsed": false,
    "ExecuteTime": {
     "end_time": "2024-04-16T11:41:53.054422Z",
     "start_time": "2024-04-16T11:41:52.879365Z"
    }
   },
   "id": "1ee39733534d032c",
   "execution_count": 4
  },
  {
   "cell_type": "code",
   "outputs": [],
   "source": [
    "from sklearn.preprocessing import StandardScaler\n",
    "from sklearn.impute import KNNImputer\n",
    "from sklearn.linear_model import LinearRegression\n",
    "\n",
    "\n",
    "# List of numeric features to be standardized, excluding 'LapTime'\n",
    "numeric_features = ['SpeedI1', 'SpeedI2', 'SpeedFL', 'SpeedST', 'AirTemp', 'Humidity', 'Pressure', 'TrackTemp', 'WindDirection', 'WindSpeed']\n",
    "\n",
    "\n",
    "imputer = IterativeImputer(estimator=LinearRegression(), random_state=42)\n",
    "# Impute missing values only for selected features\n",
    "df[numeric_features] = imputer.fit_transform(df[numeric_features])\n",
    "\n",
    "\n",
    "## Scaler for other features \n",
    "# Initialize the RobustScaler\n",
    "robust_scaler = RobustScaler()\n",
    "# Apply scaling to the selected features\n",
    "df[numeric_features] = robust_scaler.fit_transform(df[numeric_features])\n",
    "\n",
    "\n",
    "\n",
    "## for LapTime ## \n",
    "\n",
    "# KNN Imputation\n",
    "imputer = KNNImputer(n_neighbors=5)\n",
    "df['LapTime'] = imputer.fit_transform(df[['LapTime']])  # reshape if necessary\n",
    "\n",
    "\n",
    "# df['LapTime'] = df['LapTime'].fillna(method='ffill')\n",
    "# OR -> df['LapTime'] = df['LapTime'].interpolate(method='linear')"
   ],
   "metadata": {
    "collapsed": false,
    "ExecuteTime": {
     "end_time": "2024-04-16T14:40:29.832815Z",
     "start_time": "2024-04-16T14:40:25.739475Z"
    }
   },
   "id": "ab031b2ae743dd4d",
   "execution_count": 5
  },
  {
   "cell_type": "code",
   "outputs": [
    {
     "name": "stdout",
     "output_type": "stream",
     "text": [
      "Position    96\n",
      "dtype: int64\n"
     ]
    }
   ],
   "source": [
    "nan_counts = df.isna().sum()\n",
    "# Print columns with NaN count more than 0\n",
    "print(nan_counts[nan_counts >0])"
   ],
   "metadata": {
    "collapsed": false,
    "ExecuteTime": {
     "end_time": "2024-04-16T11:33:47.833940Z",
     "start_time": "2024-04-16T11:33:47.819831Z"
    }
   },
   "id": "9af9a20da8abd2eb",
   "execution_count": 18
  },
  {
   "cell_type": "code",
   "outputs": [],
   "source": [
    "# df['Position'] = df['Position'].fillna(method='ffill')\n",
    "\n",
    "# KNN Imputation\n",
    "imputer = KNNImputer(n_neighbors=5)\n",
    "df['Position'] = imputer.fit_transform(df[['Position']])  # reshape if necessary"
   ],
   "metadata": {
    "collapsed": false,
    "ExecuteTime": {
     "end_time": "2024-04-16T11:34:06.786792Z",
     "start_time": "2024-04-16T11:34:06.589044Z"
    }
   },
   "id": "6a904565ea68bf15",
   "execution_count": 19
  },
  {
   "cell_type": "code",
   "outputs": [
    {
     "name": "stdout",
     "output_type": "stream",
     "text": [
      "Series([], dtype: int64)\n"
     ]
    }
   ],
   "source": [
    "nan_counts = df.isna().sum()\n",
    "# Print columns with NaN count more than 0\n",
    "print(nan_counts[nan_counts >0])"
   ],
   "metadata": {
    "collapsed": false,
    "ExecuteTime": {
     "end_time": "2024-04-16T11:34:08.982718Z",
     "start_time": "2024-04-16T11:34:08.969221Z"
    }
   },
   "id": "3930bce6b5aa1c50",
   "execution_count": 20
  },
  {
   "cell_type": "code",
   "outputs": [],
   "source": [
    "# Handling LapTime based on weather conditions\n",
    "df['IsRainy'] = df['Rainfall'].apply(lambda x: 1 if x > 0 else 0)\n",
    "df_dry = df[df['IsRainy'] == 0]\n",
    "df_wet = df[df['IsRainy'] == 1]\n",
    "\n",
    "# Remove outliers for dry conditions using IQR\n",
    "Q1_dry = df_dry['LapTime'].quantile(0.25)\n",
    "Q3_dry = df_dry['LapTime'].quantile(0.75)\n",
    "IQR_dry = Q3_dry - Q1_dry\n",
    "lower_bound_dry = Q1_dry - 1.5 * IQR_dry\n",
    "upper_bound_dry = Q3_dry + 1.5 * IQR_dry\n",
    "df_dry_filtered = df_dry[(df_dry['LapTime'] >= lower_bound_dry) & (df_dry['LapTime'] <= upper_bound_dry)]\n",
    "\n",
    "# Re-combine the dry and wet dataframes\n",
    "df_combined = pd.concat([df_dry_filtered, df_wet], ignore_index=True)\n"
   ],
   "metadata": {
    "collapsed": false,
    "ExecuteTime": {
     "end_time": "2024-04-16T11:34:13.156704Z",
     "start_time": "2024-04-16T11:34:13.071609Z"
    }
   },
   "id": "4d4a87878d322a09",
   "execution_count": 21
  },
  {
   "cell_type": "code",
   "outputs": [
    {
     "name": "stdout",
     "output_type": "stream",
     "text": [
      "Average dry lap time: 90.50284503411963 seconds\n",
      "Average wet lap time: 94.44636773579344 seconds\n",
      "Combined lap time: 90.70620650302583 seconds\n"
     ]
    }
   ],
   "source": [
    "# Example analysis: Comparing average lap times in dry vs. wet conditions\n",
    "average_laptime_dry = df_dry_filtered['LapTime'].mean()\n",
    "average_laptime_wet = df_wet['LapTime'].mean()\n",
    "average_Combined = df_combined['LapTime'].mean()\n",
    "\n",
    "print(f\"Average dry lap time: {average_laptime_dry} seconds\")\n",
    "print(f\"Average wet lap time: {average_laptime_wet} seconds\")\n",
    "print(f\"Combined lap time: {average_Combined} seconds\")\n",
    "\n"
   ],
   "metadata": {
    "collapsed": false,
    "ExecuteTime": {
     "end_time": "2024-04-16T11:34:15.056820Z",
     "start_time": "2024-04-16T11:34:15.051891Z"
    }
   },
   "id": "bb1c60f0f8acfa65",
   "execution_count": 22
  },
  {
   "cell_type": "code",
   "outputs": [
    {
     "name": "stderr",
     "output_type": "stream",
     "text": [
      "/opt/anaconda3/envs/COMS30035_labs/lib/python3.11/site-packages/sklearn/cluster/_kmeans.py:870: FutureWarning: The default value of `n_init` will change from 10 to 'auto' in 1.4. Set the value of `n_init` explicitly to suppress the warning\n",
      "  warnings.warn(\n"
     ]
    },
    {
     "name": "stdout",
     "output_type": "stream",
     "text": [
      "[[ 0.93969365]\n",
      " [-1.61491573]\n",
      " [-0.22741104]]\n",
      "[[-1.16211281]\n",
      " [ 0.48798737]\n",
      " [-0.51114244]\n",
      " [ 1.12546505]\n",
      " [ 0.00333809]]\n"
     ]
    },
    {
     "name": "stderr",
     "output_type": "stream",
     "text": [
      "/opt/anaconda3/envs/COMS30035_labs/lib/python3.11/site-packages/sklearn/cluster/_kmeans.py:870: FutureWarning: The default value of `n_init` will change from 10 to 'auto' in 1.4. Set the value of `n_init` explicitly to suppress the warning\n",
      "  warnings.warn(\n"
     ]
    }
   ],
   "source": [
    " from sklearn.cluster import KMeans\n",
    "\n",
    "#K-Means to determine thresholds, The centroids of these clusters could reflect potential thresholds.\n",
    "\n",
    "kmeans = KMeans(n_clusters=3)\n",
    "df['AirTempCluster'] = kmeans.fit_predict(df[['AirTemp']])\n",
    "\n",
    "# Check the cluster centers for AirTemp\n",
    "print(kmeans.cluster_centers_)\n"
   ],
   "metadata": {
    "collapsed": false,
    "ExecuteTime": {
     "end_time": "2024-04-16T11:40:14.480649Z",
     "start_time": "2024-04-16T11:40:13.854898Z"
    }
   },
   "id": "183adb40487fb390",
   "execution_count": 24
  },
  {
   "cell_type": "code",
   "outputs": [
    {
     "name": "stdout",
     "output_type": "stream",
     "text": [
      "Baseline RMSE for Dry_filtered df: 2.716370517928718\n",
      "Best model parameters: {'learning_rate': 0.1, 'max_depth': 7, 'n_estimators': 500}\n",
      "Best CV RMSE: 1.944\n",
      "Best CV MAE: 0.860\n",
      "Best CV R²: 0.978\n"
     ]
    }
   ],
   "source": [
    "import numpy as np\n",
    "import pandas as pd\n",
    "from sklearn.model_selection import train_test_split, KFold, GridSearchCV\n",
    "from sklearn.metrics import make_scorer, mean_squared_error, mean_absolute_error, r2_score\n",
    "from sklearn.preprocessing import RobustScaler\n",
    "from xgboost import XGBRegressor\n",
    "\n",
    "##  df_dry_filtered ##\n",
    "\n",
    "# Separate features and target\n",
    "X = df_dry_filtered.drop(['LapTime'], axis=1)\n",
    "y = df_dry_filtered['LapTime']\n",
    "\n",
    "# Train-test split\n",
    "X_train, X_test, y_train, y_test = train_test_split(X, y, test_size=0.2, random_state=42)\n",
    "\n",
    "# Model training with XGBoost\n",
    "xgb_model = XGBRegressor(n_estimators=100, learning_rate=0.1, random_state=42, n_jobs=-1)\n",
    "xgb_model.fit(X_train, y_train)\n",
    "\n",
    "# Predictions and evaluation\n",
    "predictions = xgb_model.predict(X_test)\n",
    "mse = mean_squared_error(y_test, predictions)\n",
    "rmse = np.sqrt(mse)\n",
    "print(f\"Baseline RMSE for Dry_filtered df: {rmse}\")\n",
    "\n",
    "########\n",
    "\n",
    "# Initialize KFold cross-validation\n",
    "kf = KFold(n_splits=5, shuffle=True, random_state=42)\n",
    "\n",
    "# Define the model\n",
    "xgb = XGBRegressor(random_state=42)\n",
    "\n",
    "# Set up the hyperparameters to test in GridSearchCV\n",
    "param_grid = {\n",
    "    'n_estimators': [100, 300, 500],\n",
    "    'learning_rate': [0.01, 0.05, 0.1],\n",
    "    'max_depth': [3, 5, 7]\n",
    "}\n",
    "\n",
    "# Custom scorer for RMSE\n",
    "neg_rmse_scorer = make_scorer(mean_squared_error, greater_is_better=False, squared=False)\n",
    "\n",
    "# Setup GridSearchCV with multiple scoring metrics\n",
    "grid_search = GridSearchCV(estimator=xgb, param_grid=param_grid, cv=kf,\n",
    "                           scoring={'RMSE': neg_rmse_scorer, 'MAE': 'neg_mean_absolute_error', 'R2': 'r2'},\n",
    "                           refit='RMSE',n_jobs=-1)\n",
    "grid_search.fit(X, y)  # Make sure to fit on scaled X to maintain consistency\n",
    "\n",
    "# Get the best model and print results\n",
    "best_model = grid_search.best_estimator_\n",
    "best_params = grid_search.best_params_\n",
    "best_rmse = -grid_search.cv_results_['mean_test_RMSE'][grid_search.best_index_]\n",
    "best_mae = -grid_search.cv_results_['mean_test_MAE'][grid_search.best_index_]\n",
    "best_r2 = grid_search.cv_results_['mean_test_R2'][grid_search.best_index_]\n",
    "\n",
    "print(\"Best model parameters:\", best_params)\n",
    "print(f\"Best CV RMSE: {best_rmse:.3f}\")\n",
    "print(f\"Best CV MAE: {best_mae:.3f}\")\n",
    "print(f\"Best CV R²: {best_r2:.3f}\")\n"
   ],
   "metadata": {
    "collapsed": false,
    "ExecuteTime": {
     "end_time": "2024-04-16T11:36:52.342207Z",
     "start_time": "2024-04-16T11:34:53.814577Z"
    }
   },
   "id": "d50859d074d359a1",
   "execution_count": 23
  },
  {
   "cell_type": "code",
   "outputs": [
    {
     "ename": "KeyboardInterrupt",
     "evalue": "",
     "output_type": "error",
     "traceback": [
      "\u001B[0;31m---------------------------------------------------------------------------\u001B[0m",
      "\u001B[0;31mKeyboardInterrupt\u001B[0m                         Traceback (most recent call last)",
      "Cell \u001B[0;32mIn[14], line 23\u001B[0m\n\u001B[1;32m     20\u001B[0m model \u001B[38;5;241m=\u001B[39m RandomForestRegressor(n_estimators\u001B[38;5;241m=\u001B[39m\u001B[38;5;241m100\u001B[39m,max_depth\u001B[38;5;241m=\u001B[39m\u001B[38;5;241m20\u001B[39m,min_samples_split\u001B[38;5;241m=\u001B[39m\u001B[38;5;241m5\u001B[39m,random_state\u001B[38;5;241m=\u001B[39m\u001B[38;5;241m42\u001B[39m,n_jobs\u001B[38;5;241m=\u001B[39m\u001B[38;5;241m-\u001B[39m\u001B[38;5;241m1\u001B[39m)\n\u001B[1;32m     21\u001B[0m \u001B[38;5;66;03m# Best Parameters: {'max_depth': 20, 'min_samples_split': 5, 'n_estimators': 300}\u001B[39;00m\n\u001B[0;32m---> 23\u001B[0m \u001B[43mmodel\u001B[49m\u001B[38;5;241;43m.\u001B[39;49m\u001B[43mfit\u001B[49m\u001B[43m(\u001B[49m\u001B[43mX_train\u001B[49m\u001B[43m,\u001B[49m\u001B[43m \u001B[49m\u001B[43my_train\u001B[49m\u001B[43m)\u001B[49m\n\u001B[1;32m     25\u001B[0m \u001B[38;5;66;03m# Print RMSE value of the model\u001B[39;00m\n\u001B[1;32m     26\u001B[0m predictions \u001B[38;5;241m=\u001B[39m model\u001B[38;5;241m.\u001B[39mpredict(X_test)\n",
      "File \u001B[0;32m/opt/anaconda3/envs/COMS30035_labs/lib/python3.11/site-packages/sklearn/ensemble/_forest.py:473\u001B[0m, in \u001B[0;36mBaseForest.fit\u001B[0;34m(self, X, y, sample_weight)\u001B[0m\n\u001B[1;32m    462\u001B[0m trees \u001B[38;5;241m=\u001B[39m [\n\u001B[1;32m    463\u001B[0m     \u001B[38;5;28mself\u001B[39m\u001B[38;5;241m.\u001B[39m_make_estimator(append\u001B[38;5;241m=\u001B[39m\u001B[38;5;28;01mFalse\u001B[39;00m, random_state\u001B[38;5;241m=\u001B[39mrandom_state)\n\u001B[1;32m    464\u001B[0m     \u001B[38;5;28;01mfor\u001B[39;00m i \u001B[38;5;129;01min\u001B[39;00m \u001B[38;5;28mrange\u001B[39m(n_more_estimators)\n\u001B[1;32m    465\u001B[0m ]\n\u001B[1;32m    467\u001B[0m \u001B[38;5;66;03m# Parallel loop: we prefer the threading backend as the Cython code\u001B[39;00m\n\u001B[1;32m    468\u001B[0m \u001B[38;5;66;03m# for fitting the trees is internally releasing the Python GIL\u001B[39;00m\n\u001B[1;32m    469\u001B[0m \u001B[38;5;66;03m# making threading more efficient than multiprocessing in\u001B[39;00m\n\u001B[1;32m    470\u001B[0m \u001B[38;5;66;03m# that case. However, for joblib 0.12+ we respect any\u001B[39;00m\n\u001B[1;32m    471\u001B[0m \u001B[38;5;66;03m# parallel_backend contexts set at a higher level,\u001B[39;00m\n\u001B[1;32m    472\u001B[0m \u001B[38;5;66;03m# since correctness does not rely on using threads.\u001B[39;00m\n\u001B[0;32m--> 473\u001B[0m trees \u001B[38;5;241m=\u001B[39m \u001B[43mParallel\u001B[49m\u001B[43m(\u001B[49m\n\u001B[1;32m    474\u001B[0m \u001B[43m    \u001B[49m\u001B[43mn_jobs\u001B[49m\u001B[38;5;241;43m=\u001B[39;49m\u001B[38;5;28;43mself\u001B[39;49m\u001B[38;5;241;43m.\u001B[39;49m\u001B[43mn_jobs\u001B[49m\u001B[43m,\u001B[49m\n\u001B[1;32m    475\u001B[0m \u001B[43m    \u001B[49m\u001B[43mverbose\u001B[49m\u001B[38;5;241;43m=\u001B[39;49m\u001B[38;5;28;43mself\u001B[39;49m\u001B[38;5;241;43m.\u001B[39;49m\u001B[43mverbose\u001B[49m\u001B[43m,\u001B[49m\n\u001B[1;32m    476\u001B[0m \u001B[43m    \u001B[49m\u001B[43mprefer\u001B[49m\u001B[38;5;241;43m=\u001B[39;49m\u001B[38;5;124;43m\"\u001B[39;49m\u001B[38;5;124;43mthreads\u001B[39;49m\u001B[38;5;124;43m\"\u001B[39;49m\u001B[43m,\u001B[49m\n\u001B[1;32m    477\u001B[0m \u001B[43m\u001B[49m\u001B[43m)\u001B[49m\u001B[43m(\u001B[49m\n\u001B[1;32m    478\u001B[0m \u001B[43m    \u001B[49m\u001B[43mdelayed\u001B[49m\u001B[43m(\u001B[49m\u001B[43m_parallel_build_trees\u001B[49m\u001B[43m)\u001B[49m\u001B[43m(\u001B[49m\n\u001B[1;32m    479\u001B[0m \u001B[43m        \u001B[49m\u001B[43mt\u001B[49m\u001B[43m,\u001B[49m\n\u001B[1;32m    480\u001B[0m \u001B[43m        \u001B[49m\u001B[38;5;28;43mself\u001B[39;49m\u001B[38;5;241;43m.\u001B[39;49m\u001B[43mbootstrap\u001B[49m\u001B[43m,\u001B[49m\n\u001B[1;32m    481\u001B[0m \u001B[43m        \u001B[49m\u001B[43mX\u001B[49m\u001B[43m,\u001B[49m\n\u001B[1;32m    482\u001B[0m \u001B[43m        \u001B[49m\u001B[43my\u001B[49m\u001B[43m,\u001B[49m\n\u001B[1;32m    483\u001B[0m \u001B[43m        \u001B[49m\u001B[43msample_weight\u001B[49m\u001B[43m,\u001B[49m\n\u001B[1;32m    484\u001B[0m \u001B[43m        \u001B[49m\u001B[43mi\u001B[49m\u001B[43m,\u001B[49m\n\u001B[1;32m    485\u001B[0m \u001B[43m        \u001B[49m\u001B[38;5;28;43mlen\u001B[39;49m\u001B[43m(\u001B[49m\u001B[43mtrees\u001B[49m\u001B[43m)\u001B[49m\u001B[43m,\u001B[49m\n\u001B[1;32m    486\u001B[0m \u001B[43m        \u001B[49m\u001B[43mverbose\u001B[49m\u001B[38;5;241;43m=\u001B[39;49m\u001B[38;5;28;43mself\u001B[39;49m\u001B[38;5;241;43m.\u001B[39;49m\u001B[43mverbose\u001B[49m\u001B[43m,\u001B[49m\n\u001B[1;32m    487\u001B[0m \u001B[43m        \u001B[49m\u001B[43mclass_weight\u001B[49m\u001B[38;5;241;43m=\u001B[39;49m\u001B[38;5;28;43mself\u001B[39;49m\u001B[38;5;241;43m.\u001B[39;49m\u001B[43mclass_weight\u001B[49m\u001B[43m,\u001B[49m\n\u001B[1;32m    488\u001B[0m \u001B[43m        \u001B[49m\u001B[43mn_samples_bootstrap\u001B[49m\u001B[38;5;241;43m=\u001B[39;49m\u001B[43mn_samples_bootstrap\u001B[49m\u001B[43m,\u001B[49m\n\u001B[1;32m    489\u001B[0m \u001B[43m    \u001B[49m\u001B[43m)\u001B[49m\n\u001B[1;32m    490\u001B[0m \u001B[43m    \u001B[49m\u001B[38;5;28;43;01mfor\u001B[39;49;00m\u001B[43m \u001B[49m\u001B[43mi\u001B[49m\u001B[43m,\u001B[49m\u001B[43m \u001B[49m\u001B[43mt\u001B[49m\u001B[43m \u001B[49m\u001B[38;5;129;43;01min\u001B[39;49;00m\u001B[43m \u001B[49m\u001B[38;5;28;43menumerate\u001B[39;49m\u001B[43m(\u001B[49m\u001B[43mtrees\u001B[49m\u001B[43m)\u001B[49m\n\u001B[1;32m    491\u001B[0m \u001B[43m\u001B[49m\u001B[43m)\u001B[49m\n\u001B[1;32m    493\u001B[0m \u001B[38;5;66;03m# Collect newly grown trees\u001B[39;00m\n\u001B[1;32m    494\u001B[0m \u001B[38;5;28mself\u001B[39m\u001B[38;5;241m.\u001B[39mestimators_\u001B[38;5;241m.\u001B[39mextend(trees)\n",
      "File \u001B[0;32m/opt/anaconda3/envs/COMS30035_labs/lib/python3.11/site-packages/sklearn/utils/parallel.py:63\u001B[0m, in \u001B[0;36mParallel.__call__\u001B[0;34m(self, iterable)\u001B[0m\n\u001B[1;32m     58\u001B[0m config \u001B[38;5;241m=\u001B[39m get_config()\n\u001B[1;32m     59\u001B[0m iterable_with_config \u001B[38;5;241m=\u001B[39m (\n\u001B[1;32m     60\u001B[0m     (_with_config(delayed_func, config), args, kwargs)\n\u001B[1;32m     61\u001B[0m     \u001B[38;5;28;01mfor\u001B[39;00m delayed_func, args, kwargs \u001B[38;5;129;01min\u001B[39;00m iterable\n\u001B[1;32m     62\u001B[0m )\n\u001B[0;32m---> 63\u001B[0m \u001B[38;5;28;01mreturn\u001B[39;00m \u001B[38;5;28;43msuper\u001B[39;49m\u001B[43m(\u001B[49m\u001B[43m)\u001B[49m\u001B[38;5;241;43m.\u001B[39;49m\u001B[38;5;21;43m__call__\u001B[39;49m\u001B[43m(\u001B[49m\u001B[43miterable_with_config\u001B[49m\u001B[43m)\u001B[49m\n",
      "File \u001B[0;32m/opt/anaconda3/envs/COMS30035_labs/lib/python3.11/site-packages/joblib/parallel.py:1098\u001B[0m, in \u001B[0;36mParallel.__call__\u001B[0;34m(self, iterable)\u001B[0m\n\u001B[1;32m   1095\u001B[0m     \u001B[38;5;28mself\u001B[39m\u001B[38;5;241m.\u001B[39m_iterating \u001B[38;5;241m=\u001B[39m \u001B[38;5;28;01mFalse\u001B[39;00m\n\u001B[1;32m   1097\u001B[0m \u001B[38;5;28;01mwith\u001B[39;00m \u001B[38;5;28mself\u001B[39m\u001B[38;5;241m.\u001B[39m_backend\u001B[38;5;241m.\u001B[39mretrieval_context():\n\u001B[0;32m-> 1098\u001B[0m     \u001B[38;5;28;43mself\u001B[39;49m\u001B[38;5;241;43m.\u001B[39;49m\u001B[43mretrieve\u001B[49m\u001B[43m(\u001B[49m\u001B[43m)\u001B[49m\n\u001B[1;32m   1099\u001B[0m \u001B[38;5;66;03m# Make sure that we get a last message telling us we are done\u001B[39;00m\n\u001B[1;32m   1100\u001B[0m elapsed_time \u001B[38;5;241m=\u001B[39m time\u001B[38;5;241m.\u001B[39mtime() \u001B[38;5;241m-\u001B[39m \u001B[38;5;28mself\u001B[39m\u001B[38;5;241m.\u001B[39m_start_time\n",
      "File \u001B[0;32m/opt/anaconda3/envs/COMS30035_labs/lib/python3.11/site-packages/joblib/parallel.py:975\u001B[0m, in \u001B[0;36mParallel.retrieve\u001B[0;34m(self)\u001B[0m\n\u001B[1;32m    973\u001B[0m \u001B[38;5;28;01mtry\u001B[39;00m:\n\u001B[1;32m    974\u001B[0m     \u001B[38;5;28;01mif\u001B[39;00m \u001B[38;5;28mgetattr\u001B[39m(\u001B[38;5;28mself\u001B[39m\u001B[38;5;241m.\u001B[39m_backend, \u001B[38;5;124m'\u001B[39m\u001B[38;5;124msupports_timeout\u001B[39m\u001B[38;5;124m'\u001B[39m, \u001B[38;5;28;01mFalse\u001B[39;00m):\n\u001B[0;32m--> 975\u001B[0m         \u001B[38;5;28mself\u001B[39m\u001B[38;5;241m.\u001B[39m_output\u001B[38;5;241m.\u001B[39mextend(\u001B[43mjob\u001B[49m\u001B[38;5;241;43m.\u001B[39;49m\u001B[43mget\u001B[49m\u001B[43m(\u001B[49m\u001B[43mtimeout\u001B[49m\u001B[38;5;241;43m=\u001B[39;49m\u001B[38;5;28;43mself\u001B[39;49m\u001B[38;5;241;43m.\u001B[39;49m\u001B[43mtimeout\u001B[49m\u001B[43m)\u001B[49m)\n\u001B[1;32m    976\u001B[0m     \u001B[38;5;28;01melse\u001B[39;00m:\n\u001B[1;32m    977\u001B[0m         \u001B[38;5;28mself\u001B[39m\u001B[38;5;241m.\u001B[39m_output\u001B[38;5;241m.\u001B[39mextend(job\u001B[38;5;241m.\u001B[39mget())\n",
      "File \u001B[0;32m/opt/anaconda3/envs/COMS30035_labs/lib/python3.11/multiprocessing/pool.py:768\u001B[0m, in \u001B[0;36mApplyResult.get\u001B[0;34m(self, timeout)\u001B[0m\n\u001B[1;32m    767\u001B[0m \u001B[38;5;28;01mdef\u001B[39;00m \u001B[38;5;21mget\u001B[39m(\u001B[38;5;28mself\u001B[39m, timeout\u001B[38;5;241m=\u001B[39m\u001B[38;5;28;01mNone\u001B[39;00m):\n\u001B[0;32m--> 768\u001B[0m     \u001B[38;5;28;43mself\u001B[39;49m\u001B[38;5;241;43m.\u001B[39;49m\u001B[43mwait\u001B[49m\u001B[43m(\u001B[49m\u001B[43mtimeout\u001B[49m\u001B[43m)\u001B[49m\n\u001B[1;32m    769\u001B[0m     \u001B[38;5;28;01mif\u001B[39;00m \u001B[38;5;129;01mnot\u001B[39;00m \u001B[38;5;28mself\u001B[39m\u001B[38;5;241m.\u001B[39mready():\n\u001B[1;32m    770\u001B[0m         \u001B[38;5;28;01mraise\u001B[39;00m \u001B[38;5;167;01mTimeoutError\u001B[39;00m\n",
      "File \u001B[0;32m/opt/anaconda3/envs/COMS30035_labs/lib/python3.11/multiprocessing/pool.py:765\u001B[0m, in \u001B[0;36mApplyResult.wait\u001B[0;34m(self, timeout)\u001B[0m\n\u001B[1;32m    764\u001B[0m \u001B[38;5;28;01mdef\u001B[39;00m \u001B[38;5;21mwait\u001B[39m(\u001B[38;5;28mself\u001B[39m, timeout\u001B[38;5;241m=\u001B[39m\u001B[38;5;28;01mNone\u001B[39;00m):\n\u001B[0;32m--> 765\u001B[0m     \u001B[38;5;28;43mself\u001B[39;49m\u001B[38;5;241;43m.\u001B[39;49m\u001B[43m_event\u001B[49m\u001B[38;5;241;43m.\u001B[39;49m\u001B[43mwait\u001B[49m\u001B[43m(\u001B[49m\u001B[43mtimeout\u001B[49m\u001B[43m)\u001B[49m\n",
      "File \u001B[0;32m/opt/anaconda3/envs/COMS30035_labs/lib/python3.11/threading.py:622\u001B[0m, in \u001B[0;36mEvent.wait\u001B[0;34m(self, timeout)\u001B[0m\n\u001B[1;32m    620\u001B[0m signaled \u001B[38;5;241m=\u001B[39m \u001B[38;5;28mself\u001B[39m\u001B[38;5;241m.\u001B[39m_flag\n\u001B[1;32m    621\u001B[0m \u001B[38;5;28;01mif\u001B[39;00m \u001B[38;5;129;01mnot\u001B[39;00m signaled:\n\u001B[0;32m--> 622\u001B[0m     signaled \u001B[38;5;241m=\u001B[39m \u001B[38;5;28;43mself\u001B[39;49m\u001B[38;5;241;43m.\u001B[39;49m\u001B[43m_cond\u001B[49m\u001B[38;5;241;43m.\u001B[39;49m\u001B[43mwait\u001B[49m\u001B[43m(\u001B[49m\u001B[43mtimeout\u001B[49m\u001B[43m)\u001B[49m\n\u001B[1;32m    623\u001B[0m \u001B[38;5;28;01mreturn\u001B[39;00m signaled\n",
      "File \u001B[0;32m/opt/anaconda3/envs/COMS30035_labs/lib/python3.11/threading.py:320\u001B[0m, in \u001B[0;36mCondition.wait\u001B[0;34m(self, timeout)\u001B[0m\n\u001B[1;32m    318\u001B[0m \u001B[38;5;28;01mtry\u001B[39;00m:    \u001B[38;5;66;03m# restore state no matter what (e.g., KeyboardInterrupt)\u001B[39;00m\n\u001B[1;32m    319\u001B[0m     \u001B[38;5;28;01mif\u001B[39;00m timeout \u001B[38;5;129;01mis\u001B[39;00m \u001B[38;5;28;01mNone\u001B[39;00m:\n\u001B[0;32m--> 320\u001B[0m         \u001B[43mwaiter\u001B[49m\u001B[38;5;241;43m.\u001B[39;49m\u001B[43macquire\u001B[49m\u001B[43m(\u001B[49m\u001B[43m)\u001B[49m\n\u001B[1;32m    321\u001B[0m         gotit \u001B[38;5;241m=\u001B[39m \u001B[38;5;28;01mTrue\u001B[39;00m\n\u001B[1;32m    322\u001B[0m     \u001B[38;5;28;01melse\u001B[39;00m:\n",
      "\u001B[0;31mKeyboardInterrupt\u001B[0m: "
     ]
    }
   ],
   "source": [
    "# 1. df_dry_filtered lapTime\n",
    "\n",
    "from sklearn.metrics import mean_squared_error\n",
    "from sklearn.ensemble import RandomForestRegressor\n",
    "from sklearn.model_selection import train_test_split\n",
    "import numpy as np\n",
    "import pandas as pd\n",
    "from sklearn.model_selection import train_test_split, KFold, GridSearchCV\n",
    "from sklearn.metrics import make_scorer, mean_squared_error, mean_absolute_error, r2_score\n",
    "from sklearn.preprocessing import RobustScaler\n",
    "from xgboost import XGBRegressor\n",
    "\n",
    "X = df_dry_filtered.drop(['LapTime'], axis=1)\n",
    "y = df_dry_filtered['LapTime']\n",
    "\n",
    "# Split Train and test set for a model\n",
    "X_train, X_test, y_train, y_test = train_test_split(X, y, test_size=0.2, random_state=42)\n",
    "\n",
    "#Fitting a RandomForest model\n",
    "model = RandomForestRegressor(n_estimators=100,max_depth=20,min_samples_split=5,random_state=42,n_jobs=-1)\n",
    "# Best Parameters: {'max_depth': 20, 'min_samples_split': 5, 'n_estimators': 300}\n",
    "\n",
    "model.fit(X_train, y_train)\n",
    "\n",
    "# Print RMSE value of the model\n",
    "predictions = model.predict(X_test)\n",
    "mse = mean_squared_error(y_test, predictions)\n",
    "rmse = mse ** 0.5\n",
    "print(f\"RMSE: {rmse}\")\n",
    "\n",
    "\n"
   ],
   "metadata": {
    "collapsed": false,
    "ExecuteTime": {
     "end_time": "2024-04-16T10:36:26.812902Z",
     "start_time": "2024-04-16T10:36:25.294986Z"
    }
   },
   "id": "d880a31aa5c6ebd0",
   "execution_count": 14
  },
  {
   "cell_type": "code",
   "outputs": [],
   "source": [
    "# Initialize KFold cross-validation\n",
    "kf = KFold(n_splits=5, shuffle=True, random_state=42)\n",
    "\n",
    "# Define the model\n",
    "model = RandomForestRegressor(random_state=42)\n",
    "\n",
    "# Set up the hyperparameters to test in GridSearchCV\n",
    "param_grid = {\n",
    "    'n_estimators': [100, 300, 500],\n",
    "    'max_depth': [3, 5, 7]\n",
    "}\n",
    "\n",
    "# Custom scorer for RMSE\n",
    "neg_rmse_scorer = make_scorer(mean_squared_error, greater_is_better=False, squared=False)\n",
    "\n",
    "# Setup GridSearchCV with multiple scoring metrics\n",
    "grid_search = GridSearchCV(estimator=model, param_grid=param_grid, cv=kf,\n",
    "                           scoring={'RMSE': neg_rmse_scorer, 'MAE': 'neg_mean_absolute_error', 'R2': 'r2'},\n",
    "                           refit='RMSE', n_jobs=-1)\n",
    "grid_search.fit(X, y)  # Make sure to fit on scaled X to maintain consistency\n",
    "\n",
    "# Get the best model and print results\n",
    "best_model = grid_search.best_estimator_\n",
    "best_params = grid_search.best_params_\n",
    "best_rmse = -grid_search.cv_results_['mean_test_RMSE'][grid_search.best_index_]\n",
    "best_mae = -grid_search.cv_results_['mean_test_MAE'][grid_search.best_index_]\n",
    "best_r2 = grid_search.cv_results_['mean_test_R2'][grid_search.best_index_]\n",
    "\n",
    "print(\"Best model parameters:\", best_params)\n",
    "print(f\"Best CV RMSE: {best_rmse:.3f}\")\n",
    "print(f\"Best CV MAE: {best_mae:.3f}\")\n",
    "print(f\"Best CV R²: {best_r2:.3f}\")\n"
   ],
   "metadata": {
    "collapsed": false,
    "ExecuteTime": {
     "end_time": "2024-04-16T10:36:26.815772Z",
     "start_time": "2024-04-16T10:36:26.815687Z"
    }
   },
   "id": "830dc73f1e79848a",
   "execution_count": null
  },
  {
   "cell_type": "code",
   "outputs": [],
   "source": [],
   "metadata": {
    "collapsed": false
   },
   "id": "ec7a87d1d40bf596"
  }
 ],
 "metadata": {
  "kernelspec": {
   "display_name": "Python 3",
   "language": "python",
   "name": "python3"
  },
  "language_info": {
   "codemirror_mode": {
    "name": "ipython",
    "version": 2
   },
   "file_extension": ".py",
   "mimetype": "text/x-python",
   "name": "python",
   "nbconvert_exporter": "python",
   "pygments_lexer": "ipython2",
   "version": "2.7.6"
  }
 },
 "nbformat": 4,
 "nbformat_minor": 5
}
