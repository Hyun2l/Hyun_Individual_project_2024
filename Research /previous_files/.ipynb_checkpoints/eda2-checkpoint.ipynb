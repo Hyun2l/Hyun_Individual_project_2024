{
 "cells": [
  {
   "cell_type": "code",
   "execution_count": 1,
   "id": "initial_id",
   "metadata": {
    "collapsed": true,
    "ExecuteTime": {
     "end_time": "2024-03-05T20:15:35.364421Z",
     "start_time": "2024-03-05T20:15:35.361904Z"
    }
   },
   "outputs": [],
   "source": [
    "import pandas as pd\n",
    "import matplotlib.pyplot as plt\n",
    "import seaborn as sns\n",
    "import numpy as np"
   ]
  },
  {
   "cell_type": "code",
   "outputs": [
    {
     "data": {
      "text/plain": "(23677, 41)"
     },
     "execution_count": 3,
     "metadata": {},
     "output_type": "execute_result"
    }
   ],
   "source": [
    "\n",
    "df = pd.read_csv('f1_2019_combined_data.csv'  )\n",
    "df.shape"
   ],
   "metadata": {
    "collapsed": false,
    "ExecuteTime": {
     "end_time": "2024-03-05T20:15:45.790804Z",
     "start_time": "2024-03-05T20:15:45.672244Z"
    }
   },
   "id": "a4b83058586f839e",
   "execution_count": 3
  },
  {
   "cell_type": "code",
   "outputs": [
    {
     "data": {
      "text/plain": "18941"
     },
     "execution_count": 4,
     "metadata": {},
     "output_type": "execute_result"
    }
   ],
   "source": [
    "split_count = int(df.shape[0] * 0.8)\n",
    "split_count"
   ],
   "metadata": {
    "collapsed": false,
    "ExecuteTime": {
     "end_time": "2024-03-05T20:15:48.846784Z",
     "start_time": "2024-03-05T20:15:48.842307Z"
    }
   },
   "id": "fb53faf6858384f2",
   "execution_count": 4
  },
  {
   "cell_type": "code",
   "outputs": [],
   "source": [
    "train = df[:split_count].copy()\n",
    "train.shape"
   ],
   "metadata": {
    "collapsed": false
   },
   "id": "67499fbe3e9312b8",
   "execution_count": 21
  },
  {
   "cell_type": "code",
   "outputs": [],
   "source": [
    "test = df[split_count:].copy()\n",
    "test.shape"
   ],
   "metadata": {
    "collapsed": false
   },
   "id": "342bd460ff4bae9f",
   "execution_count": 22
  },
  {
   "cell_type": "code",
   "outputs": [
    {
     "data": {
      "text/plain": "['Time',\n 'Driver',\n 'DriverNumber',\n 'LapNumber',\n 'Stint',\n 'Sector1Time',\n 'Sector2Time',\n 'Sector3Time',\n 'Sector1SessionTime',\n 'Sector2SessionTime',\n 'Sector3SessionTime',\n 'SpeedI1',\n 'SpeedI2',\n 'SpeedFL',\n 'SpeedST',\n 'Compound',\n 'TyreLife',\n 'FreshTyre',\n 'LapStartTime',\n 'LapStartDate',\n 'TrackStatus',\n 'Position',\n 'AirTemp',\n 'Humidity',\n 'Pressure',\n 'Rainfall',\n 'TrackTemp',\n 'WindDirection',\n 'WindSpeed']"
     },
     "execution_count": 6,
     "metadata": {},
     "output_type": "execute_result"
    }
   ],
   "source": [
    "feature_names = train.columns[1:].tolist()\n",
    "feature_names"
   ],
   "metadata": {
    "collapsed": false,
    "ExecuteTime": {
     "end_time": "2024-03-05T14:48:56.043029Z",
     "start_time": "2024-03-05T14:48:56.040824Z"
    }
   },
   "id": "cabad855c65e481e",
   "execution_count": 6
  },
  {
   "cell_type": "code",
   "outputs": [
    {
     "data": {
      "text/plain": "'LapTime'"
     },
     "execution_count": 7,
     "metadata": {},
     "output_type": "execute_result"
    }
   ],
   "source": [
    "label_name = train.columns[0]\n",
    "label_name"
   ],
   "metadata": {
    "collapsed": false,
    "ExecuteTime": {
     "end_time": "2024-03-05T14:48:56.045879Z",
     "start_time": "2024-03-05T14:48:56.043509Z"
    }
   },
   "id": "89cd90c5d4b82d23",
   "execution_count": 7
  },
  {
   "cell_type": "code",
   "outputs": [],
   "source": [],
   "metadata": {
    "collapsed": false,
    "ExecuteTime": {
     "end_time": "2024-03-05T14:48:56.047680Z",
     "start_time": "2024-03-05T14:48:56.046438Z"
    }
   },
   "id": "c5a7f4e6a469efff",
   "execution_count": 7
  },
  {
   "cell_type": "code",
   "outputs": [
    {
     "name": "stdout",
     "output_type": "stream",
     "text": [
      "(44, 29)\n"
     ]
    },
    {
     "data": {
      "text/plain": "                     Time Driver  DriverNumber  LapNumber  Stint  \\\n0  0 days 00:33:46.427000    HAM            44        1.0    1.0   \n1  0 days 00:35:46.402000    HAM            44        2.0    1.0   \n2  0 days 00:37:46.394000    HAM            44        3.0    1.0   \n3  0 days 00:38:46.395000    HAM            44        4.0    1.0   \n4  0 days 00:40:46.408000    HAM            44        5.0    1.0   \n\n              Sector1Time             Sector2Time             Sector3Time  \\\n0                     NaN  0 days 00:00:43.430000  0 days 00:00:40.714000   \n1  0 days 00:00:18.140000  0 days 00:00:43.937000  0 days 00:00:40.663000   \n2  0 days 00:00:18.213000  0 days 00:00:43.681000  0 days 00:00:40.609000   \n3  0 days 00:00:18.293000  0 days 00:00:43.899000  0 days 00:00:40.724000   \n4  0 days 00:00:18.129000  0 days 00:00:43.867000  0 days 00:00:41.134000   \n\n       Sector1SessionTime      Sector2SessionTime  ...  \\\n0                     NaN  0 days 00:34:35.110000  ...   \n1  0 days 00:35:33.904000  0 days 00:36:17.841000  ...   \n2  0 days 00:37:16.717000  0 days 00:38:00.398000  ...   \n3  0 days 00:38:59.300000  0 days 00:39:43.199000  ...   \n4  0 days 00:40:42.052000  0 days 00:41:25.919000  ...   \n\n              LapStartDate  TrackStatus  Position  AirTemp  Humidity Pressure  \\\n0  2019-12-01 13:13:31.397            2       1.0     26.4      60.4   1015.2   \n1  2019-12-01 13:15:15.967            1       1.0     26.4      59.9   1015.0   \n2  2019-12-01 13:16:58.707            1       1.0     26.4      60.7   1015.0   \n3  2019-12-01 13:18:41.210            1       1.0     26.4      60.7   1015.0   \n4  2019-12-01 13:20:24.126            1       1.0     26.5      61.8   1015.0   \n\n   Rainfall  TrackTemp WindDirection WindSpeed  \n0     False       30.7           218       1.4  \n1     False       30.5           185       1.5  \n2     False       30.6           235       1.9  \n3     False       30.3           156       1.5  \n4     False       30.3            94       0.9  \n\n[5 rows x 29 columns]",
      "text/html": "<div>\n<style scoped>\n    .dataframe tbody tr th:only-of-type {\n        vertical-align: middle;\n    }\n\n    .dataframe tbody tr th {\n        vertical-align: top;\n    }\n\n    .dataframe thead th {\n        text-align: right;\n    }\n</style>\n<table border=\"1\" class=\"dataframe\">\n  <thead>\n    <tr style=\"text-align: right;\">\n      <th></th>\n      <th>Time</th>\n      <th>Driver</th>\n      <th>DriverNumber</th>\n      <th>LapNumber</th>\n      <th>Stint</th>\n      <th>Sector1Time</th>\n      <th>Sector2Time</th>\n      <th>Sector3Time</th>\n      <th>Sector1SessionTime</th>\n      <th>Sector2SessionTime</th>\n      <th>...</th>\n      <th>LapStartDate</th>\n      <th>TrackStatus</th>\n      <th>Position</th>\n      <th>AirTemp</th>\n      <th>Humidity</th>\n      <th>Pressure</th>\n      <th>Rainfall</th>\n      <th>TrackTemp</th>\n      <th>WindDirection</th>\n      <th>WindSpeed</th>\n    </tr>\n  </thead>\n  <tbody>\n    <tr>\n      <th>0</th>\n      <td>0 days 00:33:46.427000</td>\n      <td>HAM</td>\n      <td>44</td>\n      <td>1.0</td>\n      <td>1.0</td>\n      <td>NaN</td>\n      <td>0 days 00:00:43.430000</td>\n      <td>0 days 00:00:40.714000</td>\n      <td>NaN</td>\n      <td>0 days 00:34:35.110000</td>\n      <td>...</td>\n      <td>2019-12-01 13:13:31.397</td>\n      <td>2</td>\n      <td>1.0</td>\n      <td>26.4</td>\n      <td>60.4</td>\n      <td>1015.2</td>\n      <td>False</td>\n      <td>30.7</td>\n      <td>218</td>\n      <td>1.4</td>\n    </tr>\n    <tr>\n      <th>1</th>\n      <td>0 days 00:35:46.402000</td>\n      <td>HAM</td>\n      <td>44</td>\n      <td>2.0</td>\n      <td>1.0</td>\n      <td>0 days 00:00:18.140000</td>\n      <td>0 days 00:00:43.937000</td>\n      <td>0 days 00:00:40.663000</td>\n      <td>0 days 00:35:33.904000</td>\n      <td>0 days 00:36:17.841000</td>\n      <td>...</td>\n      <td>2019-12-01 13:15:15.967</td>\n      <td>1</td>\n      <td>1.0</td>\n      <td>26.4</td>\n      <td>59.9</td>\n      <td>1015.0</td>\n      <td>False</td>\n      <td>30.5</td>\n      <td>185</td>\n      <td>1.5</td>\n    </tr>\n    <tr>\n      <th>2</th>\n      <td>0 days 00:37:46.394000</td>\n      <td>HAM</td>\n      <td>44</td>\n      <td>3.0</td>\n      <td>1.0</td>\n      <td>0 days 00:00:18.213000</td>\n      <td>0 days 00:00:43.681000</td>\n      <td>0 days 00:00:40.609000</td>\n      <td>0 days 00:37:16.717000</td>\n      <td>0 days 00:38:00.398000</td>\n      <td>...</td>\n      <td>2019-12-01 13:16:58.707</td>\n      <td>1</td>\n      <td>1.0</td>\n      <td>26.4</td>\n      <td>60.7</td>\n      <td>1015.0</td>\n      <td>False</td>\n      <td>30.6</td>\n      <td>235</td>\n      <td>1.9</td>\n    </tr>\n    <tr>\n      <th>3</th>\n      <td>0 days 00:38:46.395000</td>\n      <td>HAM</td>\n      <td>44</td>\n      <td>4.0</td>\n      <td>1.0</td>\n      <td>0 days 00:00:18.293000</td>\n      <td>0 days 00:00:43.899000</td>\n      <td>0 days 00:00:40.724000</td>\n      <td>0 days 00:38:59.300000</td>\n      <td>0 days 00:39:43.199000</td>\n      <td>...</td>\n      <td>2019-12-01 13:18:41.210</td>\n      <td>1</td>\n      <td>1.0</td>\n      <td>26.4</td>\n      <td>60.7</td>\n      <td>1015.0</td>\n      <td>False</td>\n      <td>30.3</td>\n      <td>156</td>\n      <td>1.5</td>\n    </tr>\n    <tr>\n      <th>4</th>\n      <td>0 days 00:40:46.408000</td>\n      <td>HAM</td>\n      <td>44</td>\n      <td>5.0</td>\n      <td>1.0</td>\n      <td>0 days 00:00:18.129000</td>\n      <td>0 days 00:00:43.867000</td>\n      <td>0 days 00:00:41.134000</td>\n      <td>0 days 00:40:42.052000</td>\n      <td>0 days 00:41:25.919000</td>\n      <td>...</td>\n      <td>2019-12-01 13:20:24.126</td>\n      <td>1</td>\n      <td>1.0</td>\n      <td>26.5</td>\n      <td>61.8</td>\n      <td>1015.0</td>\n      <td>False</td>\n      <td>30.3</td>\n      <td>94</td>\n      <td>0.9</td>\n    </tr>\n  </tbody>\n</table>\n<p>5 rows × 29 columns</p>\n</div>"
     },
     "execution_count": 8,
     "metadata": {},
     "output_type": "execute_result"
    }
   ],
   "source": [
    "X_train = train[feature_names]\n",
    "print(X_train.shape)\n",
    "X_train.head()"
   ],
   "metadata": {
    "collapsed": false,
    "ExecuteTime": {
     "end_time": "2024-03-05T14:48:56.057951Z",
     "start_time": "2024-03-05T14:48:56.048235Z"
    }
   },
   "id": "212bed8d1aa12828",
   "execution_count": 8
  },
  {
   "cell_type": "code",
   "outputs": [
    {
     "name": "stdout",
     "output_type": "stream",
     "text": [
      "(44,)\n"
     ]
    },
    {
     "data": {
      "text/plain": "0    0 days 00:01:44.369000\n1    0 days 00:01:42.740000\n2    0 days 00:01:42.503000\n3    0 days 00:01:42.916000\n4    0 days 00:01:43.130000\nName: LapTime, dtype: object"
     },
     "execution_count": 9,
     "metadata": {},
     "output_type": "execute_result"
    }
   ],
   "source": [
    "y_train = train[label_name]\n",
    "print(y_train.shape)\n",
    "y_train.head()"
   ],
   "metadata": {
    "collapsed": false,
    "ExecuteTime": {
     "end_time": "2024-03-05T14:48:56.063128Z",
     "start_time": "2024-03-05T14:48:56.060259Z"
    }
   },
   "id": "37502acdf32ffc09",
   "execution_count": 9
  },
  {
   "cell_type": "code",
   "outputs": [
    {
     "name": "stdout",
     "output_type": "stream",
     "text": [
      "(11,)\n"
     ]
    },
    {
     "data": {
      "text/plain": "44    0 days 00:01:40.008000\n45    0 days 00:01:41.653000\n46    0 days 00:01:41.525000\n47    0 days 00:01:41.507000\n48    0 days 00:01:41.548000\nName: LapTime, dtype: object"
     },
     "execution_count": 10,
     "metadata": {},
     "output_type": "execute_result"
    }
   ],
   "source": [
    "y_test = test[label_name]\n",
    "print(y_test.shape)\n",
    "y_test.head()"
   ],
   "metadata": {
    "collapsed": false,
    "ExecuteTime": {
     "end_time": "2024-03-05T14:48:56.066309Z",
     "start_time": "2024-03-05T14:48:56.063855Z"
    }
   },
   "id": "c5409eebd0c9c4dc",
   "execution_count": 10
  },
  {
   "cell_type": "code",
   "outputs": [
    {
     "data": {
      "text/plain": "DecisionTreeClassifier()",
      "text/html": "<style>#sk-container-id-1 {color: black;background-color: white;}#sk-container-id-1 pre{padding: 0;}#sk-container-id-1 div.sk-toggleable {background-color: white;}#sk-container-id-1 label.sk-toggleable__label {cursor: pointer;display: block;width: 100%;margin-bottom: 0;padding: 0.3em;box-sizing: border-box;text-align: center;}#sk-container-id-1 label.sk-toggleable__label-arrow:before {content: \"▸\";float: left;margin-right: 0.25em;color: #696969;}#sk-container-id-1 label.sk-toggleable__label-arrow:hover:before {color: black;}#sk-container-id-1 div.sk-estimator:hover label.sk-toggleable__label-arrow:before {color: black;}#sk-container-id-1 div.sk-toggleable__content {max-height: 0;max-width: 0;overflow: hidden;text-align: left;background-color: #f0f8ff;}#sk-container-id-1 div.sk-toggleable__content pre {margin: 0.2em;color: black;border-radius: 0.25em;background-color: #f0f8ff;}#sk-container-id-1 input.sk-toggleable__control:checked~div.sk-toggleable__content {max-height: 200px;max-width: 100%;overflow: auto;}#sk-container-id-1 input.sk-toggleable__control:checked~label.sk-toggleable__label-arrow:before {content: \"▾\";}#sk-container-id-1 div.sk-estimator input.sk-toggleable__control:checked~label.sk-toggleable__label {background-color: #d4ebff;}#sk-container-id-1 div.sk-label input.sk-toggleable__control:checked~label.sk-toggleable__label {background-color: #d4ebff;}#sk-container-id-1 input.sk-hidden--visually {border: 0;clip: rect(1px 1px 1px 1px);clip: rect(1px, 1px, 1px, 1px);height: 1px;margin: -1px;overflow: hidden;padding: 0;position: absolute;width: 1px;}#sk-container-id-1 div.sk-estimator {font-family: monospace;background-color: #f0f8ff;border: 1px dotted black;border-radius: 0.25em;box-sizing: border-box;margin-bottom: 0.5em;}#sk-container-id-1 div.sk-estimator:hover {background-color: #d4ebff;}#sk-container-id-1 div.sk-parallel-item::after {content: \"\";width: 100%;border-bottom: 1px solid gray;flex-grow: 1;}#sk-container-id-1 div.sk-label:hover label.sk-toggleable__label {background-color: #d4ebff;}#sk-container-id-1 div.sk-serial::before {content: \"\";position: absolute;border-left: 1px solid gray;box-sizing: border-box;top: 0;bottom: 0;left: 50%;z-index: 0;}#sk-container-id-1 div.sk-serial {display: flex;flex-direction: column;align-items: center;background-color: white;padding-right: 0.2em;padding-left: 0.2em;position: relative;}#sk-container-id-1 div.sk-item {position: relative;z-index: 1;}#sk-container-id-1 div.sk-parallel {display: flex;align-items: stretch;justify-content: center;background-color: white;position: relative;}#sk-container-id-1 div.sk-item::before, #sk-container-id-1 div.sk-parallel-item::before {content: \"\";position: absolute;border-left: 1px solid gray;box-sizing: border-box;top: 0;bottom: 0;left: 50%;z-index: -1;}#sk-container-id-1 div.sk-parallel-item {display: flex;flex-direction: column;z-index: 1;position: relative;background-color: white;}#sk-container-id-1 div.sk-parallel-item:first-child::after {align-self: flex-end;width: 50%;}#sk-container-id-1 div.sk-parallel-item:last-child::after {align-self: flex-start;width: 50%;}#sk-container-id-1 div.sk-parallel-item:only-child::after {width: 0;}#sk-container-id-1 div.sk-dashed-wrapped {border: 1px dashed gray;margin: 0 0.4em 0.5em 0.4em;box-sizing: border-box;padding-bottom: 0.4em;background-color: white;}#sk-container-id-1 div.sk-label label {font-family: monospace;font-weight: bold;display: inline-block;line-height: 1.2em;}#sk-container-id-1 div.sk-label-container {text-align: center;}#sk-container-id-1 div.sk-container {/* jupyter's `normalize.less` sets `[hidden] { display: none; }` but bootstrap.min.css set `[hidden] { display: none !important; }` so we also need the `!important` here to be able to override the default hidden behavior on the sphinx rendered scikit-learn.org. See: https://github.com/scikit-learn/scikit-learn/issues/21755 */display: inline-block !important;position: relative;}#sk-container-id-1 div.sk-text-repr-fallback {display: none;}</style><div id=\"sk-container-id-1\" class=\"sk-top-container\"><div class=\"sk-text-repr-fallback\"><pre>DecisionTreeClassifier()</pre><b>In a Jupyter environment, please rerun this cell to show the HTML representation or trust the notebook. <br />On GitHub, the HTML representation is unable to render, please try loading this page with nbviewer.org.</b></div><div class=\"sk-container\" hidden><div class=\"sk-item\"><div class=\"sk-estimator sk-toggleable\"><input class=\"sk-toggleable__control sk-hidden--visually\" id=\"sk-estimator-id-1\" type=\"checkbox\" checked><label for=\"sk-estimator-id-1\" class=\"sk-toggleable__label sk-toggleable__label-arrow\">DecisionTreeClassifier</label><div class=\"sk-toggleable__content\"><pre>DecisionTreeClassifier()</pre></div></div></div></div></div>"
     },
     "execution_count": 11,
     "metadata": {},
     "output_type": "execute_result"
    }
   ],
   "source": [],
   "metadata": {
    "collapsed": false,
    "ExecuteTime": {
     "end_time": "2024-03-05T14:48:56.261838Z",
     "start_time": "2024-03-05T14:48:56.067106Z"
    }
   },
   "id": "2839c36b2f7ca980",
   "execution_count": 11
  },
  {
   "cell_type": "code",
   "outputs": [],
   "source": [],
   "metadata": {
    "collapsed": false
   },
   "id": "c58078b626c5b167",
   "execution_count": 14
  },
  {
   "cell_type": "code",
   "outputs": [],
   "source": [],
   "metadata": {
    "collapsed": false
   },
   "id": "26b549b5fed557b9",
   "execution_count": 17
  },
  {
   "cell_type": "code",
   "outputs": [],
   "source": [],
   "metadata": {
    "collapsed": false
   },
   "id": "143a4242cfccd0b5"
  }
 ],
 "metadata": {
  "kernelspec": {
   "display_name": "Python 3",
   "language": "python",
   "name": "python3"
  },
  "language_info": {
   "codemirror_mode": {
    "name": "ipython",
    "version": 2
   },
   "file_extension": ".py",
   "mimetype": "text/x-python",
   "name": "python",
   "nbconvert_exporter": "python",
   "pygments_lexer": "ipython2",
   "version": "2.7.6"
  }
 },
 "nbformat": 4,
 "nbformat_minor": 5
}
