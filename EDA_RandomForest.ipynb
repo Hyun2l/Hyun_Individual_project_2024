{
 "cells": [
  {
   "cell_type": "code",
   "execution_count": 205,
   "id": "initial_id",
   "metadata": {
    "ExecuteTime": {
     "end_time": "2024-04-02T16:03:40.960641Z",
     "start_time": "2024-04-02T16:03:39.543380Z"
    }
   },
   "outputs": [
    {
     "name": "stdout",
     "output_type": "stream",
     "text": [
      "<class 'pandas.core.frame.DataFrame'>\n",
      "Int64Index: 79034 entries, 0 to 82417\n",
      "Data columns (total 121 columns):\n",
      " #    Column                               Dtype  \n",
      "---   ------                               -----  \n",
      " 0    DriverNumber                         int64  \n",
      " 1    LapNumber                            float64\n",
      " 2    Stint                                float64\n",
      " 3    SpeedI1                              float64\n",
      " 4    SpeedI2                              float64\n",
      " 5    SpeedFL                              float64\n",
      " 6    SpeedST                              float64\n",
      " 7    IsPersonalBest                       int64  \n",
      " 8    TyreLife                             float64\n",
      " 9    FreshTyre                            int64  \n",
      " 10   Position                             float64\n",
      " 11   IsAccurate                           int64  \n",
      " 12   AirTemp                              float64\n",
      " 13   Humidity                             float64\n",
      " 14   Pressure                             float64\n",
      " 15   Rainfall                             int64  \n",
      " 16   TrackTemp                            float64\n",
      " 17   WindDirection                        int64  \n",
      " 18   WindSpeed                            float64\n",
      " 19   Year                                 int64  \n",
      " 20   Driver_AIT                           uint8  \n",
      " 21   Driver_ALB                           uint8  \n",
      " 22   Driver_ALO                           uint8  \n",
      " 23   Driver_BOT                           uint8  \n",
      " 24   Driver_DEV                           uint8  \n",
      " 25   Driver_FIT                           uint8  \n",
      " 26   Driver_GAS                           uint8  \n",
      " 27   Driver_GIO                           uint8  \n",
      " 28   Driver_GRO                           uint8  \n",
      " 29   Driver_HAM                           uint8  \n",
      " 30   Driver_HUL                           uint8  \n",
      " 31   Driver_KUB                           uint8  \n",
      " 32   Driver_KVY                           uint8  \n",
      " 33   Driver_LAT                           uint8  \n",
      " 34   Driver_LEC                           uint8  \n",
      " 35   Driver_MAG                           uint8  \n",
      " 36   Driver_MAZ                           uint8  \n",
      " 37   Driver_MSC                           uint8  \n",
      " 38   Driver_NOR                           uint8  \n",
      " 39   Driver_OCO                           uint8  \n",
      " 40   Driver_PER                           uint8  \n",
      " 41   Driver_RAI                           uint8  \n",
      " 42   Driver_RIC                           uint8  \n",
      " 43   Driver_RUS                           uint8  \n",
      " 44   Driver_SAI                           uint8  \n",
      " 45   Driver_STR                           uint8  \n",
      " 46   Driver_TSU                           uint8  \n",
      " 47   Driver_VER                           uint8  \n",
      " 48   Driver_VET                           uint8  \n",
      " 49   Driver_ZHO                           uint8  \n",
      " 50   Circuit_70th Anniversary Grand Prix  uint8  \n",
      " 51   Circuit_Abu Dhabi Grand Prix         uint8  \n",
      " 52   Circuit_Australian Grand Prix        uint8  \n",
      " 53   Circuit_Austrian Grand Prix          uint8  \n",
      " 54   Circuit_Azerbaijan Grand Prix        uint8  \n",
      " 55   Circuit_Bahrain Grand Prix           uint8  \n",
      " 56   Circuit_Belgian Grand Prix           uint8  \n",
      " 57   Circuit_Brazilian Grand Prix         uint8  \n",
      " 58   Circuit_British Grand Prix           uint8  \n",
      " 59   Circuit_Canadian Grand Prix          uint8  \n",
      " 60   Circuit_Chinese Grand Prix           uint8  \n",
      " 61   Circuit_Dutch Grand Prix             uint8  \n",
      " 62   Circuit_Eifel Grand Prix             uint8  \n",
      " 63   Circuit_Emilia Romagna Grand Prix    uint8  \n",
      " 64   Circuit_French Grand Prix            uint8  \n",
      " 65   Circuit_German Grand Prix            uint8  \n",
      " 66   Circuit_Hungarian Grand Prix         uint8  \n",
      " 67   Circuit_Italian Grand Prix           uint8  \n",
      " 68   Circuit_Japanese Grand Prix          uint8  \n",
      " 69   Circuit_Mexican Grand Prix           uint8  \n",
      " 70   Circuit_Mexico City Grand Prix       uint8  \n",
      " 71   Circuit_Miami Grand Prix             uint8  \n",
      " 72   Circuit_Monaco Grand Prix            uint8  \n",
      " 73   Circuit_Portuguese Grand Prix        uint8  \n",
      " 74   Circuit_Qatar Grand Prix             uint8  \n",
      " 75   Circuit_Russian Grand Prix           uint8  \n",
      " 76   Circuit_Sakhir Grand Prix            uint8  \n",
      " 77   Circuit_Saudi Arabian Grand Prix     uint8  \n",
      " 78   Circuit_Singapore Grand Prix         uint8  \n",
      " 79   Circuit_Spanish Grand Prix           uint8  \n",
      " 80   Circuit_Styrian Grand Prix           uint8  \n",
      " 81   Circuit_Turkish Grand Prix           uint8  \n",
      " 82   Circuit_Tuscan Grand Prix            uint8  \n",
      " 83   Circuit_United States Grand Prix     uint8  \n",
      " 84   Compound_HARD                        uint8  \n",
      " 85   Compound_INTERMEDIATE                uint8  \n",
      " 86   Compound_MEDIUM                      uint8  \n",
      " 87   Compound_SOFT                        uint8  \n",
      " 88   Compound_WET                         uint8  \n",
      " 89   Team_Alfa Romeo                      uint8  \n",
      " 90   Team_Alfa Romeo Racing               uint8  \n",
      " 91   Team_AlphaTauri                      uint8  \n",
      " 92   Team_Alpine                          uint8  \n",
      " 93   Team_Aston Martin                    uint8  \n",
      " 94   Team_Ferrari                         uint8  \n",
      " 95   Team_Haas F1 Team                    uint8  \n",
      " 96   Team_McLaren                         uint8  \n",
      " 97   Team_Mercedes                        uint8  \n",
      " 98   Team_Racing Point                    uint8  \n",
      " 99   Team_Red Bull Racing                 uint8  \n",
      " 100  Team_Renault                         uint8  \n",
      " 101  Team_Toro Rosso                      uint8  \n",
      " 102  Team_Williams                        uint8  \n",
      " 103  TrackStatus_1.0                      uint8  \n",
      " 104  TrackStatus_2.0                      uint8  \n",
      " 105  TrackStatus_4.0                      uint8  \n",
      " 106  TrackStatus_5.0                      uint8  \n",
      " 107  TrackStatus_6.0                      uint8  \n",
      " 108  TrackStatus_7.0                      uint8  \n",
      " 109  TrackStatus_24.0                     uint8  \n",
      " 110  TrackStatus_26.0                     uint8  \n",
      " 111  TrackStatus_42.0                     uint8  \n",
      " 112  TrackStatus_45.0                     uint8  \n",
      " 113  TrackStatus_64.0                     uint8  \n",
      " 114  TrackStatus_67.0                     uint8  \n",
      " 115  TrackStatus_72.0                     uint8  \n",
      " 116  TrackStatus_264.0                    uint8  \n",
      " 117  TrackStatus_267.0                    uint8  \n",
      " 118  TrackStatus_672.0                    uint8  \n",
      " 119  TrackStatus_724.0                    uint8  \n",
      " 120  TrackStatus_6724.0                   uint8  \n",
      "dtypes: float64(13), int64(7), uint8(101)\n",
      "memory usage: 20.3 MB\n",
      "None\n"
     ]
    }
   ],
   "source": [
    "import pandas as pd\n",
    "import matplotlib.pyplot as plt\n",
    "import seaborn as sns\n",
    "import numpy as np\n",
    "\n",
    "df = pd.read_csv('f1_2019_to_2022_all_drivers_all_data.csv',low_memory=False) # it's for 2019 to 2022 <- Train \n",
    "\n",
    "#Change to numerical values\n",
    "df['LapTime'] = pd.to_timedelta(df['LapTime']).dt.total_seconds()\n",
    "\n",
    "\n",
    "columns_to_check = ['Position', 'IsPersonalBest', 'TrackStatus']\n",
    "df = df.dropna(subset=columns_to_check)\n",
    "\n",
    "\n",
    "# Change strings to integer\n",
    "df['Sector1Time'] = pd.to_timedelta(df['Sector1Time']).dt.total_seconds()\n",
    "df['Sector2Time'] = pd.to_timedelta(df['Sector2Time']).dt.total_seconds()\n",
    "df['Sector3Time'] = pd.to_timedelta(df['Sector3Time']).dt.total_seconds()\n",
    "\n",
    "\n",
    "df['Rainfall'] = df['Rainfall'].astype(int) # Encode Rainfall To integer\n",
    "df['FreshTyre'] = df['FreshTyre'].astype(int) # Encode FreshTyre To integer\n",
    "df['IsAccurate'] = df['IsAccurate'].astype(int)\n",
    "df[\"IsPersonalBest\"] = df['IsPersonalBest'].astype(int)\n",
    "\n",
    "\n",
    "\n",
    "#Drop non-related features \n",
    "columns_to_drop = [\n",
    "    'Time', 'LapStartTime',\n",
    "    'Sector1SessionTime', 'Sector2SessionTime', 'Sector3SessionTime',\n",
    "    'PitOutTime', 'PitInTime',\n",
    "    'LapStartDate', 'Deleted', 'DeletedReason',\n",
    "    'FastF1Generated','Sector1Time','Sector2Time','Sector3Time'\n",
    "]\n",
    "df = df.drop(columns=columns_to_drop)\n",
    "\n",
    "\n",
    "# TO use imputation method\n",
    "#df['Original_Driver'] = df['Driver']\n",
    "#df['Original_Circuit'] = df['Circuit']\n",
    "\n",
    "\n",
    "Q1 = df['LapTime'].quantile(0.25)\n",
    "Q3 = df['LapTime'].quantile(0.75)\n",
    "IQR = Q3 - Q1\n",
    "\n",
    "# Determine bounds for outliers\n",
    "lower_bound = Q1 - 1.5 * IQR\n",
    "upper_bound = Q3 + 1.5 * IQR\n",
    "\n",
    "# Identify outliers\n",
    "outliers = df[(df['LapTime'] < lower_bound) | (df['LapTime'] > upper_bound)]\n",
    "\n",
    "#  Remove outliers from the DataFrame\n",
    "\n",
    "df = df[(df['LapTime'] >= lower_bound) & (df['LapTime'] <= upper_bound)]\n",
    "\n",
    "\n",
    "#One hot encoding\n",
    "df = pd.get_dummies(df, columns=['Driver', 'Circuit','Compound','Team','TrackStatus'])\n",
    "\n",
    "# In case of Standardization\n",
    "numeric_features = ['SpeedI1', 'SpeedI2', 'SpeedFL', 'SpeedST', 'AirTemp', 'Humidity', 'Pressure', 'TrackTemp', 'WindDirection', 'WindSpeed',]\n",
    "\n",
    "\n",
    "df = df.dropna(subset=['LapTime'])\n",
    "\n",
    "X = df.drop(['LapTime'], axis=1) # Exclude response variable ('LapTime') \n",
    "\n",
    "y = df['LapTime']\n",
    "\n",
    "\n",
    "print(X.info(verbose=True))"
   ]
  },
  {
   "cell_type": "code",
   "execution_count": 206,
   "id": "e7136b28dac82662",
   "metadata": {
    "collapsed": false,
    "ExecuteTime": {
     "end_time": "2024-04-02T16:03:40.973999Z",
     "start_time": "2024-04-02T16:03:40.961843Z"
    }
   },
   "outputs": [],
   "source": [
    "# It could be deleted if I use RandomForest\n",
    "from sklearn.preprocessing import StandardScaler\n",
    "from sklearn.decomposition import PCA\n",
    "scaler = StandardScaler()\n",
    "X[numeric_features] = scaler.fit_transform(X[numeric_features])\n"
   ]
  },
  {
   "cell_type": "code",
   "outputs": [
    {
     "data": {
      "text/plain": "\" means_sector1 = X.groupby(['Original_Driver', 'Original_Circuit'])['Sector1Time'].mean()\\n\\n# Map the means back to the original dataframe to fill missing values\\nX['Sector1Time'] = X.apply(lambda row: means_sector1[(row['Original_Driver'], row['Original_Circuit'])] if pd.isnull(row['Sector1Time']) else row['Sector1Time'], axis=1)\\n\\n#  for Sector2Time\\nmeans_sector2 = X.groupby(['Original_Driver', 'Original_Circuit'])['Sector2Time'].mean()\\n\\nX['Sector2Time'] = X.apply(lambda row: means_sector2[(row['Original_Driver'], row['Original_Circuit'])] if pd.isnull(row['Sector2Time']) else row['Sector2Time'], axis=1)\\n\\n#  for Sector3Time\\nmeans_sector3 = X.groupby(['Original_Driver', 'Original_Circuit'])['Sector3Time'].mean()\\nX['Sector3Time'] = X.apply(lambda row: means_sector3[(row['Original_Driver'], row['Original_Circuit'])] if pd.isnull(row['Sector3Time']) else row['Sector3Time'], axis=1)\\n\\n#  for SpeedI1\\nmeans_speedI1 = X.groupby(['Original_Driver', 'Original_Circuit'])['SpeedI1'].mean()\\nX['SpeedI1'] = X.apply(lambda row: means_speedI1[(row['Original_Driver'], row['Original_Circuit'])] if pd.isnull(row['SpeedI1']) else row['SpeedI1'], axis=1)\\n\\n\\nmeans_speedI2 = X.groupby(['Original_Driver', 'Original_Circuit'])['SpeedI2'].transform('mean')\\nX['SpeedI2'] = X['SpeedI2'].fillna(means_speedI2)\\n\\n#  for SpeedFL\\nmeans_speedFL = X.groupby(['Original_Driver', 'Original_Circuit'])['SpeedFL'].transform('mean')\\nX['SpeedFL'] = X['SpeedFL'].fillna(means_speedFL)\\n\\n#  for SpeedST\\nmeans_speedST = X.groupby(['Original_Driver', 'Original_Circuit'])['SpeedST'].transform('mean')\\nX['SpeedST'] = X['SpeedST'].fillna(means_speedST)\""
     },
     "execution_count": 207,
     "metadata": {},
     "output_type": "execute_result"
    }
   ],
   "source": [
    "\"\"\" means_sector1 = X.groupby(['Original_Driver', 'Original_Circuit'])['Sector1Time'].mean()\n",
    "\n",
    "# Map the means back to the original dataframe to fill missing values\n",
    "X['Sector1Time'] = X.apply(lambda row: means_sector1[(row['Original_Driver'], row['Original_Circuit'])] if pd.isnull(row['Sector1Time']) else row['Sector1Time'], axis=1)\n",
    "\n",
    "#  for Sector2Time\n",
    "means_sector2 = X.groupby(['Original_Driver', 'Original_Circuit'])['Sector2Time'].mean()\n",
    "\n",
    "X['Sector2Time'] = X.apply(lambda row: means_sector2[(row['Original_Driver'], row['Original_Circuit'])] if pd.isnull(row['Sector2Time']) else row['Sector2Time'], axis=1)\n",
    "\n",
    "#  for Sector3Time\n",
    "means_sector3 = X.groupby(['Original_Driver', 'Original_Circuit'])['Sector3Time'].mean()\n",
    "X['Sector3Time'] = X.apply(lambda row: means_sector3[(row['Original_Driver'], row['Original_Circuit'])] if pd.isnull(row['Sector3Time']) else row['Sector3Time'], axis=1)\n",
    "\n",
    "#  for SpeedI1\n",
    "means_speedI1 = X.groupby(['Original_Driver', 'Original_Circuit'])['SpeedI1'].mean()\n",
    "X['SpeedI1'] = X.apply(lambda row: means_speedI1[(row['Original_Driver'], row['Original_Circuit'])] if pd.isnull(row['SpeedI1']) else row['SpeedI1'], axis=1)\n",
    "\n",
    "\n",
    "means_speedI2 = X.groupby(['Original_Driver', 'Original_Circuit'])['SpeedI2'].transform('mean')\n",
    "X['SpeedI2'] = X['SpeedI2'].fillna(means_speedI2)\n",
    "\n",
    "#  for SpeedFL\n",
    "means_speedFL = X.groupby(['Original_Driver', 'Original_Circuit'])['SpeedFL'].transform('mean')\n",
    "X['SpeedFL'] = X['SpeedFL'].fillna(means_speedFL)\n",
    "\n",
    "#  for SpeedST\n",
    "means_speedST = X.groupby(['Original_Driver', 'Original_Circuit'])['SpeedST'].transform('mean')\n",
    "X['SpeedST'] = X['SpeedST'].fillna(means_speedST)\"\"\"\n"
   ],
   "metadata": {
    "collapsed": false,
    "ExecuteTime": {
     "end_time": "2024-04-02T16:03:40.977230Z",
     "start_time": "2024-04-02T16:03:40.974583Z"
    }
   },
   "id": "b7e1be8b46aa9cf0",
   "execution_count": 207
  },
  {
   "cell_type": "code",
   "execution_count": 208,
   "id": "8dc8c77c8d18b759",
   "metadata": {
    "collapsed": false,
    "ExecuteTime": {
     "end_time": "2024-04-02T16:03:40.996216Z",
     "start_time": "2024-04-02T16:03:40.978708Z"
    }
   },
   "outputs": [
    {
     "name": "stdout",
     "output_type": "stream",
     "text": [
      "SpeedI1    11633\n",
      "SpeedI2       75\n",
      "SpeedFL     2288\n",
      "SpeedST     6169\n",
      "dtype: int64\n",
      "Series([], dtype: int64)\n"
     ]
    }
   ],
   "source": [
    "# Check for NaN values in each column\n",
    "nan_counts = X.isna().sum()\n",
    "\n",
    "# Print columns with NaN count more than 0\n",
    "print(nan_counts[nan_counts >0])\n",
    "\n",
    "\n",
    "# After attempting to fill NaNs with group means\n",
    "#X['Sector1Time'].fillna(X['Sector1Time'].mean(), inplace=True)\n",
    "#X['Sector2Time'].fillna(X['Sector2Time'].mean(), inplace=True)\n",
    "#X['Sector3Time'].fillna(X['Sector3Time'].mean(), inplace=True)\n",
    "\n",
    "\n",
    "X['SpeedI1'].fillna(X['SpeedI1'].mean(), inplace=True)\n",
    "X['SpeedI2'].fillna(X['SpeedI2'].mean(), inplace=True)\n",
    "X['SpeedFL'].fillna(X['SpeedFL'].mean(), inplace=True)\n",
    "X['SpeedST'].fillna(X['SpeedST'].mean(), inplace=True)\n",
    "\n",
    "\n",
    "# Check for NaN values in each column\n",
    "nan_counts = X.isna().sum()\n",
    "\n",
    "# Print columns with NaN count more than 0\n",
    "print(nan_counts[nan_counts >0])\n"
   ]
  },
  {
   "cell_type": "code",
   "outputs": [
    {
     "name": "stdout",
     "output_type": "stream",
     "text": [
      "79034 79034\n"
     ]
    }
   ],
   "source": [
    "#Checking the length to fit to the model\n",
    "print(len(X), len(y))"
   ],
   "metadata": {
    "collapsed": false,
    "ExecuteTime": {
     "end_time": "2024-04-02T16:03:40.999524Z",
     "start_time": "2024-04-02T16:03:40.997027Z"
    }
   },
   "id": "1965954a4e408a7c",
   "execution_count": 209
  },
  {
   "cell_type": "code",
   "outputs": [
    {
     "data": {
      "text/plain": "' PCA\\n\\nfrom sklearn.decomposition import PCA\\n\\n# Assuming df_encoded already excludes \\'LapTime\\' and has standardized numeric features and one-hot encoded categorical variables\\n\\n#Deleted String Columns\\nX = X.drop([\\'Original_Driver\\', \\'Original_Circuit\\'], axis= 1)\\n\\n# Initialize PCA, choose the number of components e.g., 95% of variance\\npca = PCA(n_components=0.95)\\nX_pca = pca.fit_transform(X)\\n\\n# Explained variance ratio can be helpful to understand the coverage\\nprint(f\"Explained Variance Ratio: {pca.explained_variance_ratio_.sum()}\")\\n\\n'"
     },
     "execution_count": 210,
     "metadata": {},
     "output_type": "execute_result"
    }
   ],
   "source": [
    "\"\"\" PCA\n",
    "\n",
    "from sklearn.decomposition import PCA\n",
    "\n",
    "# Assuming df_encoded already excludes 'LapTime' and has standardized numeric features and one-hot encoded categorical variables\n",
    "\n",
    "#Deleted String Columns\n",
    "X = X.drop(['Original_Driver', 'Original_Circuit'], axis= 1)\n",
    "\n",
    "# Initialize PCA, choose the number of components e.g., 95% of variance\n",
    "pca = PCA(n_components=0.95)\n",
    "X_pca = pca.fit_transform(X)\n",
    "\n",
    "# Explained variance ratio can be helpful to understand the coverage\n",
    "print(f\"Explained Variance Ratio: {pca.explained_variance_ratio_.sum()}\")\n",
    "\n",
    "\"\"\""
   ],
   "metadata": {
    "collapsed": false,
    "ExecuteTime": {
     "end_time": "2024-04-02T16:03:41.003061Z",
     "start_time": "2024-04-02T16:03:41.000444Z"
    }
   },
   "id": "9ae8eeac730d5fc5",
   "execution_count": 210
  },
  {
   "cell_type": "code",
   "outputs": [],
   "source": [
    "from sklearn.model_selection import train_test_split\n",
    "\n",
    "X_train, X_test, y_train, y_test = train_test_split(X, y, test_size=0.2, random_state=42)"
   ],
   "metadata": {
    "collapsed": false,
    "ExecuteTime": {
     "end_time": "2024-04-02T16:03:41.030682Z",
     "start_time": "2024-04-02T16:03:41.003957Z"
    }
   },
   "id": "3de1b3a83fd07a18",
   "execution_count": 211
  },
  {
   "cell_type": "code",
   "outputs": [
    {
     "data": {
      "text/plain": "RandomForestRegressor(max_depth=20, min_samples_split=5, random_state=42)",
      "text/html": "<style>#sk-container-id-9 {color: black;background-color: white;}#sk-container-id-9 pre{padding: 0;}#sk-container-id-9 div.sk-toggleable {background-color: white;}#sk-container-id-9 label.sk-toggleable__label {cursor: pointer;display: block;width: 100%;margin-bottom: 0;padding: 0.3em;box-sizing: border-box;text-align: center;}#sk-container-id-9 label.sk-toggleable__label-arrow:before {content: \"▸\";float: left;margin-right: 0.25em;color: #696969;}#sk-container-id-9 label.sk-toggleable__label-arrow:hover:before {color: black;}#sk-container-id-9 div.sk-estimator:hover label.sk-toggleable__label-arrow:before {color: black;}#sk-container-id-9 div.sk-toggleable__content {max-height: 0;max-width: 0;overflow: hidden;text-align: left;background-color: #f0f8ff;}#sk-container-id-9 div.sk-toggleable__content pre {margin: 0.2em;color: black;border-radius: 0.25em;background-color: #f0f8ff;}#sk-container-id-9 input.sk-toggleable__control:checked~div.sk-toggleable__content {max-height: 200px;max-width: 100%;overflow: auto;}#sk-container-id-9 input.sk-toggleable__control:checked~label.sk-toggleable__label-arrow:before {content: \"▾\";}#sk-container-id-9 div.sk-estimator input.sk-toggleable__control:checked~label.sk-toggleable__label {background-color: #d4ebff;}#sk-container-id-9 div.sk-label input.sk-toggleable__control:checked~label.sk-toggleable__label {background-color: #d4ebff;}#sk-container-id-9 input.sk-hidden--visually {border: 0;clip: rect(1px 1px 1px 1px);clip: rect(1px, 1px, 1px, 1px);height: 1px;margin: -1px;overflow: hidden;padding: 0;position: absolute;width: 1px;}#sk-container-id-9 div.sk-estimator {font-family: monospace;background-color: #f0f8ff;border: 1px dotted black;border-radius: 0.25em;box-sizing: border-box;margin-bottom: 0.5em;}#sk-container-id-9 div.sk-estimator:hover {background-color: #d4ebff;}#sk-container-id-9 div.sk-parallel-item::after {content: \"\";width: 100%;border-bottom: 1px solid gray;flex-grow: 1;}#sk-container-id-9 div.sk-label:hover label.sk-toggleable__label {background-color: #d4ebff;}#sk-container-id-9 div.sk-serial::before {content: \"\";position: absolute;border-left: 1px solid gray;box-sizing: border-box;top: 0;bottom: 0;left: 50%;z-index: 0;}#sk-container-id-9 div.sk-serial {display: flex;flex-direction: column;align-items: center;background-color: white;padding-right: 0.2em;padding-left: 0.2em;position: relative;}#sk-container-id-9 div.sk-item {position: relative;z-index: 1;}#sk-container-id-9 div.sk-parallel {display: flex;align-items: stretch;justify-content: center;background-color: white;position: relative;}#sk-container-id-9 div.sk-item::before, #sk-container-id-9 div.sk-parallel-item::before {content: \"\";position: absolute;border-left: 1px solid gray;box-sizing: border-box;top: 0;bottom: 0;left: 50%;z-index: -1;}#sk-container-id-9 div.sk-parallel-item {display: flex;flex-direction: column;z-index: 1;position: relative;background-color: white;}#sk-container-id-9 div.sk-parallel-item:first-child::after {align-self: flex-end;width: 50%;}#sk-container-id-9 div.sk-parallel-item:last-child::after {align-self: flex-start;width: 50%;}#sk-container-id-9 div.sk-parallel-item:only-child::after {width: 0;}#sk-container-id-9 div.sk-dashed-wrapped {border: 1px dashed gray;margin: 0 0.4em 0.5em 0.4em;box-sizing: border-box;padding-bottom: 0.4em;background-color: white;}#sk-container-id-9 div.sk-label label {font-family: monospace;font-weight: bold;display: inline-block;line-height: 1.2em;}#sk-container-id-9 div.sk-label-container {text-align: center;}#sk-container-id-9 div.sk-container {/* jupyter's `normalize.less` sets `[hidden] { display: none; }` but bootstrap.min.css set `[hidden] { display: none !important; }` so we also need the `!important` here to be able to override the default hidden behavior on the sphinx rendered scikit-learn.org. See: https://github.com/scikit-learn/scikit-learn/issues/21755 */display: inline-block !important;position: relative;}#sk-container-id-9 div.sk-text-repr-fallback {display: none;}</style><div id=\"sk-container-id-9\" class=\"sk-top-container\"><div class=\"sk-text-repr-fallback\"><pre>RandomForestRegressor(max_depth=20, min_samples_split=5, random_state=42)</pre><b>In a Jupyter environment, please rerun this cell to show the HTML representation or trust the notebook. <br />On GitHub, the HTML representation is unable to render, please try loading this page with nbviewer.org.</b></div><div class=\"sk-container\" hidden><div class=\"sk-item\"><div class=\"sk-estimator sk-toggleable\"><input class=\"sk-toggleable__control sk-hidden--visually\" id=\"sk-estimator-id-9\" type=\"checkbox\" checked><label for=\"sk-estimator-id-9\" class=\"sk-toggleable__label sk-toggleable__label-arrow\">RandomForestRegressor</label><div class=\"sk-toggleable__content\"><pre>RandomForestRegressor(max_depth=20, min_samples_split=5, random_state=42)</pre></div></div></div></div></div>"
     },
     "execution_count": 212,
     "metadata": {},
     "output_type": "execute_result"
    }
   ],
   "source": [
    "from sklearn.ensemble import RandomForestRegressor\n",
    "\n",
    "model = RandomForestRegressor(n_estimators=100,max_depth=20,min_samples_split=5,random_state=42)\n",
    "\n",
    "# Best Parameters: {'max_depth': 20, 'min_samples_split': 5, 'n_estimators': 300}\n",
    "\n",
    "model.fit(X_train, y_train)"
   ],
   "metadata": {
    "collapsed": false,
    "ExecuteTime": {
     "end_time": "2024-04-02T16:04:31.035644Z",
     "start_time": "2024-04-02T16:03:41.031491Z"
    }
   },
   "id": "bb0cdff89a35f708",
   "execution_count": 212
  },
  {
   "cell_type": "code",
   "outputs": [
    {
     "name": "stdout",
     "output_type": "stream",
     "text": [
      "RMSE: 1.8595151301505328\n"
     ]
    }
   ],
   "source": [
    "from sklearn.metrics import mean_squared_error\n",
    "\n",
    "predictions = model.predict(X_test)\n",
    "mse = mean_squared_error(y_test, predictions)\n",
    "rmse = mse ** 0.5\n",
    "print(f\"RMSE: {rmse}\")\n"
   ],
   "metadata": {
    "collapsed": false,
    "ExecuteTime": {
     "end_time": "2024-04-02T16:04:31.259145Z",
     "start_time": "2024-04-02T16:04:31.036182Z"
    }
   },
   "id": "b2e098545a9faf14",
   "execution_count": 213
  },
  {
   "cell_type": "code",
   "outputs": [
    {
     "data": {
      "text/plain": "' Grid Search\\nfrom sklearn.model_selection import GridSearchCV\\nfrom sklearn.ensemble import RandomForestRegressor\\n\\nparam_grid = {\\n    \\'n_estimators\\': [100, 200, 300],\\n    \\'max_depth\\': [None, 10, 20],\\n    \\'min_samples_split\\': [2, 5, 10]\\n}\\n\\nrfr = RandomForestRegressor(random_state=42)\\ngrid_search = GridSearchCV(estimator=rfr, param_grid=param_grid, cv=5, scoring=\\'neg_mean_squared_error\\', n_jobs=-1)\\ngrid_search.fit(X_train, y_train)\\n\\nprint(f\"Best Parameters: {grid_search.best_params_}\")\\nbest_model = grid_search.best_estimator_ '"
     },
     "execution_count": 214,
     "metadata": {},
     "output_type": "execute_result"
    }
   ],
   "source": [
    "\"\"\" Grid Search\n",
    "from sklearn.model_selection import GridSearchCV\n",
    "from sklearn.ensemble import RandomForestRegressor\n",
    "\n",
    "param_grid = {\n",
    "    'n_estimators': [100, 200, 300],\n",
    "    'max_depth': [None, 10, 20],\n",
    "    'min_samples_split': [2, 5, 10]\n",
    "}\n",
    "\n",
    "rfr = RandomForestRegressor(random_state=42)\n",
    "grid_search = GridSearchCV(estimator=rfr, param_grid=param_grid, cv=5, scoring='neg_mean_squared_error', n_jobs=-1)\n",
    "grid_search.fit(X_train, y_train)\n",
    "\n",
    "print(f\"Best Parameters: {grid_search.best_params_}\")\n",
    "best_model = grid_search.best_estimator_ \"\"\"\n",
    "    "
   ],
   "metadata": {
    "collapsed": false,
    "ExecuteTime": {
     "end_time": "2024-04-02T16:04:31.263447Z",
     "start_time": "2024-04-02T16:04:31.261069Z"
    }
   },
   "id": "5064f484090e3213",
   "execution_count": 214
  },
  {
   "cell_type": "code",
   "outputs": [
    {
     "name": "stdout",
     "output_type": "stream",
     "text": [
      "SpeedFL: 0.2722825651665258\n",
      "Pressure: 0.19120753261418277\n",
      "Circuit_Sakhir Grand Prix: 0.09266549153862938\n",
      "IsAccurate: 0.07994760557821448\n",
      "Circuit_Azerbaijan Grand Prix: 0.06665610804092746\n",
      "SpeedI2: 0.04478567406522106\n",
      "Circuit_Singapore Grand Prix: 0.043519588508653416\n",
      "Circuit_Bahrain Grand Prix: 0.030367704151255774\n",
      "Circuit_Japanese Grand Prix: 0.018905206964163923\n",
      "SpeedST: 0.014717869163287952\n",
      "Circuit_Chinese Grand Prix: 0.014502472300466198\n",
      "TyreLife: 0.01316255386230876\n",
      "SpeedI1: 0.0116293857290548\n",
      "AirTemp: 0.0109374259144148\n",
      "Humidity: 0.009397469879084607\n",
      "Year: 0.008837864327269662\n",
      "LapNumber: 0.007289445698328269\n",
      "Circuit_British Grand Prix: 0.007137182332264707\n",
      "Circuit_Saudi Arabian Grand Prix: 0.005963359442765602\n",
      "Circuit_United States Grand Prix: 0.005389611906094267\n",
      "Compound_INTERMEDIATE: 0.005192891479395603\n",
      "TrackTemp: 0.005147675551048598\n",
      "WindDirection: 0.004828894479414503\n",
      "Circuit_Monaco Grand Prix: 0.004477142970936256\n",
      "Position: 0.00334521614962975\n",
      "Circuit_Dutch Grand Prix: 0.002597883599372564\n",
      "Circuit_Belgian Grand Prix: 0.0024665485525947268\n",
      "Circuit_Miami Grand Prix: 0.002123825503278991\n",
      "WindSpeed: 0.001682942552690901\n",
      "Circuit_Abu Dhabi Grand Prix: 0.0015749620723799244\n",
      "Stint: 0.001433113070322103\n",
      "Circuit_Canadian Grand Prix: 0.0014331019388115214\n",
      "Circuit_Russian Grand Prix: 0.0013218613195532722\n",
      "Circuit_Spanish Grand Prix: 0.001045757399257888\n",
      "Circuit_Portuguese Grand Prix: 0.0008775178706839387\n",
      "Circuit_70th Anniversary Grand Prix: 0.0008065636421461828\n",
      "Circuit_French Grand Prix: 0.0007409935186779841\n",
      "Circuit_Emilia Romagna Grand Prix: 0.0007025148282431622\n",
      "Circuit_Australian Grand Prix: 0.0006405875926468963\n",
      "TrackStatus_4.0: 0.000536708282607062\n",
      "Circuit_Hungarian Grand Prix: 0.000535533757631295\n",
      "TrackStatus_24.0: 0.0005194284317560385\n",
      "TrackStatus_1.0: 0.0005179851807605834\n",
      "DriverNumber: 0.0004973137701072813\n",
      "Rainfall: 0.00045546316309900335\n",
      "Circuit_Brazilian Grand Prix: 0.0003747208931188089\n",
      "Circuit_Austrian Grand Prix: 0.0003438765700763325\n",
      "TrackStatus_67.0: 0.0003150124100079599\n",
      "Circuit_Eifel Grand Prix: 0.00030646027309758794\n",
      "FreshTyre: 0.00025272078804296184\n",
      "IsPersonalBest: 0.00023169815128650754\n",
      "Compound_WET: 0.00018732782610235567\n",
      "TrackStatus_267.0: 0.00016126076205823966\n",
      "Circuit_Italian Grand Prix: 0.00015581513745996101\n",
      "Compound_SOFT: 0.00015042570357913287\n",
      "Compound_MEDIUM: 0.00014220340689412113\n",
      "Compound_HARD: 0.000129190254576702\n",
      "TrackStatus_672.0: 0.00012853889165734855\n",
      "TrackStatus_26.0: 0.00012167595777944326\n",
      "Team_Williams: 0.00012068370408682577\n",
      "Circuit_Tuscan Grand Prix: 0.00011176966058005528\n",
      "TrackStatus_2.0: 0.00010757695458802271\n",
      "Team_Haas F1 Team: 9.282501336723064e-05\n",
      "TrackStatus_64.0: 8.329689703609785e-05\n",
      "Circuit_Styrian Grand Prix: 8.328621505107837e-05\n",
      "Circuit_Qatar Grand Prix: 7.754728503695147e-05\n",
      "Team_Mercedes: 6.995995276188252e-05\n",
      "Team_Red Bull Racing: 5.5859331022791685e-05\n",
      "TrackStatus_7.0: 5.23018845835317e-05\n",
      "Circuit_German Grand Prix: 4.92320056349994e-05\n",
      "Driver_RUS: 4.691330288024412e-05\n",
      "Driver_STR: 4.3586773582120635e-05\n",
      "Driver_BOT: 4.2917752872240254e-05\n",
      "Driver_GRO: 4.282586905488452e-05\n",
      "Driver_PER: 4.050857787638583e-05\n",
      "Driver_TSU: 4.038708310694016e-05\n",
      "Driver_LEC: 3.859796586564422e-05\n",
      "Driver_MAG: 3.7847087703442e-05\n",
      "Team_Ferrari: 3.748878591841058e-05\n",
      "Team_AlphaTauri: 3.683477307049824e-05\n",
      "Driver_KUB: 3.621196660444305e-05\n",
      "Driver_MAZ: 3.538743520801349e-05\n",
      "Driver_NOR: 3.4476571290779555e-05\n",
      "Driver_MSC: 3.44030309320143e-05\n",
      "Team_McLaren: 3.437036560543105e-05\n",
      "Driver_VET: 3.417386722425795e-05\n",
      "Team_Renault: 3.3916238299852e-05\n",
      "TrackStatus_6.0: 3.361457341539706e-05\n",
      "Driver_ZHO: 3.356193616152539e-05\n",
      "Team_Alfa Romeo: 3.34853965805442e-05\n",
      "Driver_GAS: 3.304263374545462e-05\n",
      "Team_Alfa Romeo Racing: 3.2792496325325627e-05\n",
      "Circuit_Turkish Grand Prix: 3.200907044135982e-05\n",
      "Team_Racing Point: 3.199263195615603e-05\n",
      "Team_Aston Martin: 3.0438946329279674e-05\n",
      "Driver_LAT: 3.0007405042756428e-05\n",
      "Driver_ALB: 2.9314210561156714e-05\n",
      "Driver_SAI: 2.920396020308073e-05\n",
      "Driver_HAM: 2.850126167912057e-05\n",
      "Driver_RIC: 2.720119884674026e-05\n",
      "Team_Alpine: 2.6142969894868505e-05\n",
      "Driver_VER: 2.591147478604559e-05\n",
      "Driver_KVY: 2.2166928881742578e-05\n",
      "Driver_RAI: 2.1715615290328847e-05\n",
      "Circuit_Mexico City Grand Prix: 1.7278891621311627e-05\n",
      "Driver_OCO: 1.6720239523303724e-05\n",
      "Driver_ALO: 1.598173110122945e-05\n",
      "Team_Toro Rosso: 1.5935220589637362e-05\n",
      "Driver_GIO: 1.577088531848414e-05\n",
      "Driver_HUL: 1.3809588629733192e-05\n",
      "TrackStatus_264.0: 1.0763504807149707e-05\n",
      "TrackStatus_5.0: 1.0477617689237749e-05\n",
      "TrackStatus_45.0: 6.1054405211753705e-06\n",
      "Driver_AIT: 4.644783460235971e-06\n",
      "TrackStatus_6724.0: 3.138819783770758e-06\n",
      "Driver_DEV: 2.7213052889730713e-06\n",
      "Circuit_Mexican Grand Prix: 2.517643218082536e-06\n",
      "Driver_FIT: 2.0203487119749728e-06\n",
      "TrackStatus_42.0: 2.1636585289092237e-07\n",
      "TrackStatus_72.0: 1.3766699955290127e-07\n",
      "TrackStatus_724.0: 0.0\n"
     ]
    }
   ],
   "source": [
    "importances = model.feature_importances_\n",
    "# Sort the feature importance in descending order\n",
    "sorted_indices = np.argsort(importances)[::-1]\n",
    "\n",
    "for index in sorted_indices:\n",
    "    print(f\"{X_train.columns[index]}: {importances[index]}\")\n"
   ],
   "metadata": {
    "collapsed": false,
    "ExecuteTime": {
     "end_time": "2024-04-02T16:04:31.274500Z",
     "start_time": "2024-04-02T16:04:31.264324Z"
    }
   },
   "id": "eaf5e73cc64926",
   "execution_count": 215
  },
  {
   "cell_type": "code",
   "outputs": [],
   "source": [],
   "metadata": {
    "collapsed": false,
    "ExecuteTime": {
     "end_time": "2024-04-02T16:04:31.276688Z",
     "start_time": "2024-04-02T16:04:31.275242Z"
    }
   },
   "id": "7b203c8987108345",
   "execution_count": 215
  }
 ],
 "metadata": {
  "kernelspec": {
   "display_name": "Python 3 (ipykernel)",
   "language": "python",
   "name": "python3"
  },
  "language_info": {
   "codemirror_mode": {
    "name": "ipython",
    "version": 3
   },
   "file_extension": ".py",
   "mimetype": "text/x-python",
   "name": "python",
   "nbconvert_exporter": "python",
   "pygments_lexer": "ipython3",
   "version": "3.11.3"
  }
 },
 "nbformat": 4,
 "nbformat_minor": 5
}
