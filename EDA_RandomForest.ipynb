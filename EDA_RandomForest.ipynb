{
 "cells": [
  {
   "cell_type": "code",
   "execution_count": 128,
   "id": "initial_id",
   "metadata": {
    "ExecuteTime": {
     "end_time": "2024-04-02T15:35:57.089229Z",
     "start_time": "2024-04-02T15:35:55.845321Z"
    }
   },
   "outputs": [
    {
     "name": "stdout",
     "output_type": "stream",
     "text": [
      "<class 'pandas.core.frame.DataFrame'>\n",
      "Int64Index: 79034 entries, 0 to 82417\n",
      "Data columns (total 124 columns):\n",
      " #    Column                               Dtype  \n",
      "---   ------                               -----  \n",
      " 0    DriverNumber                         int64  \n",
      " 1    LapNumber                            float64\n",
      " 2    Stint                                float64\n",
      " 3    Sector1Time                          float64\n",
      " 4    Sector2Time                          float64\n",
      " 5    Sector3Time                          float64\n",
      " 6    SpeedI1                              float64\n",
      " 7    SpeedI2                              float64\n",
      " 8    SpeedFL                              float64\n",
      " 9    SpeedST                              float64\n",
      " 10   IsPersonalBest                       int64  \n",
      " 11   TyreLife                             float64\n",
      " 12   FreshTyre                            int64  \n",
      " 13   Position                             float64\n",
      " 14   IsAccurate                           int64  \n",
      " 15   AirTemp                              float64\n",
      " 16   Humidity                             float64\n",
      " 17   Pressure                             float64\n",
      " 18   Rainfall                             int64  \n",
      " 19   TrackTemp                            float64\n",
      " 20   WindDirection                        int64  \n",
      " 21   WindSpeed                            float64\n",
      " 22   Year                                 int64  \n",
      " 23   Driver_AIT                           uint8  \n",
      " 24   Driver_ALB                           uint8  \n",
      " 25   Driver_ALO                           uint8  \n",
      " 26   Driver_BOT                           uint8  \n",
      " 27   Driver_DEV                           uint8  \n",
      " 28   Driver_FIT                           uint8  \n",
      " 29   Driver_GAS                           uint8  \n",
      " 30   Driver_GIO                           uint8  \n",
      " 31   Driver_GRO                           uint8  \n",
      " 32   Driver_HAM                           uint8  \n",
      " 33   Driver_HUL                           uint8  \n",
      " 34   Driver_KUB                           uint8  \n",
      " 35   Driver_KVY                           uint8  \n",
      " 36   Driver_LAT                           uint8  \n",
      " 37   Driver_LEC                           uint8  \n",
      " 38   Driver_MAG                           uint8  \n",
      " 39   Driver_MAZ                           uint8  \n",
      " 40   Driver_MSC                           uint8  \n",
      " 41   Driver_NOR                           uint8  \n",
      " 42   Driver_OCO                           uint8  \n",
      " 43   Driver_PER                           uint8  \n",
      " 44   Driver_RAI                           uint8  \n",
      " 45   Driver_RIC                           uint8  \n",
      " 46   Driver_RUS                           uint8  \n",
      " 47   Driver_SAI                           uint8  \n",
      " 48   Driver_STR                           uint8  \n",
      " 49   Driver_TSU                           uint8  \n",
      " 50   Driver_VER                           uint8  \n",
      " 51   Driver_VET                           uint8  \n",
      " 52   Driver_ZHO                           uint8  \n",
      " 53   Circuit_70th Anniversary Grand Prix  uint8  \n",
      " 54   Circuit_Abu Dhabi Grand Prix         uint8  \n",
      " 55   Circuit_Australian Grand Prix        uint8  \n",
      " 56   Circuit_Austrian Grand Prix          uint8  \n",
      " 57   Circuit_Azerbaijan Grand Prix        uint8  \n",
      " 58   Circuit_Bahrain Grand Prix           uint8  \n",
      " 59   Circuit_Belgian Grand Prix           uint8  \n",
      " 60   Circuit_Brazilian Grand Prix         uint8  \n",
      " 61   Circuit_British Grand Prix           uint8  \n",
      " 62   Circuit_Canadian Grand Prix          uint8  \n",
      " 63   Circuit_Chinese Grand Prix           uint8  \n",
      " 64   Circuit_Dutch Grand Prix             uint8  \n",
      " 65   Circuit_Eifel Grand Prix             uint8  \n",
      " 66   Circuit_Emilia Romagna Grand Prix    uint8  \n",
      " 67   Circuit_French Grand Prix            uint8  \n",
      " 68   Circuit_German Grand Prix            uint8  \n",
      " 69   Circuit_Hungarian Grand Prix         uint8  \n",
      " 70   Circuit_Italian Grand Prix           uint8  \n",
      " 71   Circuit_Japanese Grand Prix          uint8  \n",
      " 72   Circuit_Mexican Grand Prix           uint8  \n",
      " 73   Circuit_Mexico City Grand Prix       uint8  \n",
      " 74   Circuit_Miami Grand Prix             uint8  \n",
      " 75   Circuit_Monaco Grand Prix            uint8  \n",
      " 76   Circuit_Portuguese Grand Prix        uint8  \n",
      " 77   Circuit_Qatar Grand Prix             uint8  \n",
      " 78   Circuit_Russian Grand Prix           uint8  \n",
      " 79   Circuit_Sakhir Grand Prix            uint8  \n",
      " 80   Circuit_Saudi Arabian Grand Prix     uint8  \n",
      " 81   Circuit_Singapore Grand Prix         uint8  \n",
      " 82   Circuit_Spanish Grand Prix           uint8  \n",
      " 83   Circuit_Styrian Grand Prix           uint8  \n",
      " 84   Circuit_Turkish Grand Prix           uint8  \n",
      " 85   Circuit_Tuscan Grand Prix            uint8  \n",
      " 86   Circuit_United States Grand Prix     uint8  \n",
      " 87   Compound_HARD                        uint8  \n",
      " 88   Compound_INTERMEDIATE                uint8  \n",
      " 89   Compound_MEDIUM                      uint8  \n",
      " 90   Compound_SOFT                        uint8  \n",
      " 91   Compound_WET                         uint8  \n",
      " 92   Team_Alfa Romeo                      uint8  \n",
      " 93   Team_Alfa Romeo Racing               uint8  \n",
      " 94   Team_AlphaTauri                      uint8  \n",
      " 95   Team_Alpine                          uint8  \n",
      " 96   Team_Aston Martin                    uint8  \n",
      " 97   Team_Ferrari                         uint8  \n",
      " 98   Team_Haas F1 Team                    uint8  \n",
      " 99   Team_McLaren                         uint8  \n",
      " 100  Team_Mercedes                        uint8  \n",
      " 101  Team_Racing Point                    uint8  \n",
      " 102  Team_Red Bull Racing                 uint8  \n",
      " 103  Team_Renault                         uint8  \n",
      " 104  Team_Toro Rosso                      uint8  \n",
      " 105  Team_Williams                        uint8  \n",
      " 106  TrackStatus_1.0                      uint8  \n",
      " 107  TrackStatus_2.0                      uint8  \n",
      " 108  TrackStatus_4.0                      uint8  \n",
      " 109  TrackStatus_5.0                      uint8  \n",
      " 110  TrackStatus_6.0                      uint8  \n",
      " 111  TrackStatus_7.0                      uint8  \n",
      " 112  TrackStatus_24.0                     uint8  \n",
      " 113  TrackStatus_26.0                     uint8  \n",
      " 114  TrackStatus_42.0                     uint8  \n",
      " 115  TrackStatus_45.0                     uint8  \n",
      " 116  TrackStatus_64.0                     uint8  \n",
      " 117  TrackStatus_67.0                     uint8  \n",
      " 118  TrackStatus_72.0                     uint8  \n",
      " 119  TrackStatus_264.0                    uint8  \n",
      " 120  TrackStatus_267.0                    uint8  \n",
      " 121  TrackStatus_672.0                    uint8  \n",
      " 122  TrackStatus_724.0                    uint8  \n",
      " 123  TrackStatus_6724.0                   uint8  \n",
      "dtypes: float64(16), int64(7), uint8(101)\n",
      "memory usage: 22.1 MB\n",
      "None\n"
     ]
    }
   ],
   "source": [
    "import pandas as pd\n",
    "import matplotlib.pyplot as plt\n",
    "import seaborn as sns\n",
    "import numpy as np\n",
    "\n",
    "df = pd.read_csv('f1_2019_to_2022_all_drivers_all_data.csv',low_memory=False) # it's for 2019 to 2022 <- Train \n",
    "\n",
    "#Change to numerical values\n",
    "df['LapTime'] = pd.to_timedelta(df['LapTime']).dt.total_seconds()\n",
    "\n",
    "\n",
    "columns_to_check = ['Position', 'IsPersonalBest', 'TrackStatus']\n",
    "df = df.dropna(subset=columns_to_check)\n",
    "\n",
    "\n",
    "# Change strings to integer\n",
    "df['Sector1Time'] = pd.to_timedelta(df['Sector1Time']).dt.total_seconds()\n",
    "df['Sector2Time'] = pd.to_timedelta(df['Sector2Time']).dt.total_seconds()\n",
    "df['Sector3Time'] = pd.to_timedelta(df['Sector3Time']).dt.total_seconds()\n",
    "\n",
    "\n",
    "df['Rainfall'] = df['Rainfall'].astype(int) # Encode Rainfall To integer\n",
    "df['FreshTyre'] = df['FreshTyre'].astype(int) # Encode FreshTyre To integer\n",
    "df['IsAccurate'] = df['IsAccurate'].astype(int)\n",
    "df[\"IsPersonalBest\"] = df['IsPersonalBest'].astype(int)\n",
    "\n",
    "\n",
    "\n",
    "#Drop non-related features \n",
    "columns_to_drop = [\n",
    "    'Time', 'LapStartTime',\n",
    "    'Sector1SessionTime', 'Sector2SessionTime', 'Sector3SessionTime',\n",
    "    'PitOutTime', 'PitInTime',\n",
    "    'LapStartDate', 'Deleted', 'DeletedReason',\n",
    "    'FastF1Generated'\n",
    "]\n",
    "df = df.drop(columns=columns_to_drop)\n",
    "\n",
    "\n",
    "# TO use imputation method\n",
    "#df['Original_Driver'] = df['Driver']\n",
    "#df['Original_Circuit'] = df['Circuit']\n",
    "\n",
    "\n",
    "Q1 = df['LapTime'].quantile(0.25)\n",
    "Q3 = df['LapTime'].quantile(0.75)\n",
    "IQR = Q3 - Q1\n",
    "\n",
    "# Determine bounds for outliers\n",
    "lower_bound = Q1 - 1.5 * IQR\n",
    "upper_bound = Q3 + 1.5 * IQR\n",
    "\n",
    "# Identify outliers\n",
    "outliers = df[(df['LapTime'] < lower_bound) | (df['LapTime'] > upper_bound)]\n",
    "\n",
    "#  Remove outliers from the DataFrame\n",
    "\n",
    "df = df[(df['LapTime'] >= lower_bound) & (df['LapTime'] <= upper_bound)]\n",
    "\n",
    "\n",
    "#One hot encoding\n",
    "df = pd.get_dummies(df, columns=['Driver', 'Circuit','Compound','Team','TrackStatus'])\n",
    "\n",
    "# In case of Standardization\n",
    "numeric_features = ['SpeedI1', 'SpeedI2', 'SpeedFL', 'SpeedST', 'AirTemp', 'Humidity', 'Pressure', 'TrackTemp', 'WindDirection', 'WindSpeed',]\n",
    "\n",
    "\n",
    "df = df.dropna(subset=['LapTime'])\n",
    "\n",
    "X = df.drop(['LapTime'], axis=1) # Exclude response variable ('LapTime') \n",
    "\n",
    "y = df['LapTime']\n",
    "\n",
    "\n",
    "print(X.info(verbose=True))"
   ]
  },
  {
   "cell_type": "code",
   "execution_count": 129,
   "id": "e7136b28dac82662",
   "metadata": {
    "collapsed": false,
    "ExecuteTime": {
     "end_time": "2024-04-02T15:35:57.108470Z",
     "start_time": "2024-04-02T15:35:57.090237Z"
    }
   },
   "outputs": [],
   "source": [
    "# It could be deleted if I use RandomForest\n",
    "from sklearn.preprocessing import StandardScaler\n",
    "from sklearn.decomposition import PCA\n",
    "scaler = StandardScaler()\n",
    "X[numeric_features] = scaler.fit_transform(X[numeric_features])\n"
   ]
  },
  {
   "cell_type": "code",
   "outputs": [
    {
     "data": {
      "text/plain": "\" means_sector1 = X.groupby(['Original_Driver', 'Original_Circuit'])['Sector1Time'].mean()\\n\\n# Map the means back to the original dataframe to fill missing values\\nX['Sector1Time'] = X.apply(lambda row: means_sector1[(row['Original_Driver'], row['Original_Circuit'])] if pd.isnull(row['Sector1Time']) else row['Sector1Time'], axis=1)\\n\\n#  for Sector2Time\\nmeans_sector2 = X.groupby(['Original_Driver', 'Original_Circuit'])['Sector2Time'].mean()\\n\\nX['Sector2Time'] = X.apply(lambda row: means_sector2[(row['Original_Driver'], row['Original_Circuit'])] if pd.isnull(row['Sector2Time']) else row['Sector2Time'], axis=1)\\n\\n#  for Sector3Time\\nmeans_sector3 = X.groupby(['Original_Driver', 'Original_Circuit'])['Sector3Time'].mean()\\nX['Sector3Time'] = X.apply(lambda row: means_sector3[(row['Original_Driver'], row['Original_Circuit'])] if pd.isnull(row['Sector3Time']) else row['Sector3Time'], axis=1)\\n\\n#  for SpeedI1\\nmeans_speedI1 = X.groupby(['Original_Driver', 'Original_Circuit'])['SpeedI1'].mean()\\nX['SpeedI1'] = X.apply(lambda row: means_speedI1[(row['Original_Driver'], row['Original_Circuit'])] if pd.isnull(row['SpeedI1']) else row['SpeedI1'], axis=1)\\n\\n\\nmeans_speedI2 = X.groupby(['Original_Driver', 'Original_Circuit'])['SpeedI2'].transform('mean')\\nX['SpeedI2'] = X['SpeedI2'].fillna(means_speedI2)\\n\\n#  for SpeedFL\\nmeans_speedFL = X.groupby(['Original_Driver', 'Original_Circuit'])['SpeedFL'].transform('mean')\\nX['SpeedFL'] = X['SpeedFL'].fillna(means_speedFL)\\n\\n#  for SpeedST\\nmeans_speedST = X.groupby(['Original_Driver', 'Original_Circuit'])['SpeedST'].transform('mean')\\nX['SpeedST'] = X['SpeedST'].fillna(means_speedST)\""
     },
     "execution_count": 131,
     "metadata": {},
     "output_type": "execute_result"
    }
   ],
   "source": [
    "\"\"\" means_sector1 = X.groupby(['Original_Driver', 'Original_Circuit'])['Sector1Time'].mean()\n",
    "\n",
    "# Map the means back to the original dataframe to fill missing values\n",
    "X['Sector1Time'] = X.apply(lambda row: means_sector1[(row['Original_Driver'], row['Original_Circuit'])] if pd.isnull(row['Sector1Time']) else row['Sector1Time'], axis=1)\n",
    "\n",
    "#  for Sector2Time\n",
    "means_sector2 = X.groupby(['Original_Driver', 'Original_Circuit'])['Sector2Time'].mean()\n",
    "\n",
    "X['Sector2Time'] = X.apply(lambda row: means_sector2[(row['Original_Driver'], row['Original_Circuit'])] if pd.isnull(row['Sector2Time']) else row['Sector2Time'], axis=1)\n",
    "\n",
    "#  for Sector3Time\n",
    "means_sector3 = X.groupby(['Original_Driver', 'Original_Circuit'])['Sector3Time'].mean()\n",
    "X['Sector3Time'] = X.apply(lambda row: means_sector3[(row['Original_Driver'], row['Original_Circuit'])] if pd.isnull(row['Sector3Time']) else row['Sector3Time'], axis=1)\n",
    "\n",
    "#  for SpeedI1\n",
    "means_speedI1 = X.groupby(['Original_Driver', 'Original_Circuit'])['SpeedI1'].mean()\n",
    "X['SpeedI1'] = X.apply(lambda row: means_speedI1[(row['Original_Driver'], row['Original_Circuit'])] if pd.isnull(row['SpeedI1']) else row['SpeedI1'], axis=1)\n",
    "\n",
    "\n",
    "means_speedI2 = X.groupby(['Original_Driver', 'Original_Circuit'])['SpeedI2'].transform('mean')\n",
    "X['SpeedI2'] = X['SpeedI2'].fillna(means_speedI2)\n",
    "\n",
    "#  for SpeedFL\n",
    "means_speedFL = X.groupby(['Original_Driver', 'Original_Circuit'])['SpeedFL'].transform('mean')\n",
    "X['SpeedFL'] = X['SpeedFL'].fillna(means_speedFL)\n",
    "\n",
    "#  for SpeedST\n",
    "means_speedST = X.groupby(['Original_Driver', 'Original_Circuit'])['SpeedST'].transform('mean')\n",
    "X['SpeedST'] = X['SpeedST'].fillna(means_speedST)\"\"\"\n"
   ],
   "metadata": {
    "collapsed": false,
    "ExecuteTime": {
     "end_time": "2024-04-02T15:35:57.121018Z",
     "start_time": "2024-04-02T15:35:57.118674Z"
    }
   },
   "id": "b7e1be8b46aa9cf0",
   "execution_count": 131
  },
  {
   "cell_type": "code",
   "execution_count": 142,
   "id": "8dc8c77c8d18b759",
   "metadata": {
    "collapsed": false,
    "ExecuteTime": {
     "end_time": "2024-04-02T15:41:23.454635Z",
     "start_time": "2024-04-02T15:41:23.430631Z"
    }
   },
   "outputs": [
    {
     "name": "stdout",
     "output_type": "stream",
     "text": [
      "Series([], dtype: int64)\n",
      "Series([], dtype: int64)\n"
     ]
    }
   ],
   "source": [
    "# Check for NaN values in each column\n",
    "nan_counts = X.isna().sum()\n",
    "\n",
    "# Print columns with NaN count more than 0\n",
    "print(nan_counts[nan_counts >0])\n",
    "\n",
    "\n",
    "# After attempting to fill NaNs with group means\n",
    "X['Sector1Time'].fillna(X['Sector1Time'].mean(), inplace=True)\n",
    "X['Sector2Time'].fillna(X['Sector2Time'].mean(), inplace=True)\n",
    "X['Sector3Time'].fillna(X['Sector3Time'].mean(), inplace=True)\n",
    "X['SpeedI1'].fillna(X['SpeedI1'].mean(), inplace=True)\n",
    "X['SpeedI2'].fillna(X['SpeedI2'].mean(), inplace=True)\n",
    "X['SpeedFL'].fillna(X['SpeedFL'].mean(), inplace=True)\n",
    "X['SpeedST'].fillna(X['SpeedST'].mean(), inplace=True)\n",
    "\n",
    "\n",
    "# Check for NaN values in each column\n",
    "nan_counts = X.isna().sum()\n",
    "\n",
    "# Print columns with NaN count more than 0\n",
    "print(nan_counts[nan_counts >0])\n"
   ]
  },
  {
   "cell_type": "code",
   "outputs": [
    {
     "name": "stdout",
     "output_type": "stream",
     "text": [
      "79034 79034\n"
     ]
    }
   ],
   "source": [
    "#Checking the length to fit to the model\n",
    "print(len(X), len(y))"
   ],
   "metadata": {
    "collapsed": false,
    "ExecuteTime": {
     "end_time": "2024-04-02T15:35:57.145216Z",
     "start_time": "2024-04-02T15:35:57.143306Z"
    }
   },
   "id": "1965954a4e408a7c",
   "execution_count": 134
  },
  {
   "cell_type": "code",
   "outputs": [
    {
     "data": {
      "text/plain": "' PCA\\n\\nfrom sklearn.decomposition import PCA\\n\\n# Assuming df_encoded already excludes \\'LapTime\\' and has standardized numeric features and one-hot encoded categorical variables\\n\\n#Deleted String Columns\\nX = X.drop([\\'Original_Driver\\', \\'Original_Circuit\\'], axis= 1)\\n\\n# Initialize PCA, choose the number of components e.g., 95% of variance\\npca = PCA(n_components=0.95)\\nX_pca = pca.fit_transform(X)\\n\\n# Explained variance ratio can be helpful to understand the coverage\\nprint(f\"Explained Variance Ratio: {pca.explained_variance_ratio_.sum()}\")\\n\\n'"
     },
     "execution_count": 135,
     "metadata": {},
     "output_type": "execute_result"
    }
   ],
   "source": [
    "\"\"\" PCA\n",
    "\n",
    "from sklearn.decomposition import PCA\n",
    "\n",
    "# Assuming df_encoded already excludes 'LapTime' and has standardized numeric features and one-hot encoded categorical variables\n",
    "\n",
    "#Deleted String Columns\n",
    "X = X.drop(['Original_Driver', 'Original_Circuit'], axis= 1)\n",
    "\n",
    "# Initialize PCA, choose the number of components e.g., 95% of variance\n",
    "pca = PCA(n_components=0.95)\n",
    "X_pca = pca.fit_transform(X)\n",
    "\n",
    "# Explained variance ratio can be helpful to understand the coverage\n",
    "print(f\"Explained Variance Ratio: {pca.explained_variance_ratio_.sum()}\")\n",
    "\n",
    "\"\"\""
   ],
   "metadata": {
    "collapsed": false,
    "ExecuteTime": {
     "end_time": "2024-04-02T15:35:57.148389Z",
     "start_time": "2024-04-02T15:35:57.145882Z"
    }
   },
   "id": "9ae8eeac730d5fc5",
   "execution_count": 135
  },
  {
   "cell_type": "code",
   "outputs": [],
   "source": [
    "from sklearn.model_selection import train_test_split\n",
    "\n",
    "X_train, X_test, y_train, y_test = train_test_split(X, y, test_size=0.2, random_state=42)"
   ],
   "metadata": {
    "collapsed": false,
    "ExecuteTime": {
     "end_time": "2024-04-02T15:35:57.177399Z",
     "start_time": "2024-04-02T15:35:57.149075Z"
    }
   },
   "id": "3de1b3a83fd07a18",
   "execution_count": 136
  },
  {
   "cell_type": "code",
   "outputs": [
    {
     "data": {
      "text/plain": "RandomForestRegressor(max_depth=20, min_samples_split=5, n_estimators=300,\n                      random_state=42)",
      "text/html": "<style>#sk-container-id-5 {color: black;background-color: white;}#sk-container-id-5 pre{padding: 0;}#sk-container-id-5 div.sk-toggleable {background-color: white;}#sk-container-id-5 label.sk-toggleable__label {cursor: pointer;display: block;width: 100%;margin-bottom: 0;padding: 0.3em;box-sizing: border-box;text-align: center;}#sk-container-id-5 label.sk-toggleable__label-arrow:before {content: \"▸\";float: left;margin-right: 0.25em;color: #696969;}#sk-container-id-5 label.sk-toggleable__label-arrow:hover:before {color: black;}#sk-container-id-5 div.sk-estimator:hover label.sk-toggleable__label-arrow:before {color: black;}#sk-container-id-5 div.sk-toggleable__content {max-height: 0;max-width: 0;overflow: hidden;text-align: left;background-color: #f0f8ff;}#sk-container-id-5 div.sk-toggleable__content pre {margin: 0.2em;color: black;border-radius: 0.25em;background-color: #f0f8ff;}#sk-container-id-5 input.sk-toggleable__control:checked~div.sk-toggleable__content {max-height: 200px;max-width: 100%;overflow: auto;}#sk-container-id-5 input.sk-toggleable__control:checked~label.sk-toggleable__label-arrow:before {content: \"▾\";}#sk-container-id-5 div.sk-estimator input.sk-toggleable__control:checked~label.sk-toggleable__label {background-color: #d4ebff;}#sk-container-id-5 div.sk-label input.sk-toggleable__control:checked~label.sk-toggleable__label {background-color: #d4ebff;}#sk-container-id-5 input.sk-hidden--visually {border: 0;clip: rect(1px 1px 1px 1px);clip: rect(1px, 1px, 1px, 1px);height: 1px;margin: -1px;overflow: hidden;padding: 0;position: absolute;width: 1px;}#sk-container-id-5 div.sk-estimator {font-family: monospace;background-color: #f0f8ff;border: 1px dotted black;border-radius: 0.25em;box-sizing: border-box;margin-bottom: 0.5em;}#sk-container-id-5 div.sk-estimator:hover {background-color: #d4ebff;}#sk-container-id-5 div.sk-parallel-item::after {content: \"\";width: 100%;border-bottom: 1px solid gray;flex-grow: 1;}#sk-container-id-5 div.sk-label:hover label.sk-toggleable__label {background-color: #d4ebff;}#sk-container-id-5 div.sk-serial::before {content: \"\";position: absolute;border-left: 1px solid gray;box-sizing: border-box;top: 0;bottom: 0;left: 50%;z-index: 0;}#sk-container-id-5 div.sk-serial {display: flex;flex-direction: column;align-items: center;background-color: white;padding-right: 0.2em;padding-left: 0.2em;position: relative;}#sk-container-id-5 div.sk-item {position: relative;z-index: 1;}#sk-container-id-5 div.sk-parallel {display: flex;align-items: stretch;justify-content: center;background-color: white;position: relative;}#sk-container-id-5 div.sk-item::before, #sk-container-id-5 div.sk-parallel-item::before {content: \"\";position: absolute;border-left: 1px solid gray;box-sizing: border-box;top: 0;bottom: 0;left: 50%;z-index: -1;}#sk-container-id-5 div.sk-parallel-item {display: flex;flex-direction: column;z-index: 1;position: relative;background-color: white;}#sk-container-id-5 div.sk-parallel-item:first-child::after {align-self: flex-end;width: 50%;}#sk-container-id-5 div.sk-parallel-item:last-child::after {align-self: flex-start;width: 50%;}#sk-container-id-5 div.sk-parallel-item:only-child::after {width: 0;}#sk-container-id-5 div.sk-dashed-wrapped {border: 1px dashed gray;margin: 0 0.4em 0.5em 0.4em;box-sizing: border-box;padding-bottom: 0.4em;background-color: white;}#sk-container-id-5 div.sk-label label {font-family: monospace;font-weight: bold;display: inline-block;line-height: 1.2em;}#sk-container-id-5 div.sk-label-container {text-align: center;}#sk-container-id-5 div.sk-container {/* jupyter's `normalize.less` sets `[hidden] { display: none; }` but bootstrap.min.css set `[hidden] { display: none !important; }` so we also need the `!important` here to be able to override the default hidden behavior on the sphinx rendered scikit-learn.org. See: https://github.com/scikit-learn/scikit-learn/issues/21755 */display: inline-block !important;position: relative;}#sk-container-id-5 div.sk-text-repr-fallback {display: none;}</style><div id=\"sk-container-id-5\" class=\"sk-top-container\"><div class=\"sk-text-repr-fallback\"><pre>RandomForestRegressor(max_depth=20, min_samples_split=5, n_estimators=300,\n                      random_state=42)</pre><b>In a Jupyter environment, please rerun this cell to show the HTML representation or trust the notebook. <br />On GitHub, the HTML representation is unable to render, please try loading this page with nbviewer.org.</b></div><div class=\"sk-container\" hidden><div class=\"sk-item\"><div class=\"sk-estimator sk-toggleable\"><input class=\"sk-toggleable__control sk-hidden--visually\" id=\"sk-estimator-id-5\" type=\"checkbox\" checked><label for=\"sk-estimator-id-5\" class=\"sk-toggleable__label sk-toggleable__label-arrow\">RandomForestRegressor</label><div class=\"sk-toggleable__content\"><pre>RandomForestRegressor(max_depth=20, min_samples_split=5, n_estimators=300,\n                      random_state=42)</pre></div></div></div></div></div>"
     },
     "execution_count": 137,
     "metadata": {},
     "output_type": "execute_result"
    }
   ],
   "source": [
    "from sklearn.ensemble import RandomForestRegressor\n",
    "\n",
    "model = RandomForestRegressor(n_estimators=300,max_depth=20,min_samples_split=5,random_state=42)\n",
    "\n",
    "# Best Parameters: {'max_depth': 20, 'min_samples_split': 5, 'n_estimators': 300}\n",
    "\n",
    "model.fit(X_train, y_train)"
   ],
   "metadata": {
    "collapsed": false,
    "ExecuteTime": {
     "end_time": "2024-04-02T15:39:12.484759Z",
     "start_time": "2024-04-02T15:35:57.179482Z"
    }
   },
   "id": "bb0cdff89a35f708",
   "execution_count": 137
  },
  {
   "cell_type": "code",
   "outputs": [
    {
     "name": "stdout",
     "output_type": "stream",
     "text": [
      "RMSE: 0.6371604889976829\n"
     ]
    }
   ],
   "source": [
    "from sklearn.metrics import mean_squared_error\n",
    "\n",
    "predictions = model.predict(X_test)\n",
    "mse = mean_squared_error(y_test, predictions)\n",
    "rmse = mse ** 0.5\n",
    "print(f\"RMSE: {rmse}\")\n"
   ],
   "metadata": {
    "collapsed": false,
    "ExecuteTime": {
     "end_time": "2024-04-02T15:39:13.361824Z",
     "start_time": "2024-04-02T15:39:12.485775Z"
    }
   },
   "id": "b2e098545a9faf14",
   "execution_count": 138
  },
  {
   "cell_type": "code",
   "outputs": [
    {
     "data": {
      "text/plain": "' from sklearn.model_selection import GridSearchCV\\nfrom sklearn.ensemble import RandomForestRegressor\\n\\nparam_grid = {\\n    \\'n_estimators\\': [100, 200, 300],\\n    \\'max_depth\\': [None, 10, 20],\\n    \\'min_samples_split\\': [2, 5, 10]\\n}\\n\\nrfr = RandomForestRegressor(random_state=42)\\ngrid_search = GridSearchCV(estimator=rfr, param_grid=param_grid, cv=5, scoring=\\'neg_mean_squared_error\\', n_jobs=-1)\\ngrid_search.fit(X_train, y_train)\\n\\nprint(f\"Best Parameters: {grid_search.best_params_}\")\\nbest_model = grid_search.best_estimator_ '"
     },
     "execution_count": 139,
     "metadata": {},
     "output_type": "execute_result"
    }
   ],
   "source": [
    "\"\"\" Grid Search\n",
    "from sklearn.model_selection import GridSearchCV\n",
    "from sklearn.ensemble import RandomForestRegressor\n",
    "\n",
    "param_grid = {\n",
    "    'n_estimators': [100, 200, 300],\n",
    "    'max_depth': [None, 10, 20],\n",
    "    'min_samples_split': [2, 5, 10]\n",
    "}\n",
    "\n",
    "rfr = RandomForestRegressor(random_state=42)\n",
    "grid_search = GridSearchCV(estimator=rfr, param_grid=param_grid, cv=5, scoring='neg_mean_squared_error', n_jobs=-1)\n",
    "grid_search.fit(X_train, y_train)\n",
    "\n",
    "print(f\"Best Parameters: {grid_search.best_params_}\")\n",
    "best_model = grid_search.best_estimator_ \"\"\"\n",
    "    "
   ],
   "metadata": {
    "collapsed": false,
    "ExecuteTime": {
     "end_time": "2024-04-02T15:39:13.364876Z",
     "start_time": "2024-04-02T15:39:13.362371Z"
    }
   },
   "id": "5064f484090e3213",
   "execution_count": 139
  },
  {
   "cell_type": "code",
   "outputs": [
    {
     "name": "stdout",
     "output_type": "stream",
     "text": [
      "Component 1: 0.5071708571691651\n",
      "Component 2: 0.2893992443039051\n",
      "Component 3: 0.18395953257695738\n",
      "Component 4: 0.004306359052942443\n",
      "Component 5: 0.002772341360208978\n",
      "Component 6: 0.001587767590103049\n",
      "Component 7: 0.0015079493417928126\n",
      "Component 8: 0.0013882801039167261\n",
      "Component 9: 0.0011548201087679653\n",
      "Component 10: 0.0007767924078272917\n",
      "Component 11: 0.0006285542951890048\n",
      "Component 12: 0.0004882423473837557\n",
      "Component 13: 0.0004574947090371079\n",
      "Component 14: 0.00044617256395036237\n",
      "Component 15: 0.00042432914631093953\n",
      "Component 16: 0.000415520806071345\n",
      "Component 17: 0.00039221379709826454\n",
      "Component 18: 0.00037050083123906\n",
      "Component 19: 0.00028409357319599226\n",
      "Component 20: 0.0002486062868790915\n",
      "Component 21: 0.0002095185991812946\n",
      "Component 22: 0.0001659284711307436\n",
      "Component 23: 0.000165209219744649\n",
      "Component 24: 0.00010049865131976033\n",
      "Component 25: 9.194724213922368e-05\n",
      "Component 26: 6.918848160067318e-05\n",
      "Component 27: 6.789883469762611e-05\n",
      "Component 28: 6.524286638253854e-05\n",
      "Component 29: 6.0434870560025724e-05\n",
      "Component 30: 5.835299574586681e-05\n",
      "Component 31: 5.6802204945727363e-05\n",
      "Component 32: 5.332623135632662e-05\n",
      "Component 33: 4.606013091175831e-05\n",
      "Component 34: 4.534695956424763e-05\n",
      "Component 35: 3.8507341963899474e-05\n",
      "Component 36: 3.6839945730381626e-05\n",
      "Component 37: 3.1909666260168397e-05\n",
      "Component 38: 3.089536203373917e-05\n",
      "Component 39: 2.978812730053222e-05\n",
      "Component 40: 2.9535564674336872e-05\n",
      "Component 41: 2.673355510625129e-05\n",
      "Component 42: 2.1783417469707117e-05\n",
      "Component 43: 1.625508054955748e-05\n",
      "Component 44: 1.4503474780119552e-05\n",
      "Component 45: 1.3758863672194795e-05\n",
      "Component 46: 1.3309272641518155e-05\n",
      "Component 47: 1.2382707732348366e-05\n",
      "Component 48: 1.1133790658143732e-05\n",
      "Component 49: 1.1077518221337933e-05\n",
      "Component 50: 9.715316659825734e-06\n",
      "Component 51: 9.51006399612436e-06\n",
      "Component 52: 8.871273723408853e-06\n",
      "Component 53: 8.813285599161167e-06\n",
      "Component 54: 7.84070320877052e-06\n",
      "Component 55: 7.764380771991984e-06\n",
      "Component 56: 7.241951882713863e-06\n",
      "Component 57: 6.996477531211468e-06\n",
      "Component 58: 6.921454647562727e-06\n",
      "Component 59: 6.685068812603271e-06\n",
      "Component 60: 6.428011971989556e-06\n",
      "Component 61: 5.872706390229931e-06\n",
      "Component 62: 5.716790498486918e-06\n",
      "Component 63: 5.392524831081872e-06\n",
      "Component 64: 5.064082851782439e-06\n",
      "Component 65: 4.921850107114027e-06\n",
      "Component 66: 4.793712143194044e-06\n",
      "Component 67: 4.313375779237019e-06\n",
      "Component 68: 4.283281568009045e-06\n",
      "Component 69: 4.131410184217689e-06\n",
      "Component 70: 3.996351853716755e-06\n",
      "Component 71: 3.441515340248317e-06\n",
      "Component 72: 3.3557926879434795e-06\n",
      "Component 73: 3.2600890826651092e-06\n",
      "Component 74: 3.0935136518766996e-06\n",
      "Component 75: 3.086665549511641e-06\n",
      "Component 76: 3.0779720790506895e-06\n",
      "Component 77: 2.9835938872698995e-06\n",
      "Component 78: 2.9575810139109525e-06\n",
      "Component 79: 2.916459002168825e-06\n",
      "Component 80: 2.8579929966606836e-06\n",
      "Component 81: 2.81257977192582e-06\n",
      "Component 82: 2.7993356720558676e-06\n",
      "Component 83: 2.6130709721517944e-06\n",
      "Component 84: 2.542394734517194e-06\n",
      "Component 85: 2.519799082589313e-06\n",
      "Component 86: 2.4986250422083346e-06\n",
      "Component 87: 2.444096679244228e-06\n",
      "Component 88: 2.3693623998368522e-06\n",
      "Component 89: 2.2975054119044883e-06\n",
      "Component 90: 2.1776665146236515e-06\n",
      "Component 91: 2.1703621726958545e-06\n",
      "Component 92: 2.137389928312884e-06\n",
      "Component 93: 2.0982927491032962e-06\n",
      "Component 94: 1.9712593799666097e-06\n",
      "Component 95: 1.970800255970233e-06\n",
      "Component 96: 1.9064492024770966e-06\n",
      "Component 97: 1.89887351255407e-06\n",
      "Component 98: 1.8624238840598481e-06\n",
      "Component 99: 1.8296497219844559e-06\n",
      "Component 100: 1.6246629449599339e-06\n",
      "Component 101: 1.5799056712514911e-06\n",
      "Component 102: 1.5328667098752815e-06\n",
      "Component 103: 1.5098430606219742e-06\n",
      "Component 104: 1.4131886266306966e-06\n",
      "Component 105: 1.3978458774500592e-06\n",
      "Component 106: 1.3900953433344e-06\n",
      "Component 107: 1.245684570762615e-06\n",
      "Component 108: 1.1111481327335008e-06\n",
      "Component 109: 8.282351330428275e-07\n",
      "Component 110: 8.255454020710944e-07\n",
      "Component 111: 6.111979212640186e-07\n",
      "Component 112: 4.6674380883971125e-07\n",
      "Component 113: 3.079696891489168e-07\n",
      "Component 114: 2.969875749146648e-07\n",
      "Component 115: 2.737727095833522e-07\n",
      "Component 116: 1.7032510017367606e-07\n",
      "Component 117: 7.768064982311494e-08\n",
      "Component 118: 7.417620800855907e-08\n",
      "Component 119: 6.904895540385726e-08\n",
      "Component 120: 5.3997922072890606e-08\n",
      "Component 121: 4.215152631519772e-08\n",
      "Component 122: 1.088324277840849e-08\n",
      "Component 123: 1.032049382601971e-08\n",
      "Component 124: 8.715317016178927e-09\n"
     ]
    }
   ],
   "source": [],
   "metadata": {
    "collapsed": false,
    "ExecuteTime": {
     "end_time": "2024-04-02T15:39:13.401834Z",
     "start_time": "2024-04-02T15:39:13.365801Z"
    }
   },
   "id": "eaf5e73cc64926",
   "execution_count": 140
  },
  {
   "cell_type": "code",
   "outputs": [
    {
     "name": "stdout",
     "output_type": "stream",
     "text": [
      "Principal Component 1:\n",
      "Position: 1.00\n",
      "Sector1Time: 0.00\n",
      "Sector3Time: 0.00\n",
      "Sector2Time: 0.00\n",
      "TyreLife: -0.00\n",
      "\n",
      "Principal Component 2:\n",
      "DriverNumber: 1.00\n",
      "LapNumber: 0.01\n",
      "Sector1Time: -0.01\n",
      "TyreLife: 0.01\n",
      "Sector2Time: -0.01\n",
      "\n",
      "Principal Component 3:\n",
      "LapNumber: 0.92\n",
      "TyreLife: 0.35\n",
      "Sector2Time: -0.10\n",
      "Sector1Time: -0.09\n",
      "Sector3Time: -0.08\n"
     ]
    }
   ],
   "source": [
    "]"
   ],
   "metadata": {
    "collapsed": false,
    "ExecuteTime": {
     "end_time": "2024-04-02T15:39:13.405641Z",
     "start_time": "2024-04-02T15:39:13.402680Z"
    }
   },
   "id": "7b203c8987108345",
   "execution_count": 141
  }
 ],
 "metadata": {
  "kernelspec": {
   "display_name": "Python 3 (ipykernel)",
   "language": "python",
   "name": "python3"
  },
  "language_info": {
   "codemirror_mode": {
    "name": "ipython",
    "version": 3
   },
   "file_extension": ".py",
   "mimetype": "text/x-python",
   "name": "python",
   "nbconvert_exporter": "python",
   "pygments_lexer": "ipython3",
   "version": "3.11.3"
  }
 },
 "nbformat": 4,
 "nbformat_minor": 5
}
