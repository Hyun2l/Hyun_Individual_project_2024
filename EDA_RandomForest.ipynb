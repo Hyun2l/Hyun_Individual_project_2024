{
 "cells": [
  {
   "cell_type": "code",
   "execution_count": null,
   "id": "initial_id",
   "metadata": {
    "is_executing": true
   },
   "outputs": [],
   "source": [
    "import sns\n",
    "from matplotlib import pyplot as plt\n",
    "import pandas as pd\n",
    "import numpy as np\n",
    "from sklearn.preprocessing import StandardScaler\n",
    "import seaborn as sns\n",
    "\n",
    "# Load dataset\n",
    "df = pd.read_csv('f1_2019_to_2022_all_drivers_all_data.csv', low_memory=False)\n",
    "\n",
    "# Convert 'LapTime' and sector times to seconds\n",
    "time_columns = ['LapTime', 'Sector1Time', 'Sector2Time', 'Sector3Time']\n",
    "for col in time_columns:\n",
    "    df[col] = pd.to_timedelta(df[col]).dt.total_seconds()\n",
    "\n",
    "# Handle missing values for sector times and speed features\n",
    "# You may need to keep the original 'Driver' and 'Circuit' for grouping before encoding\n",
    "df['Original_Driver'] = df['Driver']\n",
    "df['Original_Circuit'] = df['Circuit']\n",
    "\n",
    "# Encode Rainfall, FreshTyre, IsAccurate, and IsPersonalBest to integer\n",
    "df['Rainfall'] = df['Rainfall'].astype(int)\n",
    "df['FreshTyre'] = df['FreshTyre'].astype(int)\n",
    "df['IsAccurate'] = df['IsAccurate'].astype(int)\n",
    "\n",
    "# Drop columns not related to lap time prediction, Sector times are deleted since it is Laptime\n",
    "columns_to_drop = ['Time', 'LapStartTime', 'Sector1SessionTime', 'Sector2SessionTime', 'Sector3SessionTime',\n",
    "                   'PitOutTime', 'PitInTime', 'LapStartDate', 'Deleted', 'DeletedReason', 'FastF1Generated']\n",
    "\n",
    "df.drop(columns=columns_to_drop, inplace=True)\n",
    "\n",
    "# Remove outliers based on 'LapTime'\n",
    "Q1 = df['LapTime'].quantile(0.25)\n",
    "Q3 = df['LapTime'].quantile(0.75)\n",
    "IQR = Q3 - Q1\n",
    "lower_bound = Q1 - 1.5 * IQR\n",
    "upper_bound = Q3 + 1.5 * IQR\n",
    "df = df[(df['LapTime'] >= lower_bound) & (df['LapTime'] <= upper_bound)]\n",
    "\n",
    "\n",
    "# One-hot encoding\n",
    "df = pd.get_dummies(df, columns=['Driver', 'Circuit', 'Compound', 'Team'])\n",
    "\n",
    "\n",
    "# Standardize numeric features\n",
    "#numeric_features = ['SpeedI1', 'SpeedI2', 'SpeedFL', 'SpeedST', 'AirTemp', 'Humidity', 'Pressure', 'TrackTemp', 'WindDirection', 'WindSpeed']\n",
    "\n",
    "\n",
    "#scaler = StandardScaler()\n",
    "#X[numeric_features] = scaler.fit_transform(X[numeric_features])\n",
    "\n",
    "print(df.info(verbose=True))\n",
    "\n",
    "\n"
   ]
  },
  {
   "cell_type": "code",
   "execution_count": null,
   "id": "8dc8c77c8d18b759",
   "metadata": {
    "collapsed": false,
    "is_executing": true
   },
   "outputs": [],
   "source": [
    "# Check for NaN values in each column\n",
    "nan_counts = df.isna().sum()\n",
    "\n",
    "# Print columns with NaN count more than 0\n",
    "print(nan_counts[nan_counts >0])\n",
    "\n",
    "# After attempting to fill NaNs with group means\n",
    "df['Sector1Time'].fillna(df['Sector1Time'].mean(), inplace=True)\n",
    "df['Sector2Time'].fillna(df['Sector2Time'].mean(), inplace=True)\n",
    "df['Sector3Time'].fillna(df['Sector3Time'].mean(), inplace=True)\n",
    "df['SpeedI1'].fillna(df['SpeedI1'].mean(), inplace=True)\n",
    "df['SpeedI2'].fillna(df['SpeedI2'].mean(), inplace=True)\n",
    "df['SpeedFL'].fillna(df['SpeedFL'].mean(), inplace=True)\n",
    "df['SpeedST'].fillna(df['SpeedST'].mean(), inplace=True)\n",
    "\n",
    "\n",
    "# Check for NaN values in each column\n",
    "nan_counts = df.isna().sum()\n",
    "\n",
    "# Print columns with NaN count more than 0\n",
    "print(nan_counts[nan_counts >0])\n"
   ]
  },
  {
   "cell_type": "code",
   "outputs": [],
   "source": [
    "\n",
    "# Separate features and target\n",
    "X = df.drop(['LapTime'], axis=1)\n",
    "y = df['LapTime']\n"
   ],
   "metadata": {
    "collapsed": false,
    "is_executing": true
   },
   "id": "185136ac92ac8e1a"
  },
  {
   "cell_type": "code",
   "outputs": [
    {
     "ename": "NameError",
     "evalue": "name 'X' is not defined",
     "output_type": "error",
     "traceback": [
      "\u001B[0;31m---------------------------------------------------------------------------\u001B[0m",
      "\u001B[0;31mNameError\u001B[0m                                 Traceback (most recent call last)",
      "Cell \u001B[0;32mIn[1], line 5\u001B[0m\n\u001B[1;32m      2\u001B[0m \u001B[38;5;28;01mfrom\u001B[39;00m \u001B[38;5;21;01msklearn\u001B[39;00m\u001B[38;5;21;01m.\u001B[39;00m\u001B[38;5;21;01mmodel_selection\u001B[39;00m \u001B[38;5;28;01mimport\u001B[39;00m train_test_split\n\u001B[1;32m      4\u001B[0m \u001B[38;5;66;03m# Split Train and test set for a model\u001B[39;00m\n\u001B[0;32m----> 5\u001B[0m X_train, X_test, y_train, y_test \u001B[38;5;241m=\u001B[39m train_test_split(\u001B[43mX\u001B[49m, y, test_size\u001B[38;5;241m=\u001B[39m\u001B[38;5;241m0.2\u001B[39m, random_state\u001B[38;5;241m=\u001B[39m\u001B[38;5;241m42\u001B[39m)\n\u001B[1;32m      7\u001B[0m \u001B[38;5;66;03m# Remove Strings\u001B[39;00m\n\u001B[1;32m      8\u001B[0m X_train \u001B[38;5;241m=\u001B[39m X_train\u001B[38;5;241m.\u001B[39mdrop([\u001B[38;5;124m'\u001B[39m\u001B[38;5;124mOriginal_Driver\u001B[39m\u001B[38;5;124m'\u001B[39m, \u001B[38;5;124m'\u001B[39m\u001B[38;5;124mOriginal_Circuit\u001B[39m\u001B[38;5;124m'\u001B[39m], axis\u001B[38;5;241m=\u001B[39m \u001B[38;5;241m1\u001B[39m)\n",
      "\u001B[0;31mNameError\u001B[0m: name 'X' is not defined"
     ]
    }
   ],
   "source": [
    "from sklearn.ensemble import RandomForestRegressor\n",
    "from sklearn.model_selection import train_test_split\n",
    "\n",
    "# Split Train and test set for a model\n",
    "X_train, X_test, y_train, y_test = train_test_split(X, y, test_size=0.2, random_state=42)\n",
    "\n",
    "# Remove Strings\n",
    "X_train = X_train.drop(['Original_Driver', 'Original_Circuit'], axis= 1)\n",
    "\n",
    "#Fitting a RandomForest model\n",
    "\n",
    "model = RandomForestRegressor(n_estimators=100,max_depth=20,min_samples_split=5,random_state=42)\n",
    "# Best Parameters: {'max_depth': 20, 'min_samples_split': 5, 'n_estimators': 300}\n",
    "\n",
    "model.fit(X_train, y_train)"
   ],
   "metadata": {
    "collapsed": false,
    "ExecuteTime": {
     "end_time": "2024-04-11T16:10:20.158015Z",
     "start_time": "2024-04-11T16:10:19.853154Z"
    }
   },
   "id": "bb0cdff89a35f708",
   "execution_count": 1
  },
  {
   "cell_type": "code",
   "outputs": [],
   "source": [
    "from sklearn.metrics import mean_squared_error\n",
    "\n",
    "X_test = X_test.drop(['Original_Driver', 'Original_Circuit'], axis= 1)\n",
    "\n",
    "\n",
    "# Print RMSE value of the model\n",
    "predictions = model.predict(X_test)\n",
    "mse = mean_squared_error(y_test, predictions)\n",
    "rmse = mse ** 0.5\n",
    "print(f\"RMSE: {rmse}\")\n"
   ],
   "metadata": {
    "collapsed": false
   },
   "id": "b2e098545a9faf14",
   "execution_count": null
  },
  {
   "cell_type": "code",
   "outputs": [],
   "source": [
    "# Shows Important features\n",
    "\n",
    "importance = model.feature_importances_\n",
    "\n",
    "# Sort the feature importance\n",
    "sorted_indices = np.argsort(importance)[::-1]\n",
    "\n",
    "for index in sorted_indices:\n",
    "    print(f\"{X_train.columns[index]}: {importance[index]}\")\n"
   ],
   "metadata": {
    "collapsed": false
   },
   "id": "21087693e0a3fcd5",
   "execution_count": null
  },
  {
   "cell_type": "code",
   "outputs": [],
   "source": [],
   "metadata": {
    "collapsed": false
   },
   "id": "25fcd569baea050a",
   "execution_count": null
  },
  {
   "cell_type": "code",
   "outputs": [],
   "source": [],
   "metadata": {
    "collapsed": false
   },
   "id": "fe5d47fb00f692b3",
   "execution_count": null
  }
 ],
 "metadata": {
  "kernelspec": {
   "display_name": "Python 3 (ipykernel)",
   "language": "python",
   "name": "python3"
  },
  "language_info": {
   "codemirror_mode": {
    "name": "ipython",
    "version": 3
   },
   "file_extension": ".py",
   "mimetype": "text/x-python",
   "name": "python",
   "nbconvert_exporter": "python",
   "pygments_lexer": "ipython3",
   "version": "3.11.3"
  }
 },
 "nbformat": 4,
 "nbformat_minor": 5
}
