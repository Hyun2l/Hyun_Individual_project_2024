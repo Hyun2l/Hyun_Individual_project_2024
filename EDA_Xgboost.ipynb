{
 "cells": [
  {
   "cell_type": "code",
   "outputs": [
    {
     "name": "stdout",
     "output_type": "stream",
     "text": [
      "<class 'pandas.core.frame.DataFrame'>\n",
      "RangeIndex: 82418 entries, 0 to 82417\n",
      "Data columns (total 40 columns):\n",
      " #   Column              Non-Null Count  Dtype  \n",
      "---  ------              --------------  -----  \n",
      " 0   Time                82418 non-null  object \n",
      " 1   Driver              82418 non-null  object \n",
      " 2   DriverNumber        82418 non-null  int64  \n",
      " 3   LapTime             80808 non-null  object \n",
      " 4   LapNumber           82418 non-null  float64\n",
      " 5   Stint               82418 non-null  float64\n",
      " 6   PitOutTime          2660 non-null   object \n",
      " 7   PitInTime           2758 non-null   object \n",
      " 8   Sector1Time         80613 non-null  object \n",
      " 9   Sector2Time         82252 non-null  object \n",
      " 10  Sector3Time         82186 non-null  object \n",
      " 11  Sector1SessionTime  80415 non-null  object \n",
      " 12  Sector2SessionTime  82252 non-null  object \n",
      " 13  Sector3SessionTime  82186 non-null  object \n",
      " 14  SpeedI1             70615 non-null  float64\n",
      " 15  SpeedI2             82206 non-null  float64\n",
      " 16  SpeedFL             79518 non-null  float64\n",
      " 17  SpeedST             75935 non-null  float64\n",
      " 18  IsPersonalBest      82322 non-null  object \n",
      " 19  Compound            82418 non-null  object \n",
      " 20  TyreLife            82418 non-null  float64\n",
      " 21  FreshTyre           82418 non-null  bool   \n",
      " 22  Team                82418 non-null  object \n",
      " 23  LapStartTime        82418 non-null  object \n",
      " 24  LapStartDate        0 non-null      float64\n",
      " 25  TrackStatus         82322 non-null  float64\n",
      " 26  Position            82322 non-null  float64\n",
      " 27  Deleted             82418 non-null  bool   \n",
      " 28  DeletedReason       558 non-null    object \n",
      " 29  FastF1Generated     82418 non-null  bool   \n",
      " 30  IsAccurate          82418 non-null  bool   \n",
      " 31  AirTemp             82418 non-null  float64\n",
      " 32  Humidity            82418 non-null  float64\n",
      " 33  Pressure            82418 non-null  float64\n",
      " 34  Rainfall            82418 non-null  bool   \n",
      " 35  TrackTemp           82418 non-null  float64\n",
      " 36  WindDirection       82418 non-null  int64  \n",
      " 37  WindSpeed           82418 non-null  float64\n",
      " 38  Circuit             82418 non-null  object \n",
      " 39  Year                82418 non-null  int64  \n",
      "dtypes: bool(5), float64(15), int64(3), object(17)\n",
      "memory usage: 22.4+ MB\n"
     ]
    }
   ],
   "source": [
    "import pandas as pd\n",
    "import matplotlib.pyplot as plt\n",
    "import seaborn as sns\n",
    "import numpy as np\n",
    "\n",
    "df = pd.read_csv('f1_2019_to_2022_all_drivers_all_data.csv',low_memory=False)\n",
    "\n",
    "df.info()"
   ],
   "metadata": {
    "collapsed": false,
    "ExecuteTime": {
     "end_time": "2024-04-05T12:06:16.662516Z",
     "start_time": "2024-04-05T12:06:16.068560Z"
    }
   },
   "id": "2555390ecf7b6b4c",
   "execution_count": 13
  },
  {
   "cell_type": "code",
   "execution_count": 14,
   "id": "initial_id",
   "metadata": {
    "collapsed": true,
    "ExecuteTime": {
     "end_time": "2024-04-05T12:06:17.917416Z",
     "start_time": "2024-04-05T12:06:16.663609Z"
    }
   },
   "outputs": [
    {
     "name": "stdout",
     "output_type": "stream",
     "text": [
      "<class 'pandas.core.frame.DataFrame'>\n",
      "Int64Index: 79034 entries, 0 to 82417\n",
      "Data columns (total 113 columns):\n",
      " #    Column                               Dtype  \n",
      "---   ------                               -----  \n",
      " 0    DriverNumber                         int64  \n",
      " 1    LapNumber                            float64\n",
      " 2    Stint                                float64\n",
      " 3    Sector1Time                          float64\n",
      " 4    Sector2Time                          float64\n",
      " 5    Sector3Time                          float64\n",
      " 6    SpeedI1                              float64\n",
      " 7    SpeedI2                              float64\n",
      " 8    SpeedFL                              float64\n",
      " 9    SpeedST                              float64\n",
      " 10   TyreLife                             float64\n",
      " 11   FreshTyre                            int64  \n",
      " 12   TrackStatus                          float64\n",
      " 13   Position                             float64\n",
      " 14   IsAccurate                           int64  \n",
      " 15   AirTemp                              float64\n",
      " 16   Humidity                             float64\n",
      " 17   Pressure                             float64\n",
      " 18   Rainfall                             int64  \n",
      " 19   TrackTemp                            float64\n",
      " 20   WindDirection                        float64\n",
      " 21   WindSpeed                            float64\n",
      " 22   Year                                 int64  \n",
      " 23   Original_Driver                      object \n",
      " 24   Original_Circuit                     object \n",
      " 25   CumulativeRainfall                   int64  \n",
      " 26   RainfallChange                       float64\n",
      " 27   SpeedI1Change                        float64\n",
      " 28   TyreAge_TrackTemp                    float64\n",
      " 29   PositionChange                       float64\n",
      " 30   Driver_AIT                           uint8  \n",
      " 31   Driver_ALB                           uint8  \n",
      " 32   Driver_ALO                           uint8  \n",
      " 33   Driver_BOT                           uint8  \n",
      " 34   Driver_DEV                           uint8  \n",
      " 35   Driver_FIT                           uint8  \n",
      " 36   Driver_GAS                           uint8  \n",
      " 37   Driver_GIO                           uint8  \n",
      " 38   Driver_GRO                           uint8  \n",
      " 39   Driver_HAM                           uint8  \n",
      " 40   Driver_HUL                           uint8  \n",
      " 41   Driver_KUB                           uint8  \n",
      " 42   Driver_KVY                           uint8  \n",
      " 43   Driver_LAT                           uint8  \n",
      " 44   Driver_LEC                           uint8  \n",
      " 45   Driver_MAG                           uint8  \n",
      " 46   Driver_MAZ                           uint8  \n",
      " 47   Driver_MSC                           uint8  \n",
      " 48   Driver_NOR                           uint8  \n",
      " 49   Driver_OCO                           uint8  \n",
      " 50   Driver_PER                           uint8  \n",
      " 51   Driver_RAI                           uint8  \n",
      " 52   Driver_RIC                           uint8  \n",
      " 53   Driver_RUS                           uint8  \n",
      " 54   Driver_SAI                           uint8  \n",
      " 55   Driver_STR                           uint8  \n",
      " 56   Driver_TSU                           uint8  \n",
      " 57   Driver_VER                           uint8  \n",
      " 58   Driver_VET                           uint8  \n",
      " 59   Driver_ZHO                           uint8  \n",
      " 60   Circuit_70th Anniversary Grand Prix  uint8  \n",
      " 61   Circuit_Abu Dhabi Grand Prix         uint8  \n",
      " 62   Circuit_Australian Grand Prix        uint8  \n",
      " 63   Circuit_Austrian Grand Prix          uint8  \n",
      " 64   Circuit_Azerbaijan Grand Prix        uint8  \n",
      " 65   Circuit_Bahrain Grand Prix           uint8  \n",
      " 66   Circuit_Belgian Grand Prix           uint8  \n",
      " 67   Circuit_Brazilian Grand Prix         uint8  \n",
      " 68   Circuit_British Grand Prix           uint8  \n",
      " 69   Circuit_Canadian Grand Prix          uint8  \n",
      " 70   Circuit_Chinese Grand Prix           uint8  \n",
      " 71   Circuit_Dutch Grand Prix             uint8  \n",
      " 72   Circuit_Eifel Grand Prix             uint8  \n",
      " 73   Circuit_Emilia Romagna Grand Prix    uint8  \n",
      " 74   Circuit_French Grand Prix            uint8  \n",
      " 75   Circuit_German Grand Prix            uint8  \n",
      " 76   Circuit_Hungarian Grand Prix         uint8  \n",
      " 77   Circuit_Italian Grand Prix           uint8  \n",
      " 78   Circuit_Japanese Grand Prix          uint8  \n",
      " 79   Circuit_Mexican Grand Prix           uint8  \n",
      " 80   Circuit_Mexico City Grand Prix       uint8  \n",
      " 81   Circuit_Miami Grand Prix             uint8  \n",
      " 82   Circuit_Monaco Grand Prix            uint8  \n",
      " 83   Circuit_Portuguese Grand Prix        uint8  \n",
      " 84   Circuit_Qatar Grand Prix             uint8  \n",
      " 85   Circuit_Russian Grand Prix           uint8  \n",
      " 86   Circuit_Sakhir Grand Prix            uint8  \n",
      " 87   Circuit_Saudi Arabian Grand Prix     uint8  \n",
      " 88   Circuit_Singapore Grand Prix         uint8  \n",
      " 89   Circuit_Spanish Grand Prix           uint8  \n",
      " 90   Circuit_Styrian Grand Prix           uint8  \n",
      " 91   Circuit_Turkish Grand Prix           uint8  \n",
      " 92   Circuit_Tuscan Grand Prix            uint8  \n",
      " 93   Circuit_United States Grand Prix     uint8  \n",
      " 94   Compound_HARD                        uint8  \n",
      " 95   Compound_INTERMEDIATE                uint8  \n",
      " 96   Compound_MEDIUM                      uint8  \n",
      " 97   Compound_SOFT                        uint8  \n",
      " 98   Compound_WET                         uint8  \n",
      " 99   Team_Alfa Romeo                      uint8  \n",
      " 100  Team_Alfa Romeo Racing               uint8  \n",
      " 101  Team_AlphaTauri                      uint8  \n",
      " 102  Team_Alpine                          uint8  \n",
      " 103  Team_Aston Martin                    uint8  \n",
      " 104  Team_Ferrari                         uint8  \n",
      " 105  Team_Haas F1 Team                    uint8  \n",
      " 106  Team_McLaren                         uint8  \n",
      " 107  Team_Mercedes                        uint8  \n",
      " 108  Team_Racing Point                    uint8  \n",
      " 109  Team_Red Bull Racing                 uint8  \n",
      " 110  Team_Renault                         uint8  \n",
      " 111  Team_Toro Rosso                      uint8  \n",
      " 112  Team_Williams                        uint8  \n",
      "dtypes: float64(22), int64(6), object(2), uint8(83)\n",
      "memory usage: 24.9+ MB\n",
      "None\n"
     ]
    }
   ],
   "source": [
    "import pandas as pd\n",
    "import numpy as np\n",
    "from sklearn.preprocessing import StandardScaler\n",
    "\n",
    "# Load dataset\n",
    "df = pd.read_csv('f1_2019_to_2022_all_drivers_all_data.csv', low_memory=False)\n",
    "\n",
    "# Convert 'LapTime' and sector times to seconds\n",
    "time_columns = ['LapTime', 'Sector1Time', 'Sector2Time', 'Sector3Time']\n",
    "for col in time_columns:\n",
    "    df[col] = pd.to_timedelta(df[col]).dt.total_seconds()\n",
    "\n",
    "# Handle missing values for sector times and speed features\n",
    "# You may need to keep the original 'Driver' and 'Circuit' for grouping before encoding\n",
    "df['Original_Driver'] = df['Driver']\n",
    "df['Original_Circuit'] = df['Circuit']\n",
    "\n",
    "# Encode Rainfall, FreshTyre, IsAccurate, and IsPersonalBest to integer\n",
    "df['Rainfall'] = df['Rainfall'].astype(int)\n",
    "df['FreshTyre'] = df['FreshTyre'].astype(int)\n",
    "df['IsAccurate'] = df['IsAccurate'].astype(int)\n",
    "\n",
    "\n",
    "# Drop columns not related to lap time prediction, Sector times are deleted since it is Laptime\n",
    "columns_to_drop = ['Time', 'LapStartTime', 'Sector1SessionTime', 'Sector2SessionTime', 'Sector3SessionTime',\n",
    "                   'PitOutTime', 'PitInTime', 'LapStartDate', 'Deleted', 'DeletedReason', 'FastF1Generated','IsPersonalBest']\n",
    "\n",
    "df.drop(columns=columns_to_drop, inplace=True)\n",
    "\n",
    "# Remove outliers based on 'LapTime'\n",
    "Q1 = df['LapTime'].quantile(0.25)\n",
    "Q3 = df['LapTime'].quantile(0.75)\n",
    "IQR = Q3 - Q1\n",
    "lower_bound = Q1 - 1.5 * IQR\n",
    "upper_bound = Q3 + 1.5 * IQR\n",
    "df = df[(df['LapTime'] >= lower_bound) & (df['LapTime'] <= upper_bound)]\n",
    "\n",
    "\n",
    "# Feature Engineering: Weather Condition Aggregates, Track Characteristics, etc.\n",
    "# Example: Cumulative rainfall\n",
    "df['CumulativeRainfall'] = df.groupby(['Original_Circuit'])['Rainfall'].cumsum()\n",
    "\n",
    "# Weather condition changes\n",
    "df['TrackTemp'] = df['TrackTemp'].diff().fillna(0)\n",
    "df['RainfallChange'] = df['Rainfall'].diff().fillna(0)\n",
    "\n",
    "# Cumulative Rainfall\n",
    "df['CumulativeRainfall'] = df.groupby(['Year', 'DriverNumber'])['Rainfall'].cumsum()\n",
    "\n",
    "# Speed Changes\n",
    "df['SpeedI1Change'] = df['SpeedI1'].diff().fillna(0)\n",
    "\n",
    "# Tyre Age Interaction with TrackTemp\n",
    "df['TyreAge_TrackTemp'] = df['TyreLife'] * df['TrackTemp']\n",
    "\n",
    "# Relative Position Change\n",
    "df['PositionChange'] = df['Position'].diff().fillna(0).abs()\n",
    "\n",
    "# One-hot encoding\n",
    "df = pd.get_dummies(df, columns=['Driver', 'Circuit', 'Compound', 'Team'])\n",
    "\n",
    "# Separate features and target\n",
    "X = df.drop(['LapTime'], axis=1)\n",
    "y = df['LapTime']\n",
    "\n",
    "# Standardize numeric features\n",
    "numeric_features = ['SpeedI1', 'SpeedI2', 'SpeedFL', 'SpeedST', 'AirTemp', 'Humidity', 'Pressure', 'TrackTemp', 'WindDirection', 'WindSpeed']\n",
    "\n",
    "\n",
    "scaler = StandardScaler()\n",
    "X[numeric_features] = scaler.fit_transform(X[numeric_features])\n",
    "\n",
    "\n",
    "\n",
    "print(X.info(verbose=True))\n"
   ]
  },
  {
   "cell_type": "code",
   "outputs": [],
   "source": [],
   "metadata": {
    "collapsed": false,
    "ExecuteTime": {
     "end_time": "2024-04-05T12:06:17.919490Z",
     "start_time": "2024-04-05T12:06:17.918251Z"
    }
   },
   "id": "6441b53b19497832",
   "execution_count": 14
  },
  {
   "cell_type": "code",
   "outputs": [
    {
     "data": {
      "text/plain": "XGBRegressor(base_score=None, booster=None, callbacks=None,\n             colsample_bylevel=None, colsample_bynode=None,\n             colsample_bytree=None, device=None, early_stopping_rounds=None,\n             enable_categorical=False, eval_metric=None, feature_types=None,\n             gamma=None, grow_policy=None, importance_type=None,\n             interaction_constraints=None, learning_rate=0.05, max_bin=None,\n             max_cat_threshold=None, max_cat_to_onehot=None,\n             max_delta_step=None, max_depth=None, max_leaves=None,\n             min_child_weight=None, missing=nan, monotone_constraints=None,\n             multi_strategy=None, n_estimators=100, n_jobs=None,\n             num_parallel_tree=None, random_state=42, ...)",
      "text/html": "<style>#sk-container-id-1 {color: black;background-color: white;}#sk-container-id-1 pre{padding: 0;}#sk-container-id-1 div.sk-toggleable {background-color: white;}#sk-container-id-1 label.sk-toggleable__label {cursor: pointer;display: block;width: 100%;margin-bottom: 0;padding: 0.3em;box-sizing: border-box;text-align: center;}#sk-container-id-1 label.sk-toggleable__label-arrow:before {content: \"▸\";float: left;margin-right: 0.25em;color: #696969;}#sk-container-id-1 label.sk-toggleable__label-arrow:hover:before {color: black;}#sk-container-id-1 div.sk-estimator:hover label.sk-toggleable__label-arrow:before {color: black;}#sk-container-id-1 div.sk-toggleable__content {max-height: 0;max-width: 0;overflow: hidden;text-align: left;background-color: #f0f8ff;}#sk-container-id-1 div.sk-toggleable__content pre {margin: 0.2em;color: black;border-radius: 0.25em;background-color: #f0f8ff;}#sk-container-id-1 input.sk-toggleable__control:checked~div.sk-toggleable__content {max-height: 200px;max-width: 100%;overflow: auto;}#sk-container-id-1 input.sk-toggleable__control:checked~label.sk-toggleable__label-arrow:before {content: \"▾\";}#sk-container-id-1 div.sk-estimator input.sk-toggleable__control:checked~label.sk-toggleable__label {background-color: #d4ebff;}#sk-container-id-1 div.sk-label input.sk-toggleable__control:checked~label.sk-toggleable__label {background-color: #d4ebff;}#sk-container-id-1 input.sk-hidden--visually {border: 0;clip: rect(1px 1px 1px 1px);clip: rect(1px, 1px, 1px, 1px);height: 1px;margin: -1px;overflow: hidden;padding: 0;position: absolute;width: 1px;}#sk-container-id-1 div.sk-estimator {font-family: monospace;background-color: #f0f8ff;border: 1px dotted black;border-radius: 0.25em;box-sizing: border-box;margin-bottom: 0.5em;}#sk-container-id-1 div.sk-estimator:hover {background-color: #d4ebff;}#sk-container-id-1 div.sk-parallel-item::after {content: \"\";width: 100%;border-bottom: 1px solid gray;flex-grow: 1;}#sk-container-id-1 div.sk-label:hover label.sk-toggleable__label {background-color: #d4ebff;}#sk-container-id-1 div.sk-serial::before {content: \"\";position: absolute;border-left: 1px solid gray;box-sizing: border-box;top: 0;bottom: 0;left: 50%;z-index: 0;}#sk-container-id-1 div.sk-serial {display: flex;flex-direction: column;align-items: center;background-color: white;padding-right: 0.2em;padding-left: 0.2em;position: relative;}#sk-container-id-1 div.sk-item {position: relative;z-index: 1;}#sk-container-id-1 div.sk-parallel {display: flex;align-items: stretch;justify-content: center;background-color: white;position: relative;}#sk-container-id-1 div.sk-item::before, #sk-container-id-1 div.sk-parallel-item::before {content: \"\";position: absolute;border-left: 1px solid gray;box-sizing: border-box;top: 0;bottom: 0;left: 50%;z-index: -1;}#sk-container-id-1 div.sk-parallel-item {display: flex;flex-direction: column;z-index: 1;position: relative;background-color: white;}#sk-container-id-1 div.sk-parallel-item:first-child::after {align-self: flex-end;width: 50%;}#sk-container-id-1 div.sk-parallel-item:last-child::after {align-self: flex-start;width: 50%;}#sk-container-id-1 div.sk-parallel-item:only-child::after {width: 0;}#sk-container-id-1 div.sk-dashed-wrapped {border: 1px dashed gray;margin: 0 0.4em 0.5em 0.4em;box-sizing: border-box;padding-bottom: 0.4em;background-color: white;}#sk-container-id-1 div.sk-label label {font-family: monospace;font-weight: bold;display: inline-block;line-height: 1.2em;}#sk-container-id-1 div.sk-label-container {text-align: center;}#sk-container-id-1 div.sk-container {/* jupyter's `normalize.less` sets `[hidden] { display: none; }` but bootstrap.min.css set `[hidden] { display: none !important; }` so we also need the `!important` here to be able to override the default hidden behavior on the sphinx rendered scikit-learn.org. See: https://github.com/scikit-learn/scikit-learn/issues/21755 */display: inline-block !important;position: relative;}#sk-container-id-1 div.sk-text-repr-fallback {display: none;}</style><div id=\"sk-container-id-1\" class=\"sk-top-container\"><div class=\"sk-text-repr-fallback\"><pre>XGBRegressor(base_score=None, booster=None, callbacks=None,\n             colsample_bylevel=None, colsample_bynode=None,\n             colsample_bytree=None, device=None, early_stopping_rounds=None,\n             enable_categorical=False, eval_metric=None, feature_types=None,\n             gamma=None, grow_policy=None, importance_type=None,\n             interaction_constraints=None, learning_rate=0.05, max_bin=None,\n             max_cat_threshold=None, max_cat_to_onehot=None,\n             max_delta_step=None, max_depth=None, max_leaves=None,\n             min_child_weight=None, missing=nan, monotone_constraints=None,\n             multi_strategy=None, n_estimators=100, n_jobs=None,\n             num_parallel_tree=None, random_state=42, ...)</pre><b>In a Jupyter environment, please rerun this cell to show the HTML representation or trust the notebook. <br />On GitHub, the HTML representation is unable to render, please try loading this page with nbviewer.org.</b></div><div class=\"sk-container\" hidden><div class=\"sk-item\"><div class=\"sk-estimator sk-toggleable\"><input class=\"sk-toggleable__control sk-hidden--visually\" id=\"sk-estimator-id-1\" type=\"checkbox\" checked><label for=\"sk-estimator-id-1\" class=\"sk-toggleable__label sk-toggleable__label-arrow\">XGBRegressor</label><div class=\"sk-toggleable__content\"><pre>XGBRegressor(base_score=None, booster=None, callbacks=None,\n             colsample_bylevel=None, colsample_bynode=None,\n             colsample_bytree=None, device=None, early_stopping_rounds=None,\n             enable_categorical=False, eval_metric=None, feature_types=None,\n             gamma=None, grow_policy=None, importance_type=None,\n             interaction_constraints=None, learning_rate=0.05, max_bin=None,\n             max_cat_threshold=None, max_cat_to_onehot=None,\n             max_delta_step=None, max_depth=None, max_leaves=None,\n             min_child_weight=None, missing=nan, monotone_constraints=None,\n             multi_strategy=None, n_estimators=100, n_jobs=None,\n             num_parallel_tree=None, random_state=42, ...)</pre></div></div></div></div></div>"
     },
     "execution_count": 15,
     "metadata": {},
     "output_type": "execute_result"
    }
   ],
   "source": [
    "from sklearn.model_selection import train_test_split\n",
    "from xgboost import XGBRegressor\n",
    "\n",
    "\n",
    "X_train, X_test, y_train, y_test = train_test_split(X, y, test_size=0.2, random_state=42)\n",
    "\n",
    "# Remove Strings\n",
    "X_train = X_train.drop(['Original_Driver', 'Original_Circuit'], axis= 1)\n",
    "\n",
    "\n",
    "xgb = XGBRegressor(n_estimators=100, learning_rate=0.05, random_state=42)\n",
    "\n",
    "xgb.fit(X_train, y_train)\n"
   ],
   "metadata": {
    "collapsed": false,
    "ExecuteTime": {
     "end_time": "2024-04-05T12:06:18.655267Z",
     "start_time": "2024-04-05T12:06:17.920897Z"
    }
   },
   "id": "9800fd8354038119",
   "execution_count": 15
  },
  {
   "cell_type": "code",
   "outputs": [
    {
     "name": "stdout",
     "output_type": "stream",
     "text": [
      "RMSE: 0.9051369094383107\n"
     ]
    }
   ],
   "source": [
    "from sklearn.metrics import mean_squared_error\n",
    "\n",
    "X_test = X_test.drop(['Original_Driver', 'Original_Circuit'], axis= 1)\n",
    "\n",
    "\n",
    "# Print RMSE value of the model\n",
    "predictions = xgb.predict(X_test)\n",
    "mse = mean_squared_error(y_test, predictions)\n",
    "rmse = mse ** 0.5\n",
    "print(f\"RMSE: {rmse}\")\n"
   ],
   "metadata": {
    "collapsed": false,
    "ExecuteTime": {
     "end_time": "2024-04-05T12:07:50.942514Z",
     "start_time": "2024-04-05T12:07:50.918182Z"
    }
   },
   "id": "be702463c60e99b5",
   "execution_count": 24
  },
  {
   "cell_type": "code",
   "outputs": [
    {
     "data": {
      "text/plain": "<Figure size 640x480 with 1 Axes>",
      "image/png": "[encoded data removed]"
     },
     "metadata": {},
     "output_type": "display_data"
    }
   ],
   "source": [
    "predictions = xgb.predict(X_test)\n",
    "errors = y_test - predictions\n",
    "\n",
    "# Plotting error distribution\n",
    "plt.hist(errors, bins=25)\n",
    "plt.xlabel('Prediction Error')\n",
    "plt.ylabel('Frequency')\n",
    "plt.title('Prediction Error Distribution')\n",
    "plt.show()\n"
   ],
   "metadata": {
    "collapsed": false,
    "ExecuteTime": {
     "end_time": "2024-04-05T12:07:56.792139Z",
     "start_time": "2024-04-05T12:07:56.668021Z"
    }
   },
   "id": "af390d8da9d19bdb",
   "execution_count": 25
  },
  {
   "cell_type": "code",
   "outputs": [],
   "source": [],
   "metadata": {
    "collapsed": false
   },
   "id": "352933f60daeb6b8"
  }
 ],
 "metadata": {
  "kernelspec": {
   "display_name": "Python 3",
   "language": "python",
   "name": "python3"
  },
  "language_info": {
   "codemirror_mode": {
    "name": "ipython",
    "version": 2
   },
   "file_extension": ".py",
   "mimetype": "text/x-python",
   "name": "python",
   "nbconvert_exporter": "python",
   "pygments_lexer": "ipython2",
   "version": "2.7.6"
  }
 },
 "nbformat": 4,
 "nbformat_minor": 5
}
