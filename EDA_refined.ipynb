{
 "cells": [
  {
   "cell_type": "code",
   "execution_count": 87,
   "id": "initial_id",
   "metadata": {
    "collapsed": true,
    "ExecuteTime": {
     "end_time": "2024-04-02T15:12:27.420200Z",
     "start_time": "2024-04-02T15:12:26.158909Z"
    }
   },
   "outputs": [
    {
     "name": "stdout",
     "output_type": "stream",
     "text": [
      "<class 'pandas.core.frame.DataFrame'>\n",
      "Int64Index: 79034 entries, 0 to 82417\n",
      "Data columns (total 124 columns):\n",
      " #    Column                               Dtype  \n",
      "---   ------                               -----  \n",
      " 0    DriverNumber                         int64  \n",
      " 1    LapNumber                            float64\n",
      " 2    Stint                                float64\n",
      " 3    Sector1Time                          float64\n",
      " 4    Sector2Time                          float64\n",
      " 5    Sector3Time                          float64\n",
      " 6    SpeedI1                              float64\n",
      " 7    SpeedI2                              float64\n",
      " 8    SpeedFL                              float64\n",
      " 9    SpeedST                              float64\n",
      " 10   IsPersonalBest                       int64  \n",
      " 11   TyreLife                             float64\n",
      " 12   FreshTyre                            int64  \n",
      " 13   Position                             float64\n",
      " 14   IsAccurate                           int64  \n",
      " 15   AirTemp                              float64\n",
      " 16   Humidity                             float64\n",
      " 17   Pressure                             float64\n",
      " 18   Rainfall                             int64  \n",
      " 19   TrackTemp                            float64\n",
      " 20   WindDirection                        int64  \n",
      " 21   WindSpeed                            float64\n",
      " 22   Year                                 int64  \n",
      " 23   Driver_AIT                           uint8  \n",
      " 24   Driver_ALB                           uint8  \n",
      " 25   Driver_ALO                           uint8  \n",
      " 26   Driver_BOT                           uint8  \n",
      " 27   Driver_DEV                           uint8  \n",
      " 28   Driver_FIT                           uint8  \n",
      " 29   Driver_GAS                           uint8  \n",
      " 30   Driver_GIO                           uint8  \n",
      " 31   Driver_GRO                           uint8  \n",
      " 32   Driver_HAM                           uint8  \n",
      " 33   Driver_HUL                           uint8  \n",
      " 34   Driver_KUB                           uint8  \n",
      " 35   Driver_KVY                           uint8  \n",
      " 36   Driver_LAT                           uint8  \n",
      " 37   Driver_LEC                           uint8  \n",
      " 38   Driver_MAG                           uint8  \n",
      " 39   Driver_MAZ                           uint8  \n",
      " 40   Driver_MSC                           uint8  \n",
      " 41   Driver_NOR                           uint8  \n",
      " 42   Driver_OCO                           uint8  \n",
      " 43   Driver_PER                           uint8  \n",
      " 44   Driver_RAI                           uint8  \n",
      " 45   Driver_RIC                           uint8  \n",
      " 46   Driver_RUS                           uint8  \n",
      " 47   Driver_SAI                           uint8  \n",
      " 48   Driver_STR                           uint8  \n",
      " 49   Driver_TSU                           uint8  \n",
      " 50   Driver_VER                           uint8  \n",
      " 51   Driver_VET                           uint8  \n",
      " 52   Driver_ZHO                           uint8  \n",
      " 53   Circuit_70th Anniversary Grand Prix  uint8  \n",
      " 54   Circuit_Abu Dhabi Grand Prix         uint8  \n",
      " 55   Circuit_Australian Grand Prix        uint8  \n",
      " 56   Circuit_Austrian Grand Prix          uint8  \n",
      " 57   Circuit_Azerbaijan Grand Prix        uint8  \n",
      " 58   Circuit_Bahrain Grand Prix           uint8  \n",
      " 59   Circuit_Belgian Grand Prix           uint8  \n",
      " 60   Circuit_Brazilian Grand Prix         uint8  \n",
      " 61   Circuit_British Grand Prix           uint8  \n",
      " 62   Circuit_Canadian Grand Prix          uint8  \n",
      " 63   Circuit_Chinese Grand Prix           uint8  \n",
      " 64   Circuit_Dutch Grand Prix             uint8  \n",
      " 65   Circuit_Eifel Grand Prix             uint8  \n",
      " 66   Circuit_Emilia Romagna Grand Prix    uint8  \n",
      " 67   Circuit_French Grand Prix            uint8  \n",
      " 68   Circuit_German Grand Prix            uint8  \n",
      " 69   Circuit_Hungarian Grand Prix         uint8  \n",
      " 70   Circuit_Italian Grand Prix           uint8  \n",
      " 71   Circuit_Japanese Grand Prix          uint8  \n",
      " 72   Circuit_Mexican Grand Prix           uint8  \n",
      " 73   Circuit_Mexico City Grand Prix       uint8  \n",
      " 74   Circuit_Miami Grand Prix             uint8  \n",
      " 75   Circuit_Monaco Grand Prix            uint8  \n",
      " 76   Circuit_Portuguese Grand Prix        uint8  \n",
      " 77   Circuit_Qatar Grand Prix             uint8  \n",
      " 78   Circuit_Russian Grand Prix           uint8  \n",
      " 79   Circuit_Sakhir Grand Prix            uint8  \n",
      " 80   Circuit_Saudi Arabian Grand Prix     uint8  \n",
      " 81   Circuit_Singapore Grand Prix         uint8  \n",
      " 82   Circuit_Spanish Grand Prix           uint8  \n",
      " 83   Circuit_Styrian Grand Prix           uint8  \n",
      " 84   Circuit_Turkish Grand Prix           uint8  \n",
      " 85   Circuit_Tuscan Grand Prix            uint8  \n",
      " 86   Circuit_United States Grand Prix     uint8  \n",
      " 87   Compound_HARD                        uint8  \n",
      " 88   Compound_INTERMEDIATE                uint8  \n",
      " 89   Compound_MEDIUM                      uint8  \n",
      " 90   Compound_SOFT                        uint8  \n",
      " 91   Compound_WET                         uint8  \n",
      " 92   Team_Alfa Romeo                      uint8  \n",
      " 93   Team_Alfa Romeo Racing               uint8  \n",
      " 94   Team_AlphaTauri                      uint8  \n",
      " 95   Team_Alpine                          uint8  \n",
      " 96   Team_Aston Martin                    uint8  \n",
      " 97   Team_Ferrari                         uint8  \n",
      " 98   Team_Haas F1 Team                    uint8  \n",
      " 99   Team_McLaren                         uint8  \n",
      " 100  Team_Mercedes                        uint8  \n",
      " 101  Team_Racing Point                    uint8  \n",
      " 102  Team_Red Bull Racing                 uint8  \n",
      " 103  Team_Renault                         uint8  \n",
      " 104  Team_Toro Rosso                      uint8  \n",
      " 105  Team_Williams                        uint8  \n",
      " 106  TrackStatus_1.0                      uint8  \n",
      " 107  TrackStatus_2.0                      uint8  \n",
      " 108  TrackStatus_4.0                      uint8  \n",
      " 109  TrackStatus_5.0                      uint8  \n",
      " 110  TrackStatus_6.0                      uint8  \n",
      " 111  TrackStatus_7.0                      uint8  \n",
      " 112  TrackStatus_24.0                     uint8  \n",
      " 113  TrackStatus_26.0                     uint8  \n",
      " 114  TrackStatus_42.0                     uint8  \n",
      " 115  TrackStatus_45.0                     uint8  \n",
      " 116  TrackStatus_64.0                     uint8  \n",
      " 117  TrackStatus_67.0                     uint8  \n",
      " 118  TrackStatus_72.0                     uint8  \n",
      " 119  TrackStatus_264.0                    uint8  \n",
      " 120  TrackStatus_267.0                    uint8  \n",
      " 121  TrackStatus_672.0                    uint8  \n",
      " 122  TrackStatus_724.0                    uint8  \n",
      " 123  TrackStatus_6724.0                   uint8  \n",
      "dtypes: float64(16), int64(7), uint8(101)\n",
      "memory usage: 22.1 MB\n",
      "None\n"
     ]
    }
   ],
   "source": [
    "import pandas as pd\n",
    "import matplotlib.pyplot as plt\n",
    "import seaborn as sns\n",
    "import numpy as np\n",
    "\n",
    "df = pd.read_csv('f1_2019_to_2022_all_drivers_all_data.csv',low_memory=False) # it's for 2019 to 2022 <- Train \n",
    "\n",
    "#Change to numerical values\n",
    "df['LapTime'] = pd.to_timedelta(df['LapTime']).dt.total_seconds()\n",
    "\n",
    "columns_to_check = ['Position', 'IsPersonalBest', 'TrackStatus']\n",
    "df = df.dropna(subset=columns_to_check)\n",
    "\n",
    "\n",
    "# Change strings to integer\n",
    "df['Sector1Time'] = pd.to_timedelta(df['Sector1Time']).dt.total_seconds()\n",
    "df['Sector2Time'] = pd.to_timedelta(df['Sector2Time']).dt.total_seconds()\n",
    "df['Sector3Time'] = pd.to_timedelta(df['Sector3Time']).dt.total_seconds()\n",
    "\n",
    "\n",
    "df['Rainfall'] = df['Rainfall'].astype(int) # Encode Rainfall To integer\n",
    "df['FreshTyre'] = df['FreshTyre'].astype(int) # Encode FreshTyre To integer\n",
    "df['IsAccurate'] = df['IsAccurate'].astype(int)\n",
    "df[\"IsPersonalBest\"] = df['IsPersonalBest'].astype(int)\n",
    "\n",
    "\n",
    "\n",
    "#Drop non-related features \n",
    "columns_to_drop = [\n",
    "    'Time', 'LapStartTime',\n",
    "    'Sector1SessionTime', 'Sector2SessionTime', 'Sector3SessionTime',\n",
    "    'PitOutTime', 'PitInTime',\n",
    "    'LapStartDate', 'Deleted', 'DeletedReason',\n",
    "    'FastF1Generated'\n",
    "]\n",
    "df = df.drop(columns=columns_to_drop)\n",
    "\n",
    "\n",
    "Q1 = df['LapTime'].quantile(0.25)\n",
    "Q3 = df['LapTime'].quantile(0.75)\n",
    "IQR = Q3 - Q1\n",
    "\n",
    "# Determine bounds for outliers\n",
    "lower_bound = Q1 - 1.5 * IQR\n",
    "upper_bound = Q3 + 1.5 * IQR\n",
    "\n",
    "# Identify outliers\n",
    "outliers = df[(df['LapTime'] < lower_bound) | (df['LapTime'] > upper_bound)]\n",
    "\n",
    "#  Remove outliers from the DataFrame\n",
    "\n",
    "df = df[(df['LapTime'] >= lower_bound) & (df['LapTime'] <= upper_bound)]\n",
    "\n",
    "#One hot encoding\n",
    "df = pd.get_dummies(df, columns=['Driver', 'Circuit','Compound','Team','TrackStatus',])\n",
    "\n",
    "# In case of Standardization\n",
    "numeric_features = ['SpeedI1', 'SpeedI2', 'SpeedFL', 'SpeedST', 'AirTemp', 'Humidity', 'Pressure', 'TrackTemp', 'WindDirection', 'WindSpeed',]\n",
    "\n",
    "df = df.dropna(subset=['LapTime'])\n",
    "\n",
    "X = df.drop(['LapTime'], axis=1) # Exclude response variable ('LapTime') \n",
    "\n",
    "y = df['LapTime']\n",
    "\n",
    "print(X.info(verbose=True))"
   ]
  },
  {
   "cell_type": "code",
   "outputs": [],
   "source": [
    "from sklearn.model_selection import train_test_split\n",
    "\n",
    "X_train, X_test, y_train, y_test = train_test_split(X, y, test_size=0.2, random_state=42)"
   ],
   "metadata": {
    "collapsed": false,
    "ExecuteTime": {
     "end_time": "2024-04-02T15:12:29.580448Z",
     "start_time": "2024-04-02T15:12:29.540133Z"
    }
   },
   "id": "9800fd8354038119",
   "execution_count": 88
  },
  {
   "cell_type": "code",
   "outputs": [
    {
     "data": {
      "text/plain": "XGBRegressor(base_score=None, booster=None, callbacks=None,\n             colsample_bylevel=None, colsample_bynode=None,\n             colsample_bytree=None, device=None, early_stopping_rounds=None,\n             enable_categorical=False, eval_metric=None, feature_types=None,\n             gamma=None, grow_policy=None, importance_type=None,\n             interaction_constraints=None, learning_rate=0.05, max_bin=None,\n             max_cat_threshold=None, max_cat_to_onehot=None,\n             max_delta_step=None, max_depth=None, max_leaves=None,\n             min_child_weight=None, missing=nan, monotone_constraints=None,\n             multi_strategy=None, n_estimators=100, n_jobs=None,\n             num_parallel_tree=None, random_state=42, ...)",
      "text/html": "<style>#sk-container-id-14 {color: black;background-color: white;}#sk-container-id-14 pre{padding: 0;}#sk-container-id-14 div.sk-toggleable {background-color: white;}#sk-container-id-14 label.sk-toggleable__label {cursor: pointer;display: block;width: 100%;margin-bottom: 0;padding: 0.3em;box-sizing: border-box;text-align: center;}#sk-container-id-14 label.sk-toggleable__label-arrow:before {content: \"▸\";float: left;margin-right: 0.25em;color: #696969;}#sk-container-id-14 label.sk-toggleable__label-arrow:hover:before {color: black;}#sk-container-id-14 div.sk-estimator:hover label.sk-toggleable__label-arrow:before {color: black;}#sk-container-id-14 div.sk-toggleable__content {max-height: 0;max-width: 0;overflow: hidden;text-align: left;background-color: #f0f8ff;}#sk-container-id-14 div.sk-toggleable__content pre {margin: 0.2em;color: black;border-radius: 0.25em;background-color: #f0f8ff;}#sk-container-id-14 input.sk-toggleable__control:checked~div.sk-toggleable__content {max-height: 200px;max-width: 100%;overflow: auto;}#sk-container-id-14 input.sk-toggleable__control:checked~label.sk-toggleable__label-arrow:before {content: \"▾\";}#sk-container-id-14 div.sk-estimator input.sk-toggleable__control:checked~label.sk-toggleable__label {background-color: #d4ebff;}#sk-container-id-14 div.sk-label input.sk-toggleable__control:checked~label.sk-toggleable__label {background-color: #d4ebff;}#sk-container-id-14 input.sk-hidden--visually {border: 0;clip: rect(1px 1px 1px 1px);clip: rect(1px, 1px, 1px, 1px);height: 1px;margin: -1px;overflow: hidden;padding: 0;position: absolute;width: 1px;}#sk-container-id-14 div.sk-estimator {font-family: monospace;background-color: #f0f8ff;border: 1px dotted black;border-radius: 0.25em;box-sizing: border-box;margin-bottom: 0.5em;}#sk-container-id-14 div.sk-estimator:hover {background-color: #d4ebff;}#sk-container-id-14 div.sk-parallel-item::after {content: \"\";width: 100%;border-bottom: 1px solid gray;flex-grow: 1;}#sk-container-id-14 div.sk-label:hover label.sk-toggleable__label {background-color: #d4ebff;}#sk-container-id-14 div.sk-serial::before {content: \"\";position: absolute;border-left: 1px solid gray;box-sizing: border-box;top: 0;bottom: 0;left: 50%;z-index: 0;}#sk-container-id-14 div.sk-serial {display: flex;flex-direction: column;align-items: center;background-color: white;padding-right: 0.2em;padding-left: 0.2em;position: relative;}#sk-container-id-14 div.sk-item {position: relative;z-index: 1;}#sk-container-id-14 div.sk-parallel {display: flex;align-items: stretch;justify-content: center;background-color: white;position: relative;}#sk-container-id-14 div.sk-item::before, #sk-container-id-14 div.sk-parallel-item::before {content: \"\";position: absolute;border-left: 1px solid gray;box-sizing: border-box;top: 0;bottom: 0;left: 50%;z-index: -1;}#sk-container-id-14 div.sk-parallel-item {display: flex;flex-direction: column;z-index: 1;position: relative;background-color: white;}#sk-container-id-14 div.sk-parallel-item:first-child::after {align-self: flex-end;width: 50%;}#sk-container-id-14 div.sk-parallel-item:last-child::after {align-self: flex-start;width: 50%;}#sk-container-id-14 div.sk-parallel-item:only-child::after {width: 0;}#sk-container-id-14 div.sk-dashed-wrapped {border: 1px dashed gray;margin: 0 0.4em 0.5em 0.4em;box-sizing: border-box;padding-bottom: 0.4em;background-color: white;}#sk-container-id-14 div.sk-label label {font-family: monospace;font-weight: bold;display: inline-block;line-height: 1.2em;}#sk-container-id-14 div.sk-label-container {text-align: center;}#sk-container-id-14 div.sk-container {/* jupyter's `normalize.less` sets `[hidden] { display: none; }` but bootstrap.min.css set `[hidden] { display: none !important; }` so we also need the `!important` here to be able to override the default hidden behavior on the sphinx rendered scikit-learn.org. See: https://github.com/scikit-learn/scikit-learn/issues/21755 */display: inline-block !important;position: relative;}#sk-container-id-14 div.sk-text-repr-fallback {display: none;}</style><div id=\"sk-container-id-14\" class=\"sk-top-container\"><div class=\"sk-text-repr-fallback\"><pre>XGBRegressor(base_score=None, booster=None, callbacks=None,\n             colsample_bylevel=None, colsample_bynode=None,\n             colsample_bytree=None, device=None, early_stopping_rounds=None,\n             enable_categorical=False, eval_metric=None, feature_types=None,\n             gamma=None, grow_policy=None, importance_type=None,\n             interaction_constraints=None, learning_rate=0.05, max_bin=None,\n             max_cat_threshold=None, max_cat_to_onehot=None,\n             max_delta_step=None, max_depth=None, max_leaves=None,\n             min_child_weight=None, missing=nan, monotone_constraints=None,\n             multi_strategy=None, n_estimators=100, n_jobs=None,\n             num_parallel_tree=None, random_state=42, ...)</pre><b>In a Jupyter environment, please rerun this cell to show the HTML representation or trust the notebook. <br />On GitHub, the HTML representation is unable to render, please try loading this page with nbviewer.org.</b></div><div class=\"sk-container\" hidden><div class=\"sk-item\"><div class=\"sk-estimator sk-toggleable\"><input class=\"sk-toggleable__control sk-hidden--visually\" id=\"sk-estimator-id-14\" type=\"checkbox\" checked><label for=\"sk-estimator-id-14\" class=\"sk-toggleable__label sk-toggleable__label-arrow\">XGBRegressor</label><div class=\"sk-toggleable__content\"><pre>XGBRegressor(base_score=None, booster=None, callbacks=None,\n             colsample_bylevel=None, colsample_bynode=None,\n             colsample_bytree=None, device=None, early_stopping_rounds=None,\n             enable_categorical=False, eval_metric=None, feature_types=None,\n             gamma=None, grow_policy=None, importance_type=None,\n             interaction_constraints=None, learning_rate=0.05, max_bin=None,\n             max_cat_threshold=None, max_cat_to_onehot=None,\n             max_delta_step=None, max_depth=None, max_leaves=None,\n             min_child_weight=None, missing=nan, monotone_constraints=None,\n             multi_strategy=None, n_estimators=100, n_jobs=None,\n             num_parallel_tree=None, random_state=42, ...)</pre></div></div></div></div></div>"
     },
     "execution_count": 89,
     "metadata": {},
     "output_type": "execute_result"
    }
   ],
   "source": [
    "from xgboost import XGBRegressor\n",
    "\n",
    "xgb = XGBRegressor(n_estimators=100, learning_rate=0.05, random_state=42)\n",
    "\n",
    "\n",
    "X_train = X_train.drop(['TrackTemp'], axis= 1)\n",
    "\n",
    "\n",
    "xgb.fit(X_train, y_train)\n"
   ],
   "metadata": {
    "collapsed": false,
    "ExecuteTime": {
     "end_time": "2024-04-02T15:12:32.341292Z",
     "start_time": "2024-04-02T15:12:31.466806Z"
    }
   },
   "id": "b6208e8681864eda",
   "execution_count": 89
  },
  {
   "cell_type": "code",
   "outputs": [
    {
     "name": "stdout",
     "output_type": "stream",
     "text": [
      "Mean CV RMSE: 2.673095050639977\n"
     ]
    }
   ],
   "source": [
    "from sklearn.model_selection import cross_val_score\n",
    "\n",
    "scores = cross_val_score(xgb, X, y, cv=5, scoring='neg_mean_squared_error')\n",
    "print(f\"Mean CV RMSE: {np.mean(np.sqrt(-scores))}\")\n"
   ],
   "metadata": {
    "collapsed": false,
    "ExecuteTime": {
     "end_time": "2024-04-02T15:12:37.768591Z",
     "start_time": "2024-04-02T15:12:33.900354Z"
    }
   },
   "id": "be702463c60e99b5",
   "execution_count": 90
  },
  {
   "cell_type": "code",
   "outputs": [],
   "source": [],
   "metadata": {
    "collapsed": false
   },
   "id": "af390d8da9d19bdb",
   "execution_count": null
  }
 ],
 "metadata": {
  "kernelspec": {
   "display_name": "Python 3",
   "language": "python",
   "name": "python3"
  },
  "language_info": {
   "codemirror_mode": {
    "name": "ipython",
    "version": 2
   },
   "file_extension": ".py",
   "mimetype": "text/x-python",
   "name": "python",
   "nbconvert_exporter": "python",
   "pygments_lexer": "ipython2",
   "version": "2.7.6"
  }
 },
 "nbformat": 4,
 "nbformat_minor": 5
}
